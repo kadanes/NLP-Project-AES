{
  "nbformat": 4,
  "nbformat_minor": 0,
  "metadata": {
    "colab": {
      "name": "age_models.ipynb",
      "provenance": []
    },
    "kernelspec": {
      "name": "python3",
      "display_name": "Python 3"
    }
  },
  "cells": [
    {
      "cell_type": "code",
      "metadata": {
        "id": "h6cde43y3kA6",
        "colab_type": "code",
        "colab": {}
      },
      "source": [
        "from requirements import *\n",
        "from visualize import *\n",
        "from preprocess import *\n",
        "from feature_extraction import *"
      ],
      "execution_count": 0,
      "outputs": []
    },
    {
      "cell_type": "markdown",
      "metadata": {
        "id": "ieWQP4oZ3gxT",
        "colab_type": "text"
      },
      "source": [
        "Dataset"
      ]
    },
    {
      "cell_type": "code",
      "metadata": {
        "id": "o44Iiuji3Ph4",
        "colab_type": "code",
        "colab": {}
      },
      "source": [
        "data = preprocess()\n",
        "essays, age, original_data, age_label = prepare_age(0, [], [], [], [])\n",
        "essays, age, original_data, age_label = prepare_age(40000, essays, age, original_data, age_label)\n",
        "essays, age, original_data, age_label = prepare_age(80000, essays, age, original_data, age_label)\n",
        "essays, age, original_data, age_label = prepare_age(120000, essays, age, original_data, age_label)\n",
        "essays, age, original_data, age_label = prepare_age(160000, essays, age, original_data, age_label)\n",
        "essays, age, original_data, age_label = prepare_age(200000, essays, age, original_data, age_label)\n",
        "essays, age, original_data, age_label = prepare_age(240000, essays, age, original_data, age_label)\n",
        "essays, age, original_data, age_label = prepare_age(280000, essays, age, original_data, age_label)\n",
        "essays, age, original_data, age_label = prepare_age(320000, essays, age, original_data, age_label)"
      ],
      "execution_count": 0,
      "outputs": []
    },
    {
      "cell_type": "markdown",
      "metadata": {
        "id": "wveMBgxp5XdU",
        "colab_type": "text"
      },
      "source": [
        "Dataset summary:"
      ]
    },
    {
      "cell_type": "code",
      "metadata": {
        "id": "wT8KBnOu5ZWr",
        "colab_type": "code",
        "colab": {}
      },
      "source": [
        "c13, c14, c15, c16, c1, c2 = age_summary(essays, age, 0, 0, 0, 0, 0, 0)\n",
        "print('Number of entries', len(age))\n",
        "\n",
        "print('13', c13, 'Percent of data', c13/len(age))\n",
        "print('14', c14, 'Percent of data', c14/len(age))\n",
        "print('15', c15, 'Percent of data', c15/len(age))\n",
        "print('16', c16, 'Percent of data', c16/len(age))\n",
        "print('\\n')\n",
        "\n",
        "print('13-14', c1, 'Percent of data', c1/len(age_label))\n",
        "print('15-16', c2, 'Percent of data', c2/len(age_label))"
      ],
      "execution_count": 0,
      "outputs": []
    },
    {
      "cell_type": "markdown",
      "metadata": {
        "id": "WEm2IGlm516x",
        "colab_type": "text"
      },
      "source": [
        "Using POS features:"
      ]
    },
    {
      "cell_type": "code",
      "metadata": {
        "id": "YX0MJiZFV0xz",
        "colab_type": "code",
        "outputId": "c1c6fe4b-63e7-407a-cb33-ba430979b125",
        "colab": {
          "base_uri": "https://localhost:8080/",
          "height": 191
        }
      },
      "source": [
        "###------SVM WITH POS_FEATURES-------\n",
        "import sklearn\n",
        "\n",
        "\n",
        "classifier = OneVsRestClassifier(SVC(class_weight={0: 2, 1:1}))\n",
        "batches = [0,40000,80000,120000,160000,200000,240000,280000,320000]\n",
        "acc = 0\n",
        "for i in batches:\n",
        "  essays, age, original_data, age_label = prepare_age(i, [], [], [], [])\n",
        "\n",
        "  pos_features = POS(essays)\n",
        "  length = len(essays)\n",
        "  trainlength = round(0.8*length)\n",
        "  features = pos_features\n",
        "  Xtrain = np.asarray(features[:trainlength])\n",
        "  Ytrain = np.asarray(age_label[:trainlength])\n",
        "\n",
        "  classifier.fit(Xtrain, Ytrain)\n",
        "#Xtrain = Xtrain.reshape(-1, 1)\n",
        "\n",
        "  Xtest = np.asarray(features[trainlength:])\n",
        "  Ytest = np.asarray(age_label[trainlength:])\n",
        "\n",
        "#Xtest = Xtest.reshape(-1, 1)\n",
        "\n",
        "  pred = classifier.predict(Xtest)\n",
        "  acc += accuracy_score(Ytest, pred)\n",
        "\n",
        "  print('Batch', batches.index(i), ':',accuracy_score(Ytest, pred))\n",
        "print('Overall accuracy:', acc/len(batches))"
      ],
      "execution_count": 0,
      "outputs": [
        {
          "output_type": "stream",
          "text": [
            "Batch 0 : 0.7374517374517374\n",
            "Batch 1 : 0.7269662921348314\n",
            "Batch 2 : 0.7342419080068143\n",
            "Batch 3 : 0.7471655328798186\n",
            "Batch 4 : 0.7403409090909091\n",
            "Batch 5 : 0.7379619260918253\n",
            "Batch 6 : 0.7283398546674119\n",
            "Batch 7 : 0.7323462414578588\n",
            "Batch 8 : 0.7139664804469273\n",
            "Overall accuracy: 0.733197875803126\n"
          ],
          "name": "stdout"
        }
      ]
    },
    {
      "cell_type": "code",
      "metadata": {
        "colab_type": "code",
        "outputId": "ca42a2ed-ffaf-4088-8cb0-03340843baed",
        "id": "woqRLzGh59x5",
        "colab": {
          "base_uri": "https://localhost:8080/",
          "height": 191
        }
      },
      "source": [
        "###-----KNN WITH POS_FEATURES---------\n",
        "\n",
        "clf = neighbors.KNeighborsClassifier(75)\n",
        "\n",
        "batches = [0,40000,80000,120000,160000,200000,240000,280000,320000]\n",
        "acc = 0\n",
        "for i in batches:\n",
        "  essays, age, original_data, age_label = prepare_age(i, [], [], [], [])\n",
        "  pos_features = POS(essays)\n",
        "  length = len(pos_features)\n",
        "  trainlength = round(0.8*length)\n",
        "  features = pos_features\n",
        "  Xtrain = np.asarray(features[:trainlength])\n",
        "  Ytrain = np.asarray(age_label[:trainlength])\n",
        "\n",
        "  clf.fit(Xtrain, Ytrain)\n",
        "\n",
        "  Xtest = np.asarray(features[trainlength:])\n",
        "  Ytest = np.asarray(age_label[trainlength:])\n",
        "\n",
        "#Xtest = Xtest.reshape(-1, 1)\n",
        "\n",
        "  pred = clf.predict(Xtest)\n",
        "  acc += accuracy_score(Ytest, pred)\n",
        "  print('Batch', batches.index(i), ':', accuracy_score(Ytest, pred))\n",
        "print('Overall accuracy:', acc/len(batches))"
      ],
      "execution_count": 0,
      "outputs": [
        {
          "output_type": "stream",
          "text": [
            "Batch 0 : 0.7402095973524545\n",
            "Batch 1 : 0.7331460674157303\n",
            "Batch 2 : 0.7421919363997729\n",
            "Batch 3 : 0.7477324263038548\n",
            "Batch 4 : 0.740909090909091\n",
            "Batch 5 : 0.7474804031354984\n",
            "Batch 6 : 0.7361654555617664\n",
            "Batch 7 : 0.7329157175398633\n",
            "Batch 8 : 0.7212290502793296\n",
            "Overall accuracy: 0.7379977494330402\n"
          ],
          "name": "stdout"
        }
      ]
    },
    {
      "cell_type": "code",
      "metadata": {
        "id": "ZNzcFFiPRadR",
        "colab_type": "code",
        "outputId": "495f2cbf-dd6f-4c60-9a2b-6cb54c3a979e",
        "colab": {
          "base_uri": "https://localhost:8080/",
          "height": 208
        }
      },
      "source": [
        "###-----LINEAR REGRESSION WITH POS_FEATURES---------\n",
        "\n",
        "clf = LinearRegression()\n",
        "\n",
        "batches = [0,40000,80000,120000,160000,200000,240000,280000,320000]\n",
        "mse = 0\n",
        "acc = 0\n",
        "for i in batches:\n",
        "  essays, age, original_data, age_label = prepare_age(i, [], [], [], [])\n",
        "  pos_features = POS(essays)\n",
        "  length = len(pos_features)\n",
        "  trainlength = round(0.8*length)\n",
        "  features = pos_features\n",
        "  Xtrain = np.asarray(features[:trainlength])\n",
        "  Ytrain = np.asarray(age_label[:trainlength])\n",
        "\n",
        "  clf.fit(Xtrain, Ytrain)\n",
        "\n",
        "  Xtest = np.asarray(features[trainlength:])\n",
        "  Ytest = np.asarray(age_label[trainlength:])\n",
        "\n",
        "#Xtest = Xtest.reshape(-1, 1)\n",
        "\n",
        "  pred = clf.predict(Xtest)\n",
        "  c_pred = np.round(pred)\n",
        "  mse += mean_squared_error(Ytest, pred)\n",
        "  acc += accuracy_score(Ytest, c_pred)\n",
        "  print('Batch', batches.index(i), ':', mean_squared_error(Ytest, pred), 'accuracy:', accuracy_score(Ytest, c_pred))\n",
        "print('Overall mean squared error:', mse/len(batches))\n",
        "print('Overall accuracy:', acc/len(batches))"
      ],
      "execution_count": 0,
      "outputs": [
        {
          "output_type": "stream",
          "text": [
            "Batch 0 : 0.19065496646321303 accuracy: 0.7402095973524545\n",
            "Batch 1 : 0.19725587550564172 accuracy: 0.7292134831460674\n",
            "Batch 2 : 0.18986803600452878 accuracy: 0.7427597955706985\n",
            "Batch 3 : 0.1866866518154498 accuracy: 0.7477324263038548\n",
            "Batch 4 : 0.19271158193736018 accuracy: 0.7397727272727272\n",
            "Batch 5 : 0.18899030530527478 accuracy: 0.7458006718924972\n",
            "Batch 6 : 0.19623009295556926 accuracy: 0.7350475125768586\n",
            "Batch 7 : 0.19623277399256908 accuracy: 0.7323462414578588\n",
            "Batch 8 : 0.20006606474384173 accuracy: 0.7195530726256983\n",
            "Overall mean squared error: 0.19318848319149426\n",
            "Overall accuracy: 0.7369372809109686\n"
          ],
          "name": "stdout"
        }
      ]
    },
    {
      "cell_type": "code",
      "metadata": {
        "id": "esXRfTY56v69",
        "colab_type": "code",
        "colab": {}
      },
      "source": [
        ""
      ],
      "execution_count": 0,
      "outputs": []
    },
    {
      "cell_type": "code",
      "metadata": {
        "id": "_6t82ReUTrfT",
        "colab_type": "code",
        "outputId": "58f8262a-f065-4392-8406-d1f3062fa6af",
        "colab": {
          "base_uri": "https://localhost:8080/",
          "height": 237
        }
      },
      "source": [
        "###---------RANDOM FOREST CLASSIFIER-----------\n",
        "clf = RandomForestClassifier(n_estimators=4, max_depth=5)\n",
        "\n",
        "batches = [0,40000,80000,120000,160000,200000,240000,280000,320000]\n",
        "acc = 0\n",
        "for i in batches:\n",
        "  essays, age, original_data = prepare_age(i, [], [], [])\n",
        "  pos_features = POS(essays)\n",
        "  length = len(pos_features)\n",
        "  trainlength = round(0.8*length)\n",
        "  features = pos_features\n",
        "  Xtrain = np.asarray(features[:trainlength])\n",
        "  Ytrain = np.asarray(age_label[:trainlength])\n",
        "\n",
        "  clf.fit(Xtrain, Ytrain)\n",
        "\n",
        "  Xtest = np.asarray(features[trainlength:])\n",
        "  Ytest = np.asarray(age_label[trainlength:])\n",
        "\n",
        "#Xtest = Xtest.reshape(-1, 1)\n",
        "\n",
        "  pred = clf.predict(Xtest)\n",
        "  acc += accuracy_score(Ytest, pred)\n",
        "  print('Batch', batches.index(i), ':', accuracy_score(Ytest, pred))\n",
        "print('Overall accuracy:', acc/len(batches))"
      ],
      "execution_count": 0,
      "outputs": [
        {
          "output_type": "error",
          "ename": "TypeError",
          "evalue": "ignored",
          "traceback": [
            "\u001b[0;31m---------------------------------------------------------------------------\u001b[0m",
            "\u001b[0;31mTypeError\u001b[0m                                 Traceback (most recent call last)",
            "\u001b[0;32m<ipython-input-5-1abc610ddace>\u001b[0m in \u001b[0;36m<module>\u001b[0;34m()\u001b[0m\n\u001b[1;32m      5\u001b[0m \u001b[0macc\u001b[0m \u001b[0;34m=\u001b[0m \u001b[0;36m0\u001b[0m\u001b[0;34m\u001b[0m\u001b[0;34m\u001b[0m\u001b[0m\n\u001b[1;32m      6\u001b[0m \u001b[0;32mfor\u001b[0m \u001b[0mi\u001b[0m \u001b[0;32min\u001b[0m \u001b[0mbatches\u001b[0m\u001b[0;34m:\u001b[0m\u001b[0;34m\u001b[0m\u001b[0;34m\u001b[0m\u001b[0m\n\u001b[0;32m----> 7\u001b[0;31m   \u001b[0messays\u001b[0m\u001b[0;34m,\u001b[0m \u001b[0mage\u001b[0m\u001b[0;34m,\u001b[0m \u001b[0moriginal_data\u001b[0m \u001b[0;34m=\u001b[0m \u001b[0mprepare_age\u001b[0m\u001b[0;34m(\u001b[0m\u001b[0mi\u001b[0m\u001b[0;34m,\u001b[0m \u001b[0;34m[\u001b[0m\u001b[0;34m]\u001b[0m\u001b[0;34m,\u001b[0m \u001b[0;34m[\u001b[0m\u001b[0;34m]\u001b[0m\u001b[0;34m,\u001b[0m \u001b[0;34m[\u001b[0m\u001b[0;34m]\u001b[0m\u001b[0;34m)\u001b[0m\u001b[0;34m\u001b[0m\u001b[0;34m\u001b[0m\u001b[0m\n\u001b[0m\u001b[1;32m      8\u001b[0m   \u001b[0mpos_features\u001b[0m \u001b[0;34m=\u001b[0m \u001b[0mPOS\u001b[0m\u001b[0;34m(\u001b[0m\u001b[0messays\u001b[0m\u001b[0;34m)\u001b[0m\u001b[0;34m\u001b[0m\u001b[0;34m\u001b[0m\u001b[0m\n\u001b[1;32m      9\u001b[0m   \u001b[0mlength\u001b[0m \u001b[0;34m=\u001b[0m \u001b[0mlen\u001b[0m\u001b[0;34m(\u001b[0m\u001b[0mpos_features\u001b[0m\u001b[0;34m)\u001b[0m\u001b[0;34m\u001b[0m\u001b[0;34m\u001b[0m\u001b[0m\n",
            "\u001b[0;31mTypeError\u001b[0m: prepare_age() missing 1 required positional argument: 'age_label'"
          ]
        }
      ]
    },
    {
      "cell_type": "markdown",
      "metadata": {
        "id": "Mqn0EXVO60sS",
        "colab_type": "text"
      },
      "source": [
        "Using n-grams:"
      ]
    },
    {
      "cell_type": "code",
      "metadata": {
        "id": "k7-pP8B762qg",
        "colab_type": "code",
        "colab": {}
      },
      "source": [
        ""
      ],
      "execution_count": 0,
      "outputs": []
    },
    {
      "cell_type": "code",
      "metadata": {
        "id": "tNEVLHtFZRUL",
        "colab_type": "code",
        "outputId": "289e22f5-a1e5-4561-d672-99572efdb861",
        "colab": {
          "base_uri": "https://localhost:8080/",
          "height": 1000
        }
      },
      "source": [
        "###---------ORIGINAL NGRAMS WITH NAIVE BAYES------------\n",
        "\n",
        "nb_classifier = MultinomialNB()\n",
        "\n",
        "batches = []\n",
        "for i in range(100):\n",
        "  batches.append(i*1000)\n",
        "acc = 0\n",
        "for i in batches:\n",
        "  essays, age, original_data, age_label = prepare_age(i, [], [], [], [])\n",
        "  trainlength = round(0.8*len(essays))\n",
        "  features = original_data\n",
        "\n",
        "  Xtrain = np.asarray(features[0:trainlength])\n",
        "  Ytrain = np.asarray(age_label[0:trainlength])\n",
        "  Xtest = np.asarray(features[trainlength:])\n",
        "  Ytest = np.asarray(age_label[trainlength:])\n",
        "\n",
        "  train_data, model = ngram_train(Xtrain, 1) \n",
        "  test_data = ngram_test(Xtest, model)\n",
        "\n",
        "  nb_classifier.fit(train_data, Ytrain)\n",
        "  pred = nb_classifier.predict(test_data)\n",
        "\n",
        "  acc += accuracy_score(Ytest, pred)\n",
        "  print('Batch',batches.index(i),':',accuracy_score(Ytest, pred))\n",
        "print('Overall accuracy:',acc/len(batches))"
      ],
      "execution_count": 0,
      "outputs": [
        {
          "output_type": "stream",
          "text": [
            "Batch 0 : 0.7578599007170436\n",
            "Batch 1 : 0.7575757575757576\n",
            "Batch 2 : 0.7588300220750552\n",
            "Batch 3 : 0.7527593818984547\n",
            "Batch 4 : 0.7615894039735099\n",
            "Batch 5 : 0.7545706371191135\n",
            "Batch 6 : 0.7512520868113522\n",
            "Batch 7 : 0.7426183844011142\n",
            "Batch 8 : 0.7399777282850779\n",
            "Batch 9 : 0.7324805339265851\n",
            "Batch 10 : 0.7259052924791086\n",
            "Batch 11 : 0.7324022346368715\n",
            "Batch 12 : 0.7292015633724176\n",
            "Batch 13 : 0.7329988851727982\n",
            "Batch 14 : 0.7384529771841959\n",
            "Batch 15 : 0.7433333333333333\n",
            "Batch 16 : 0.7357340720221607\n",
            "Batch 17 : 0.745141588006663\n",
            "Batch 18 : 0.7386237513873474\n",
            "Batch 19 : 0.7465258476931629\n",
            "Batch 20 : 0.7401443642420877\n",
            "Batch 21 : 0.733222407099279\n",
            "Batch 22 : 0.7258601553829079\n",
            "Batch 23 : 0.7288888888888889\n",
            "Batch 24 : 0.7332962138084632\n",
            "Batch 25 : 0.7316258351893096\n",
            "Batch 26 : 0.7423312883435583\n",
            "Batch 27 : 0.7434613244296049\n",
            "Batch 28 : 0.7484696716750139\n",
            "Batch 29 : 0.7427616926503341\n",
            "Batch 30 : 0.7497206703910615\n",
            "Batch 31 : 0.7388392857142857\n",
            "Batch 32 : 0.7371651785714286\n",
            "Batch 33 : 0.7371364653243848\n",
            "Batch 34 : 0.738521836506159\n",
            "Batch 35 : 0.7315848214285714\n",
            "Batch 36 : 0.7288515406162465\n",
            "Batch 37 : 0.7377877596855699\n",
            "Batch 38 : 0.7466216216216216\n",
            "Batch 39 : 0.7456387169386607\n",
            "Batch 40 : 0.7539325842696629\n",
            "Batch 41 : 0.7455056179775281\n",
            "Batch 42 : 0.7369014084507042\n",
            "Batch 43 : 0.7425183512140033\n",
            "Batch 44 : 0.7468996617812852\n",
            "Batch 45 : 0.7389830508474576\n",
            "Batch 46 : 0.732545045045045\n",
            "Batch 47 : 0.7418447694038245\n",
            "Batch 48 : 0.7383230163196398\n",
            "Batch 49 : 0.7459154929577465\n",
            "Batch 50 : 0.7431295569265284\n",
            "Batch 51 : 0.7488814317673378\n",
            "Batch 52 : 0.7452407614781635\n",
            "Batch 53 : 0.7539149888143176\n",
            "Batch 54 : 0.7477628635346756\n",
            "Batch 55 : 0.7396416573348265\n",
            "Batch 56 : 0.7487352445193929\n",
            "Batch 57 : 0.7476217123670957\n",
            "Batch 58 : 0.7566964285714286\n",
            "Batch 59 : 0.75\n",
            "Batch 60 : 0.7474804031354984\n",
            "Batch 61 : 0.7488789237668162\n",
            "Batch 62 : 0.7544742729306487\n",
            "Batch 63 : 0.7519553072625699\n",
            "Batch 64 : 0.7416481069042317\n",
            "Batch 65 : 0.7462353597322923\n",
            "Batch 66 : 0.7377232142857143\n",
            "Batch 67 : 0.7367244270542203\n",
            "Batch 68 : 0.735870173475098\n",
            "Batch 69 : 0.7366647950589557\n",
            "Batch 70 : 0.7386172006745363\n",
            "Batch 71 : 0.7395950506186727\n",
            "Batch 72 : 0.7505630630630631\n",
            "Batch 73 : 0.7473269555430501\n",
            "Batch 74 : 0.7450648618161309\n",
            "Batch 75 : 0.7422272470322216\n",
            "Batch 76 : 0.7405313736574336\n",
            "Batch 77 : 0.7402597402597403\n",
            "Batch 78 : 0.7432279909706546\n",
            "Batch 79 : 0.7361268403171007\n",
            "Batch 80 : 0.7410562180579217\n",
            "Batch 81 : 0.7362137578169414\n",
            "Batch 82 : 0.7301136363636364\n",
            "Batch 83 : 0.7306168647425014\n",
            "Batch 84 : 0.7219705549263873\n",
            "Batch 85 : 0.7288613303269448\n",
            "Batch 86 : 0.7246621621621622\n",
            "Batch 87 : 0.7251693002257337\n",
            "Batch 88 : 0.7252124645892352\n",
            "Batch 89 : 0.730221969265794\n",
            "Batch 90 : 0.7302857142857143\n",
            "Batch 91 : 0.7351258581235698\n",
            "Batch 92 : 0.7355796687607081\n",
            "Batch 93 : 0.7375643224699828\n",
            "Batch 94 : 0.7372638809387522\n",
            "Batch 95 : 0.7397025171624714\n",
            "Batch 96 : 0.7347055460263008\n",
            "Batch 97 : 0.7339816933638444\n",
            "Batch 98 : 0.7351258581235698\n",
            "Batch 99 : 0.7449856733524355\n",
            "Overall accuracy: 0.7406437106280248\n"
          ],
          "name": "stdout"
        }
      ]
    },
    {
      "cell_type": "markdown",
      "metadata": {
        "id": "y6oLUtjj668v",
        "colab_type": "text"
      },
      "source": [
        "Using pentel features:"
      ]
    },
    {
      "cell_type": "code",
      "metadata": {
        "id": "Av2zitpHgUby",
        "colab_type": "code",
        "outputId": "143b4f56-0417-48f0-8b14-df580fb37da7",
        "colab": {
          "base_uri": "https://localhost:8080/",
          "height": 191
        }
      },
      "source": [
        "###------SVM WITH PENTEL FEATURES-------http://ceur-ws.org/Vol-1446/smlir_submission2.pdf\n",
        "classifier = OneVsRestClassifier(SVC())\n",
        "batches = [0,40000,80000,120000,160000,200000,240000,280000,320000]\n",
        "acc = 0\n",
        "for i in batches:\n",
        "  essays, age, original_data, age_label = prepare_age(i, [], [], [], [])\n",
        "\n",
        "  features, age_label = extract_features(essays, age_label)\n",
        "  length = len(features)\n",
        "  trainlength = round(0.8*length)\n",
        "  Xtrain = np.asarray(features[:trainlength])\n",
        "  Ytrain = np.asarray(age_label[:trainlength])\n",
        "\n",
        "  classifier.fit(Xtrain, Ytrain)\n",
        "#Xtrain = Xtrain.reshape(-1, 1)\n",
        "\n",
        "  Xtest = np.asarray(features[trainlength:])\n",
        "  Ytest = np.asarray(age_label[trainlength:])\n",
        "\n",
        "#Xtest = Xtest.reshape(-1, 1)\n",
        "\n",
        "  pred = classifier.predict(Xtest)\n",
        "\n",
        "  acc += accuracy_score(Ytest, pred)\n",
        "  print('Batch', batches.index(i), ':',accuracy_score(Ytest, pred))\n",
        "print('Overall accuracy:', acc/len(batches))"
      ],
      "execution_count": 0,
      "outputs": [
        {
          "output_type": "stream",
          "text": [
            "Batch 0 : 0.7386489479512736\n",
            "Batch 1 : 0.7367231638418079\n",
            "Batch 2 : 0.7482876712328768\n",
            "Batch 3 : 0.7472965281730222\n",
            "Batch 4 : 0.7414383561643836\n",
            "Batch 5 : 0.7467642093415869\n",
            "Batch 6 : 0.7365168539325843\n",
            "Batch 7 : 0.7332570120206068\n",
            "Batch 8 : 0.7226277372262774\n",
            "Overall accuracy: 0.7390622755427132\n"
          ],
          "name": "stdout"
        }
      ]
    },
    {
      "cell_type": "markdown",
      "metadata": {
        "id": "5ORxBSHZ7E6G",
        "colab_type": "text"
      },
      "source": [
        "Analysis on HP dataset:"
      ]
    },
    {
      "cell_type": "code",
      "metadata": {
        "id": "_ZDjwjm6gZFa",
        "colab_type": "code",
        "outputId": "b6b7a5d5-cfd2-433f-da07-1e68c7bb335e",
        "colab": {
          "base_uri": "https://localhost:8080/",
          "height": 69
        }
      },
      "source": [
        "all_essays = []\n",
        "all_scores = []\n",
        "y = []\n",
        "\n",
        "c1 = 0\n",
        "c2 = 0\n",
        "\n",
        "for idx in range(len(data)):\n",
        "  all_essays.append(data.iloc[idx][essay_key])\n",
        "  all_scores.append(data.iloc[idx][domain1_score_key])\n",
        "  set_id = data.iloc[idx][essay_set_key]\n",
        "  if set_id == 7 or set_id == 1 or set_id == 5: #grades 7-8\n",
        "    y.append(1)\n",
        "    c1 += 1\n",
        "  elif set_id == 2 or set_id == 3 or set_id == 4 or set_id == 6 or set_id == 8:\n",
        "    y.append(2)\n",
        "    c2 += 1\n",
        "\n",
        "print('Grade 7-8:', c1)\n",
        "print('Grade 9-10:', c2)\n",
        "\n",
        "e = prepare_test(all_essays)\n",
        "e = np.asarray(e)\n",
        "\n",
        "e_feats = POS(e)\n",
        "y = np.asarray(y)\n",
        "\n",
        "pred = clf.predict(e_feats)\n",
        "y_pred = np.round(pred)\n",
        "print('Accuracy score:',accuracy_score(y, y_pred))"
      ],
      "execution_count": 0,
      "outputs": [
        {
          "output_type": "stream",
          "text": [
            "Grade 7-8: 5157\n",
            "Grade 9-10: 7819\n",
            "Accuracy score: 0.6025739827373613\n"
          ],
          "name": "stdout"
        }
      ]
    }
  ]
}