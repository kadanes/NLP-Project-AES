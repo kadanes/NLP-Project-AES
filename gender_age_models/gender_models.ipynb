{
  "nbformat": 4,
  "nbformat_minor": 0,
  "metadata": {
    "colab": {
      "name": "gender_models.ipynb",
      "provenance": [],
      "collapsed_sections": [],
      "toc_visible": true,
      "machine_shape": "hm"
    },
    "kernelspec": {
      "name": "python3",
      "display_name": "Python 3"
    }
  },
  "cells": [
    {
      "cell_type": "markdown",
      "metadata": {
        "id": "XEfbDb2e9rzd",
        "colab_type": "text"
      },
      "source": [
        "**Upload train.json, requirements.py, visualize.py, preprocess.py and feature_extraction.py**"
      ]
    },
    {
      "cell_type": "code",
      "metadata": {
        "id": "cJ6DhONK0HZI",
        "colab_type": "code",
        "outputId": "775aba84-3657-4340-fcfb-3cefb220f36c",
        "colab": {
          "base_uri": "https://localhost:8080/",
          "height": 486
        }
      },
      "source": [
        "!pip install pyphen\n",
        "from requirements import *\n",
        "from visualize import *\n",
        "from preprocess import *\n",
        "from feature_extraction import *"
      ],
      "execution_count": 1,
      "outputs": [
        {
          "output_type": "stream",
          "text": [
            "Requirement already satisfied: pyphen in /usr/local/lib/python3.6/dist-packages (0.9.5)\n",
            "[nltk_data] Downloading package stopwords to /root/nltk_data...\n",
            "[nltk_data]   Package stopwords is already up-to-date!\n",
            "[nltk_data] Downloading package punkt to /root/nltk_data...\n",
            "[nltk_data]   Package punkt is already up-to-date!\n",
            "[nltk_data] Downloading package averaged_perceptron_tagger to\n",
            "[nltk_data]     /root/nltk_data...\n",
            "[nltk_data]   Package averaged_perceptron_tagger is already up-to-\n",
            "[nltk_data]       date!\n",
            "[nltk_data] Downloading package tagsets to /root/nltk_data...\n",
            "[nltk_data]   Package tagsets is already up-to-date!\n",
            "[nltk_data] Downloading package averaged_perceptron_tagger to\n",
            "[nltk_data]     /root/nltk_data...\n",
            "[nltk_data]   Package averaged_perceptron_tagger is already up-to-\n",
            "[nltk_data]       date!\n",
            "[nltk_data] Downloading package tagsets to /root/nltk_data...\n",
            "[nltk_data]   Package tagsets is already up-to-date!\n",
            "[nltk_data] Downloading package sentiwordnet to /root/nltk_data...\n",
            "[nltk_data]   Package sentiwordnet is already up-to-date!\n",
            "[nltk_data] Downloading package wordnet to /root/nltk_data...\n",
            "[nltk_data]   Package wordnet is already up-to-date!\n",
            "[nltk_data] Downloading package averaged_perceptron_tagger to\n",
            "[nltk_data]     /root/nltk_data...\n",
            "[nltk_data]   Package averaged_perceptron_tagger is already up-to-\n",
            "[nltk_data]       date!\n",
            "[nltk_data] Downloading package tagsets to /root/nltk_data...\n",
            "[nltk_data]   Package tagsets is already up-to-date!\n"
          ],
          "name": "stdout"
        }
      ]
    },
    {
      "cell_type": "code",
      "metadata": {
        "id": "6owOcJYdW1Jb",
        "colab_type": "code",
        "colab": {}
      },
      "source": [
        "def preprocess(stopwords):\n",
        "  stop_words = set(stopwords.words('english')) \n",
        "  default_pattern =  r\"\"\"(?x)                  \n",
        "                        (?:[A-Z]\\.)+          \n",
        "                        |\\$?\\d+(?:\\.\\d+)?%?    \n",
        "                        |\\w+(?:[-']\\w+)*      \n",
        "                    \"\"\"\n",
        "  with open('train.json') as json_file:\n",
        "      data = json.load(json_file)\n",
        "  return data"
      ],
      "execution_count": 0,
      "outputs": []
    },
    {
      "cell_type": "markdown",
      "metadata": {
        "id": "PWNRwYWadpz4",
        "colab_type": "text"
      },
      "source": [
        "**Dataset summary:**"
      ]
    },
    {
      "cell_type": "code",
      "metadata": {
        "id": "08bUt56V0cdO",
        "colab_type": "code",
        "outputId": "82f1c02a-28dc-47a5-d94f-b96eb68ff0dd",
        "colab": {
          "base_uri": "https://localhost:8080/",
          "height": 121
        }
      },
      "source": [
        "data = preprocess(stopwords)\n",
        "batches = []\n",
        "i = 0\n",
        "while i < 250000:\n",
        "  batches.append(i)\n",
        "  i += 20000\n",
        "\n",
        "mcount = 0\n",
        "fcount = 0\n",
        "ecount = 0\n",
        "avg_size = 0\n",
        "for i in batches:\n",
        "  essays, gender_label, age_label, original_data = prepare_data(data, i, 20000)\n",
        "  mcount, fcount, ecount, avg_size = gender_summary(essays, gender_label, mcount,fcount,ecount,avg_size)\n",
        "\n",
        "print('Data summary for gender prediction task')\n",
        "print('Number of male writers:', mcount)\n",
        "print('Number of female writers:', fcount)\n",
        "print('Number of essays used:', ecount)\n",
        "print('Average document size:', avg_size/ecount, 'words')\n",
        "print('Unique number of labels:', 2)"
      ],
      "execution_count": 3,
      "outputs": [
        {
          "output_type": "stream",
          "text": [
            "Data summary for gender prediction task\n",
            "Number of male writers: 132469\n",
            "Number of female writers: 127531\n",
            "Number of essays used: 260000\n",
            "Average document size: 204.52252307692308 words\n",
            "Unique number of labels: 2\n"
          ],
          "name": "stdout"
        }
      ]
    },
    {
      "cell_type": "markdown",
      "metadata": {
        "id": "MkVsbylIWCry",
        "colab_type": "text"
      },
      "source": [
        "# **Gender profiling**"
      ]
    },
    {
      "cell_type": "markdown",
      "metadata": {
        "id": "fa6bHgonBLqx",
        "colab_type": "text"
      },
      "source": [
        "#  Using possessive features:"
      ]
    },
    {
      "cell_type": "code",
      "metadata": {
        "id": "nWsnOPTjmTlQ",
        "colab_type": "code",
        "outputId": "b1322388-87e4-4321-ebc2-0d636b8d015a",
        "colab": {
          "base_uri": "https://localhost:8080/",
          "height": 260
        }
      },
      "source": [
        "###----Logistic Regression WITH POSSESSIVES-----------\n",
        "#classifier = svm.SVC(max_iter=5000)\n",
        "trainlength = round(0.8*20000)\n",
        "classifier = LogisticRegression(random_state=0, max_iter=1000)\n",
        "\n",
        "batches = []\n",
        "i = 0\n",
        "while i < 250000:\n",
        "  batches.append(i)\n",
        "  i += 20000\n",
        "acc = 0\n",
        "for i in batches:\n",
        "  essays, gender_label, age_label, original_data = prepare_data(data, i, 20000)\n",
        "  my_feature, other_feature, total_dict = possessives_features(essays)\n",
        "  features = my_feature\n",
        "  Xtrain = np.asarray(features[:trainlength])\n",
        "  Ytrain = np.asarray(gender_label[:trainlength])\n",
        "\n",
        "#Xtrain = Xtrain.reshape(-1, 1)\n",
        "\n",
        "  classifier.fit(Xtrain, Ytrain)\n",
        "#classifier.fit(Xtrain, Ytrain)\n",
        "  Xtest = np.asarray(features[trainlength:])\n",
        "  Ytest = np.asarray(gender_label[trainlength:])\n",
        "\n",
        "#Xtest = Xtest.reshape(-1, 1)\n",
        "  #print('done with split')\n",
        "  pred = classifier.predict(Xtest)\n",
        "  acc += accuracy_score(Ytest, pred)\n",
        "  print('Batch', batches.index(i), ':', accuracy_score(Ytest, pred))\n",
        "print('Overall accuracy:', acc/len(batches))"
      ],
      "execution_count": 0,
      "outputs": [
        {
          "output_type": "stream",
          "text": [
            "Batch 0 : 0.5715\n",
            "Batch 1 : 0.556\n",
            "Batch 2 : 0.56525\n",
            "Batch 3 : 0.548\n",
            "Batch 4 : 0.55675\n",
            "Batch 5 : 0.566\n",
            "Batch 6 : 0.56625\n",
            "Batch 7 : 0.5655\n",
            "Batch 8 : 0.56025\n",
            "Batch 9 : 0.56825\n",
            "Batch 10 : 0.5495\n",
            "Batch 11 : 0.56275\n",
            "Batch 12 : 0.56975\n",
            "Overall accuracy: 0.5619807692307692\n"
          ],
          "name": "stdout"
        }
      ]
    },
    {
      "cell_type": "code",
      "metadata": {
        "id": "mv5QBgON_dn_",
        "colab_type": "code",
        "outputId": "4d776770-ed23-42ef-bddf-6f6e948e85c9",
        "colab": {
          "base_uri": "https://localhost:8080/",
          "height": 469
        }
      },
      "source": [
        "###-----KNN WITH POSSESSIVES FEATURES---------\n",
        "#6000:51, 10000:52.45\n",
        "clf = neighbors.KNeighborsClassifier(75)\n",
        "\n",
        "batches = []\n",
        "i = 0\n",
        "while i < 250000:\n",
        "  batches.append(i)\n",
        "  i += 10000\n",
        "acc = 0\n",
        "\n",
        "for i in batches:\n",
        "  essays, gender_label, age_label, original_data = prepare_data(data, i, 10000)\n",
        "  my_feature, other_feature, total_dict = possessives_features(essays)\n",
        "  features = my_feature\n",
        "\n",
        "  length = len(my_feature)\n",
        "  trainlength = round(0.8*length)\n",
        "  features = my_feature\n",
        "  Xtrain = np.asarray(features[:trainlength])\n",
        "  Ytrain = np.asarray(gender_label[:trainlength])\n",
        "  clf.fit(Xtrain, Ytrain)\n",
        "\n",
        "  Xtest = np.asarray(features[trainlength:])\n",
        "  Ytest = np.asarray(gender_label[trainlength:])\n",
        "\n",
        "#Xtest = Xtest.reshape(-1, 1)\n",
        "\n",
        "  pred = clf.predict(Xtest)\n",
        "  acc += accuracy_score(Ytest, pred)\n",
        "  print('Batch', batches.index(i), ':',accuracy_score(Ytest, pred))\n",
        "print('Overall accuracy:', acc/len(batches))"
      ],
      "execution_count": 6,
      "outputs": [
        {
          "output_type": "stream",
          "text": [
            "Batch 0 : 0.5245\n",
            "Batch 1 : 0.5455\n",
            "Batch 2 : 0.4775\n",
            "Batch 3 : 0.519\n",
            "Batch 4 : 0.553\n",
            "Batch 5 : 0.519\n",
            "Batch 6 : 0.519\n",
            "Batch 7 : 0.5235\n",
            "Batch 8 : 0.526\n",
            "Batch 9 : 0.517\n",
            "Batch 10 : 0.5325\n",
            "Batch 11 : 0.542\n",
            "Batch 12 : 0.485\n",
            "Batch 13 : 0.532\n",
            "Batch 14 : 0.5585\n",
            "Batch 15 : 0.5285\n",
            "Batch 16 : 0.5335\n",
            "Batch 17 : 0.531\n",
            "Batch 18 : 0.5525\n",
            "Batch 19 : 0.5375\n",
            "Batch 20 : 0.5185\n",
            "Batch 21 : 0.515\n",
            "Batch 22 : 0.484\n",
            "Batch 23 : 0.5385\n",
            "Batch 24 : 0.564\n",
            "Overall accuracy: 0.52708\n"
          ],
          "name": "stdout"
        }
      ]
    },
    {
      "cell_type": "markdown",
      "metadata": {
        "id": "2ljsg3JiBiFr",
        "colab_type": "text"
      },
      "source": [
        "# **Using POS features**"
      ]
    },
    {
      "cell_type": "code",
      "metadata": {
        "id": "ZygqVRCJE0WU",
        "colab_type": "code",
        "outputId": "671441b3-882a-4a40-c4c1-ae98d102fdf0",
        "colab": {
          "base_uri": "https://localhost:8080/",
          "height": 260
        }
      },
      "source": [
        "###------SVM WITH POS_FEATURES-------\n",
        "\n",
        "classifier = svm.SVC(kernel='rbf')\n",
        "length = 20000\n",
        "trainlength = round(0.8*length)\n",
        "acc = 0\n",
        "\n",
        "batches = []\n",
        "i = 0\n",
        "while i < 250000:\n",
        "  batches.append(i)\n",
        "  i += 20000\n",
        "\n",
        "for i in batches:\n",
        "  essays, gender_label, age_label, original_data = prepare_data(data, i, 20000)\n",
        "  pos_features = POS(essays)\n",
        "  features = pos_features\n",
        "  Xtrain = np.asarray(features[:trainlength])\n",
        "  Ytrain = np.asarray(gender_label[:trainlength])\n",
        "\n",
        "#Xtrain = Xtrain.reshape(-1, 1)\n",
        "\n",
        "  classifier.fit(Xtrain, Ytrain)\n",
        "  Xtest = np.asarray(features[trainlength:])\n",
        "  Ytest = np.asarray(gender_label[trainlength:])\n",
        "\n",
        "#Xtest = Xtest.reshape(-1, 1)\n",
        "\n",
        "  pred = classifier.predict(Xtest)\n",
        "  acc += accuracy_score(Ytest, pred)\n",
        "  print('Batch', batches.index(i), ':',accuracy_score(Ytest, pred))\n",
        "print('Overall accuracy', acc/len(batches))"
      ],
      "execution_count": 10,
      "outputs": [
        {
          "output_type": "stream",
          "text": [
            "Batch 0 : 0.60375\n",
            "Batch 1 : 0.57975\n",
            "Batch 2 : 0.58175\n",
            "Batch 3 : 0.57875\n",
            "Batch 4 : 0.57175\n",
            "Batch 5 : 0.582\n",
            "Batch 6 : 0.57575\n",
            "Batch 7 : 0.57825\n",
            "Batch 8 : 0.579\n",
            "Batch 9 : 0.58075\n",
            "Batch 10 : 0.58775\n",
            "Batch 11 : 0.5855\n",
            "Batch 12 : 0.586\n",
            "Overall accuracy 0.5823653846153846\n"
          ],
          "name": "stdout"
        }
      ]
    },
    {
      "cell_type": "code",
      "metadata": {
        "id": "EciIoF-U-mYj",
        "colab_type": "code",
        "outputId": "a165f0cb-554c-422b-81c3-e1533a77c5df",
        "colab": {
          "base_uri": "https://localhost:8080/",
          "height": 260
        }
      },
      "source": [
        "###-----KNN WITH POS_FEATURES---------\n",
        "\n",
        "clf = neighbors.KNeighborsClassifier(75)\n",
        "\n",
        "length = 20000\n",
        "trainlength = round(0.8*length)\n",
        "acc = 0\n",
        "\n",
        "batches = []\n",
        "i = 0\n",
        "while i < 250000:\n",
        "  batches.append(i)\n",
        "  i += 20000\n",
        "\n",
        "for i in batches:\n",
        "  essays, gender_label, age_label, original_data = prepare_data(data, i, 20000)\n",
        "  pos_features = POS(essays)\n",
        "  features = pos_features\n",
        "  Xtrain = np.asarray(features[:trainlength])\n",
        "  Ytrain = np.asarray(gender_label[:trainlength])\n",
        "\n",
        "  clf.fit(Xtrain, Ytrain)\n",
        "\n",
        "  Xtest = np.asarray(features[trainlength:])\n",
        "  Ytest = np.asarray(gender_label[trainlength:])\n",
        "\n",
        "#Xtest = Xtest.reshape(-1, 1)\n",
        "\n",
        "  pred = clf.predict(Xtest)\n",
        "  print('Batch', batches.index(i), ':',accuracy_score(Ytest, pred))\n",
        "  acc += accuracy_score(Ytest, pred)\n",
        "print('Overall accuracy:', acc/len(batches))"
      ],
      "execution_count": 0,
      "outputs": [
        {
          "output_type": "stream",
          "text": [
            "Batch 0 : 0.58725\n",
            "Batch 1 : 0.572\n",
            "Batch 2 : 0.564\n",
            "Batch 3 : 0.57725\n",
            "Batch 4 : 0.56325\n",
            "Batch 5 : 0.56475\n",
            "Batch 6 : 0.57825\n",
            "Batch 7 : 0.57025\n",
            "Batch 8 : 0.57925\n",
            "Batch 9 : 0.58375\n",
            "Batch 10 : 0.581\n",
            "Batch 11 : 0.584\n",
            "Batch 12 : 0.57675\n",
            "Overall accuracy: 0.5755192307692307\n"
          ],
          "name": "stdout"
        }
      ]
    },
    {
      "cell_type": "markdown",
      "metadata": {
        "id": "LhLM-6Fmxt2u",
        "colab_type": "text"
      },
      "source": [
        "**POS features visualization**"
      ]
    },
    {
      "cell_type": "code",
      "metadata": {
        "id": "jNuYTlbbneYX",
        "colab_type": "code",
        "outputId": "648b151d-510e-4dfd-9374-f37b64854025",
        "colab": {
          "base_uri": "https://localhost:8080/",
          "height": 1000
        }
      },
      "source": [
        "###-------POS FEATURES VISUALIZATION----------\n",
        "\n",
        "labels = []\n",
        "length = len(tagdict)\n",
        "male_means = np.zeros(length)\n",
        "female_means = np.zeros(length)\n",
        "\n",
        "for label in tagdict:\n",
        "  labels.append(label)\n",
        "\n",
        "male_count = 0\n",
        "female_count = 0\n",
        "for idx in range(len(essays)):\n",
        "  if gender_label[idx] == 0: #male\n",
        "    male_means += np.asarray(pos_features[idx])\n",
        "    male_count += 1\n",
        "  else:\n",
        "    female_means += np.asarray(pos_features[idx])\n",
        "    female_count += 1\n",
        "\n",
        "male_means = male_means/male_count\n",
        "female_means = female_means/female_count\n",
        "\n",
        "male_means = list(male_means)\n",
        "female_means = list(female_means)\n",
        "\n",
        "create_plot(labels, male_means, female_means, 'POS feature counts by gender',1, 18,0)\n"
      ],
      "execution_count": 11,
      "outputs": [
        {
          "output_type": "error",
          "ename": "NameError",
          "evalue": "ignored",
          "traceback": [
            "\u001b[0;31m---------------------------------------------------------------------------\u001b[0m",
            "\u001b[0;31mNameError\u001b[0m                                 Traceback (most recent call last)",
            "\u001b[0;32m<ipython-input-11-f56243611785>\u001b[0m in \u001b[0;36m<module>\u001b[0;34m()\u001b[0m\n\u001b[1;32m     24\u001b[0m \u001b[0mfemale_means\u001b[0m \u001b[0;34m=\u001b[0m \u001b[0mlist\u001b[0m\u001b[0;34m(\u001b[0m\u001b[0mfemale_means\u001b[0m\u001b[0;34m)\u001b[0m\u001b[0;34m\u001b[0m\u001b[0;34m\u001b[0m\u001b[0m\n\u001b[1;32m     25\u001b[0m \u001b[0;34m\u001b[0m\u001b[0m\n\u001b[0;32m---> 26\u001b[0;31m \u001b[0mcreate_plot\u001b[0m\u001b[0;34m(\u001b[0m\u001b[0mlabels\u001b[0m\u001b[0;34m,\u001b[0m \u001b[0mmale_means\u001b[0m\u001b[0;34m,\u001b[0m \u001b[0mfemale_means\u001b[0m\u001b[0;34m,\u001b[0m \u001b[0;34m'POS feature counts by gender'\u001b[0m\u001b[0;34m,\u001b[0m\u001b[0;36m1\u001b[0m\u001b[0;34m,\u001b[0m \u001b[0;36m18\u001b[0m\u001b[0;34m,\u001b[0m\u001b[0;36m0\u001b[0m\u001b[0;34m)\u001b[0m\u001b[0;34m\u001b[0m\u001b[0;34m\u001b[0m\u001b[0m\n\u001b[0m",
            "\u001b[0;32m/content/visualize.py\u001b[0m in \u001b[0;36mcreate_plot\u001b[0;34m(labels, male_means, female_means, title, flag, size, save)\u001b[0m\n\u001b[1;32m     35\u001b[0m \u001b[0;34m\u001b[0m\u001b[0m\n\u001b[1;32m     36\u001b[0m   \u001b[0;32mif\u001b[0m \u001b[0mflag\u001b[0m \u001b[0;34m==\u001b[0m \u001b[0;36m1\u001b[0m\u001b[0;34m:\u001b[0m\u001b[0;34m\u001b[0m\u001b[0;34m\u001b[0m\u001b[0m\n\u001b[0;32m---> 37\u001b[0;31m     \u001b[0mautolabel\u001b[0m\u001b[0;34m(\u001b[0m\u001b[0mrects1\u001b[0m\u001b[0;34m)\u001b[0m\u001b[0;34m\u001b[0m\u001b[0;34m\u001b[0m\u001b[0m\n\u001b[0m\u001b[1;32m     38\u001b[0m     \u001b[0mautolabel\u001b[0m\u001b[0;34m(\u001b[0m\u001b[0mrects2\u001b[0m\u001b[0;34m)\u001b[0m\u001b[0;34m\u001b[0m\u001b[0;34m\u001b[0m\u001b[0m\n\u001b[1;32m     39\u001b[0m \u001b[0;34m\u001b[0m\u001b[0m\n",
            "\u001b[0;32m/content/visualize.py\u001b[0m in \u001b[0;36mautolabel\u001b[0;34m(rects)\u001b[0m\n\u001b[1;32m     13\u001b[0m     \u001b[0;32mfor\u001b[0m \u001b[0mrect\u001b[0m \u001b[0;32min\u001b[0m \u001b[0mrects\u001b[0m\u001b[0;34m:\u001b[0m\u001b[0;34m\u001b[0m\u001b[0;34m\u001b[0m\u001b[0m\n\u001b[1;32m     14\u001b[0m         \u001b[0mheight\u001b[0m \u001b[0;34m=\u001b[0m \u001b[0mrect\u001b[0m\u001b[0;34m.\u001b[0m\u001b[0mget_height\u001b[0m\u001b[0;34m(\u001b[0m\u001b[0;34m)\u001b[0m\u001b[0;34m\u001b[0m\u001b[0;34m\u001b[0m\u001b[0m\n\u001b[0;32m---> 15\u001b[0;31m         ax.annotate('{}'.format(height),\n\u001b[0m\u001b[1;32m     16\u001b[0m                     \u001b[0mxy\u001b[0m\u001b[0;34m=\u001b[0m\u001b[0;34m(\u001b[0m\u001b[0mrect\u001b[0m\u001b[0;34m.\u001b[0m\u001b[0mget_x\u001b[0m\u001b[0;34m(\u001b[0m\u001b[0;34m)\u001b[0m \u001b[0;34m+\u001b[0m \u001b[0mrect\u001b[0m\u001b[0;34m.\u001b[0m\u001b[0mget_width\u001b[0m\u001b[0;34m(\u001b[0m\u001b[0;34m)\u001b[0m \u001b[0;34m/\u001b[0m \u001b[0;36m2\u001b[0m\u001b[0;34m,\u001b[0m \u001b[0mheight\u001b[0m\u001b[0;34m)\u001b[0m\u001b[0;34m,\u001b[0m\u001b[0;34m\u001b[0m\u001b[0;34m\u001b[0m\u001b[0m\n\u001b[1;32m     17\u001b[0m                     \u001b[0mxytext\u001b[0m\u001b[0;34m=\u001b[0m\u001b[0;34m(\u001b[0m\u001b[0;36m0\u001b[0m\u001b[0;34m,\u001b[0m \u001b[0;36m3\u001b[0m\u001b[0;34m)\u001b[0m\u001b[0;34m,\u001b[0m  \u001b[0;31m# 3 points vertical offset\u001b[0m\u001b[0;34m\u001b[0m\u001b[0;34m\u001b[0m\u001b[0m\n",
            "\u001b[0;31mNameError\u001b[0m: name 'ax' is not defined"
          ]
        },
        {
          "output_type": "display_data",
          "data": {
            "image/png": "[encoded data removed]",
            "text/plain": [
              "<Figure size 1296x1296 with 1 Axes>"
            ]
          },
          "metadata": {
            "tags": [],
            "needs_background": "light"
          }
        }
      ]
    },
    {
      "cell_type": "markdown",
      "metadata": {
        "id": "hie1lE4cC8s3",
        "colab_type": "text"
      },
      "source": [
        "#  **f-measure Visualization:**"
      ]
    },
    {
      "cell_type": "code",
      "metadata": {
        "id": "hKGdBaI6qtHm",
        "colab_type": "code",
        "outputId": "e1af340f-1f2f-4d14-d7da-610b5d83c155",
        "colab": {
          "base_uri": "https://localhost:8080/",
          "height": 512
        }
      },
      "source": [
        "###-------F1 FEATURES VISUALIZATION---------- (for one batch)\n",
        "labels = []\n",
        "male_means = np.zeros(1)\n",
        "female_means = np.zeros(1)\n",
        "labels.append('f1_score')\n",
        "\n",
        "pos_feature = POS(essays)\n",
        "f_feature = f(pos_features)\n",
        "\n",
        "male_count = 0\n",
        "female_count = 0\n",
        "for idx in range(len(essays)):\n",
        "  if gender_label[idx] == 0: #male\n",
        "    male_means += np.asarray(f_feature[idx])\n",
        "    male_count += 1\n",
        "  else:\n",
        "    female_means += np.asarray(f_feature[idx])\n",
        "    female_count += 1\n",
        "\n",
        "male_means = male_means/male_count\n",
        "female_means = female_means/female_count\n",
        "\n",
        "male_means = list(male_means)\n",
        "female_means = list(female_means)\n",
        "\n",
        "create_plot(labels, male_means, female_means, 'F1 feature counts by gender', 0, 5, 0)"
      ],
      "execution_count": 0,
      "outputs": [
        {
          "output_type": "display_data",
          "data": {
            "image/png": "[encoded data removed]",
            "text/plain": [
              "<Figure size 1332x756 with 1 Axes>"
            ]
          },
          "metadata": {
            "tags": []
          }
        }
      ]
    },
    {
      "cell_type": "markdown",
      "metadata": {
        "id": "k5Q2mzmSDJOe",
        "colab_type": "text"
      },
      "source": [
        "# **Using POS bigrams:**"
      ]
    },
    {
      "cell_type": "code",
      "metadata": {
        "id": "81zoH9qNajUD",
        "colab_type": "code",
        "outputId": "b2e9dff0-9d41-4ed6-b399-d78209b656b3",
        "colab": {
          "base_uri": "https://localhost:8080/",
          "height": 34
        }
      },
      "source": [
        "###------SVM WITH POS_SEQ_FEATURES-------\n",
        "acc = 0\n",
        "classifier = svm.SVC(kernel='rbf')\n",
        "\n",
        "i = 0\n",
        "while i < 100000:\n",
        "  batches.append(i)\n",
        "  i += 20000\n",
        "\n",
        "batches = []\n",
        "for i in batches:\n",
        "  essays, gender_label, age_label, original_data = prepare_data(data, i, 20000)\n",
        "  pos_seq_features = pos_seq(essays)\n",
        "  length = len(pos_seq_features)\n",
        "  trainlength = round(0.8*length)\n",
        "  features = pos_seq_features\n",
        "  Xtrain = np.asarray(features[:trainlength])\n",
        "  Ytrain = np.asarray(gender_label[:trainlength])\n",
        "\n",
        "#Xtrain = Xtrain.reshape(-1, 1)\n",
        "\n",
        "  classifier.fit(Xtrain, Ytrain)\n",
        "  Xtest = np.asarray(features[trainlength:])\n",
        "  Ytest = np.asarray(gender_label[trainlength:])\n",
        "\n",
        "#Xtest = Xtest.reshape(-1, 1)\n",
        "\n",
        "  pred = classifier.predict(Xtest)\n",
        "  acc += accuracy_score(Ytest, pred)\n",
        "print('Overall accuracy:',acc/len(batches))"
      ],
      "execution_count": 7,
      "outputs": [
        {
          "output_type": "stream",
          "text": [
            "Overall accuracy: 0.5975\n"
          ],
          "name": "stdout"
        }
      ]
    },
    {
      "cell_type": "code",
      "metadata": {
        "id": "eFoeGscJtJ5e",
        "colab_type": "code",
        "outputId": "d04cd263-4a60-47d9-f88a-655448863a30",
        "colab": {
          "base_uri": "https://localhost:8080/",
          "height": 1000
        }
      },
      "source": [
        "###-------POS-SEQ FEATURES VISUALIZATION (Bigram)----------\n",
        "labels = []\n",
        "length = len(tagseq)\n",
        "male_means = np.zeros(length)\n",
        "female_means = np.zeros(length)\n",
        "\n",
        "for label in tagseq:\n",
        "  split_label = label.split()\n",
        "  new_label = split_label[0]+'-'+split_label[1]\n",
        "  labels.append(new_label)\n",
        "\n",
        "male_count = 0\n",
        "female_count = 0\n",
        "for idx in range(len(essays)):\n",
        "  if gender_label[idx] == 0: #male\n",
        "    male_means += np.asarray(pos_seq_features[idx])\n",
        "    male_count += 1\n",
        "  else:\n",
        "    female_means += np.asarray(pos_seq_features[idx])\n",
        "    female_count += 1\n",
        "\n",
        "male_means = male_means/male_count\n",
        "female_means = female_means/female_count\n",
        "\n",
        "male_means = list(male_means)\n",
        "female_means = list(female_means)\n",
        "\n",
        "create_plot(labels, male_means, female_means, 'POS-SEQ feature counts by gender',0, 60, 1)\n"
      ],
      "execution_count": 8,
      "outputs": [
        {
          "output_type": "display_data",
          "data": {
            "image/png": "[encoded data removed]",
            "text/plain": [
              "<Figure size 4320x4320 with 1 Axes>"
            ]
          },
          "metadata": {
            "tags": [],
            "needs_background": "light"
          }
        }
      ]
    },
    {
      "cell_type": "markdown",
      "metadata": {
        "id": "X9HyLZK5v0aj",
        "colab_type": "text"
      },
      "source": [
        "# **n-gram char features:**"
      ]
    },
    {
      "cell_type": "code",
      "metadata": {
        "id": "ACKkd6o8wFKt",
        "colab_type": "code",
        "outputId": "86a6bf3c-0ba1-4261-9e1b-2b8715c9ea71",
        "colab": {
          "base_uri": "https://localhost:8080/",
          "height": 940
        }
      },
      "source": [
        "###---------ORIGINAL NGRAMS WITH NAIVE BAYES------------\n",
        "\n",
        "nb_classifier = MultinomialNB()\n",
        "batches = []\n",
        "i = 0\n",
        "while i < 250000:\n",
        "  batches.append(i)\n",
        "  i += 5000\n",
        "\n",
        "print(batches)\n",
        "acc = 0\n",
        "for i in batches:\n",
        "  essays, gender_label, age_label, original_data = prepare_data(data,i, 5000)\n",
        "  del essays, age_label\n",
        "  #print('prepared data')\n",
        "  trainlength = round(0.8*len(gender_label))\n",
        "  features = original_data\n",
        "\n",
        "  Xtrain = np.asarray(features[0:trainlength])\n",
        "  Ytrain = np.asarray(gender_label[0:trainlength])\n",
        "  Xtest = np.asarray(features[trainlength:])\n",
        "  Ytest = np.asarray(gender_label[trainlength:])\n",
        "  del original_data, gender_label\n",
        "  #print('train,test')\n",
        "\n",
        "  if i == 0:\n",
        "    train_data, model = ngram_train_char(Xtrain, 1, []) \n",
        "  else:\n",
        "    train_data, model = ngram_train_char(Xtrain, 1, model) \n",
        "\n",
        "  test_data = ngram_test_char(Xtest, model)\n",
        "  del Xtrain, Xtest\n",
        "  #print('ngrams')\n",
        "\n",
        "  nb_classifier.fit(train_data, Ytrain)\n",
        "  pred = nb_classifier.predict(test_data)\n",
        "  #print('predicted')\n",
        "\n",
        "  del train_data, test_data,\n",
        "  acc += accuracy_score(Ytest, pred)\n",
        "  print('Batch', batches.index(i), ':', accuracy_score(Ytest, pred))\n",
        "  del Ytrain, Ytest, pred\n",
        "print('Overall accuracy:', acc/len(batches))\n",
        "\n",
        "filename = 'ngram_char_model.sav'\n",
        "pickle.dump(nb_classifier, open(filename, 'wb'))\n"
      ],
      "execution_count": 0,
      "outputs": [
        {
          "output_type": "stream",
          "text": [
            "[0, 5000, 10000, 15000, 20000, 25000, 30000, 35000, 40000, 45000, 50000, 55000, 60000, 65000, 70000, 75000, 80000, 85000, 90000, 95000, 100000, 105000, 110000, 115000, 120000, 125000, 130000, 135000, 140000, 145000, 150000, 155000, 160000, 165000, 170000, 175000, 180000, 185000, 190000, 195000, 200000, 205000, 210000, 215000, 220000, 225000, 230000, 235000, 240000, 245000]\n",
            "Batch 0 : 0.582\n",
            "Batch 1 : 0.561\n",
            "Batch 2 : 0.579\n",
            "Batch 3 : 0.567\n",
            "Batch 4 : 0.551\n",
            "Batch 5 : 0.605\n",
            "Batch 6 : 0.58\n",
            "Batch 7 : 0.603\n",
            "Batch 8 : 0.54\n",
            "Batch 9 : 0.585\n",
            "Batch 10 : 0.587\n",
            "Batch 11 : 0.586\n",
            "Batch 12 : 0.553\n",
            "Batch 13 : 0.561\n",
            "Batch 14 : 0.588\n",
            "Batch 15 : 0.593\n",
            "Batch 16 : 0.599\n",
            "Batch 17 : 0.575\n",
            "Batch 18 : 0.567\n",
            "Batch 19 : 0.551\n",
            "Batch 20 : 0.568\n",
            "Batch 21 : 0.561\n",
            "Batch 22 : 0.527\n",
            "Batch 23 : 0.582\n",
            "Batch 24 : 0.604\n",
            "Batch 25 : 0.569\n",
            "Batch 26 : 0.51\n",
            "Batch 27 : 0.608\n",
            "Batch 28 : 0.576\n",
            "Batch 29 : 0.541\n",
            "Batch 30 : 0.581\n",
            "Batch 31 : 0.526\n",
            "Batch 32 : 0.575\n",
            "Batch 33 : 0.59\n",
            "Batch 34 : 0.54\n",
            "Batch 35 : 0.595\n",
            "Batch 36 : 0.553\n",
            "Batch 37 : 0.552\n",
            "Batch 38 : 0.587\n",
            "Batch 39 : 0.569\n",
            "Batch 40 : 0.578\n",
            "Batch 41 : 0.565\n",
            "Batch 42 : 0.571\n",
            "Batch 43 : 0.579\n",
            "Batch 44 : 0.589\n",
            "Batch 45 : 0.559\n",
            "Batch 46 : 0.586\n",
            "Batch 47 : 0.56\n",
            "Batch 48 : 0.57\n",
            "Batch 49 : 0.603\n",
            "Overall accuracy: 0.5717399999999998\n"
          ],
          "name": "stdout"
        }
      ]
    },
    {
      "cell_type": "markdown",
      "metadata": {
        "id": "_V7h_ijDDfAK",
        "colab_type": "text"
      },
      "source": [
        "# **n-gram word features:**"
      ]
    },
    {
      "cell_type": "code",
      "metadata": {
        "id": "fA2FBZvymwlP",
        "colab_type": "code",
        "outputId": "7fb2e2eb-83c5-4989-9beb-016b8e5c7ad3",
        "colab": {
          "base_uri": "https://localhost:8080/",
          "height": 903
        }
      },
      "source": [
        "###---------ORIGINAL NGRAMS WITH NAIVE BAYES------------\n",
        "\n",
        "nb_classifier = MultinomialNB()\n",
        "\n",
        "batches = []\n",
        "i = 0\n",
        "while i < 250000:\n",
        "  batches.append(i)\n",
        "  i += 5000\n",
        "\n",
        "acc = 0\n",
        "for i in batches:\n",
        "  essays, gender_label, age_label, original_data = prepare_data(data,i, 5000)\n",
        "  trainlength = round(0.8*len(gender_label))\n",
        "  features = original_data\n",
        "\n",
        "  Xtrain = np.asarray(features[0:trainlength])\n",
        "  Ytrain = np.asarray(gender_label[0:trainlength])\n",
        "  Xtest = np.asarray(features[trainlength:])\n",
        "  Ytest = np.asarray(gender_label[trainlength:])\n",
        "\n",
        "  if i == 0:\n",
        "    train_data, model = ngram_train(Xtrain, 1, []) \n",
        "  else:\n",
        "    train_data, model = ngram_train(Xtrain, 1, model) \n",
        "\n",
        "  test_data = ngram_test(Xtest, model)\n",
        "\n",
        "  nb_classifier.fit(train_data, Ytrain)\n",
        "  pred = nb_classifier.predict(test_data)\n",
        "  acc += accuracy_score(Ytest, pred)\n",
        "  print('Batch', batches.index(i), ':', accuracy_score(Ytest, pred))\n",
        "print('Overall accuracy:', acc/len(batches))\n",
        "\n",
        "filename = 'ngram_classifier_model.sav'\n",
        "pickle.dump(nb_classifier, open(filename, 'wb'))\n",
        "\n",
        "filename = 'ngram_model.sav'\n",
        "pickle.dump(model, open(filename, 'wb'))\n"
      ],
      "execution_count": 0,
      "outputs": [
        {
          "output_type": "stream",
          "text": [
            "Batch 0 : 0.607\n",
            "Batch 1 : 0.629\n",
            "Batch 2 : 0.612\n",
            "Batch 3 : 0.616\n",
            "Batch 4 : 0.615\n",
            "Batch 5 : 0.602\n",
            "Batch 6 : 0.626\n",
            "Batch 7 : 0.633\n",
            "Batch 8 : 0.655\n",
            "Batch 9 : 0.649\n",
            "Batch 10 : 0.597\n",
            "Batch 11 : 0.613\n",
            "Batch 12 : 0.591\n",
            "Batch 13 : 0.599\n",
            "Batch 14 : 0.632\n",
            "Batch 15 : 0.626\n",
            "Batch 16 : 0.665\n",
            "Batch 17 : 0.632\n",
            "Batch 18 : 0.619\n",
            "Batch 19 : 0.584\n",
            "Batch 20 : 0.607\n",
            "Batch 21 : 0.618\n",
            "Batch 22 : 0.64\n",
            "Batch 23 : 0.634\n",
            "Batch 24 : 0.648\n",
            "Batch 25 : 0.627\n",
            "Batch 26 : 0.57\n",
            "Batch 27 : 0.638\n",
            "Batch 28 : 0.613\n",
            "Batch 29 : 0.616\n",
            "Batch 30 : 0.627\n",
            "Batch 31 : 0.615\n",
            "Batch 32 : 0.612\n",
            "Batch 33 : 0.608\n",
            "Batch 34 : 0.614\n",
            "Batch 35 : 0.639\n",
            "Batch 36 : 0.631\n",
            "Batch 37 : 0.626\n",
            "Batch 38 : 0.635\n",
            "Batch 39 : 0.625\n",
            "Batch 40 : 0.632\n",
            "Batch 41 : 0.596\n",
            "Batch 42 : 0.621\n",
            "Batch 43 : 0.646\n",
            "Batch 44 : 0.636\n",
            "Batch 45 : 0.595\n",
            "Batch 46 : 0.627\n",
            "Batch 47 : 0.612\n",
            "Batch 48 : 0.6\n",
            "Batch 49 : 0.624\n",
            "Overall accuracy: 0.6206799999999998\n"
          ],
          "name": "stdout"
        }
      ]
    },
    {
      "cell_type": "code",
      "metadata": {
        "id": "KmJgQj13Jq_r",
        "colab_type": "code",
        "outputId": "17215671-0d43-477f-f0a7-138f7e6045bb",
        "colab": {
          "base_uri": "https://localhost:8080/",
          "height": 903
        }
      },
      "source": [
        "###------SVM WITH NGRAMS----------\n",
        "\n",
        "classifier = svm.SVC(kernel='rbf')\n",
        "\n",
        "batches = []\n",
        "i = 0\n",
        "while i < 250000:\n",
        "  batches.append(i)\n",
        "  i += 5000\n",
        "\n",
        "acc = 0\n",
        "for i in batches:\n",
        "  essays, gender_label, age_label, original_data = prepare_data(data, i, 5000)\n",
        "  trainlength = round(0.8*len(essays))\n",
        "  features = original_data\n",
        "\n",
        "  Xtrain = np.asarray(features[0:trainlength])\n",
        "  Ytrain = np.asarray(gender_label[0:trainlength])\n",
        "  Xtest = np.asarray(features[trainlength:])\n",
        "  Ytest = np.asarray(gender_label[trainlength:])\n",
        "\n",
        "  if i == 0:\n",
        "    train_data, model = ngram_train(Xtrain, 1, [])\n",
        "  else:\n",
        "    train_data, model = ngram_train(Xtrain, 1, model) \n",
        " \n",
        "  test_data = ngram_test(Xtest, model)\n",
        "\n",
        "  classifier.fit(train_data, Ytrain)\n",
        "  pred = classifier.predict(test_data)\n",
        "  acc += accuracy_score(Ytest, pred)\n",
        "  print('Batch', batches.index(i), ':', accuracy_score(Ytest, pred))\n",
        "print('Overall accuracy:', acc/len(batches))"
      ],
      "execution_count": 0,
      "outputs": [
        {
          "output_type": "stream",
          "text": [
            "Batch 0 : 0.555\n",
            "Batch 1 : 0.583\n",
            "Batch 2 : 0.615\n",
            "Batch 3 : 0.588\n",
            "Batch 4 : 0.591\n",
            "Batch 5 : 0.571\n",
            "Batch 6 : 0.582\n",
            "Batch 7 : 0.591\n",
            "Batch 8 : 0.575\n",
            "Batch 9 : 0.605\n",
            "Batch 10 : 0.598\n",
            "Batch 11 : 0.585\n",
            "Batch 12 : 0.582\n",
            "Batch 13 : 0.578\n",
            "Batch 14 : 0.609\n",
            "Batch 15 : 0.593\n",
            "Batch 16 : 0.602\n",
            "Batch 17 : 0.596\n",
            "Batch 18 : 0.586\n",
            "Batch 19 : 0.575\n",
            "Batch 20 : 0.577\n",
            "Batch 21 : 0.612\n",
            "Batch 22 : 0.592\n",
            "Batch 23 : 0.57\n",
            "Batch 24 : 0.564\n",
            "Batch 25 : 0.57\n",
            "Batch 26 : 0.567\n",
            "Batch 27 : 0.588\n",
            "Batch 28 : 0.559\n",
            "Batch 29 : 0.617\n",
            "Batch 30 : 0.592\n",
            "Batch 31 : 0.551\n",
            "Batch 32 : 0.587\n",
            "Batch 33 : 0.581\n",
            "Batch 34 : 0.579\n",
            "Batch 35 : 0.605\n",
            "Batch 36 : 0.583\n",
            "Batch 37 : 0.628\n",
            "Batch 38 : 0.614\n",
            "Batch 39 : 0.611\n",
            "Batch 40 : 0.584\n",
            "Batch 41 : 0.586\n",
            "Batch 42 : 0.587\n",
            "Batch 43 : 0.579\n",
            "Batch 44 : 0.559\n",
            "Batch 45 : 0.563\n",
            "Batch 46 : 0.581\n",
            "Batch 47 : 0.555\n",
            "Batch 48 : 0.592\n",
            "Batch 49 : 0.61\n",
            "Overall accuracy: 0.5860599999999999\n"
          ],
          "name": "stdout"
        }
      ]
    },
    {
      "cell_type": "code",
      "metadata": {
        "id": "gZtAC_h1PlwK",
        "colab_type": "code",
        "outputId": "7046ee6d-233c-4bb9-f373-a506b4aa3749",
        "colab": {
          "base_uri": "https://localhost:8080/",
          "height": 545
        }
      },
      "source": [
        "###-------NGRAM FEATURES VISUALIZATION ----------\n",
        "labels = []\n",
        "mat_shape = train_data[0].shape\n",
        "male_means =  scipy.sparse.csr_matrix(mat_shape)\n",
        "female_means =  scipy.sparse.csr_matrix(mat_shape)\n",
        "\n",
        "male_count = 0\n",
        "female_count = 0\n",
        "for idx in range(round(len(essays)*0.8)):\n",
        "  if gender_label[idx] == 0: #male\n",
        "    male_means = (male_means.tocsr() + train_data[idx].tocsr())\n",
        "    male_count += 1\n",
        "  else:\n",
        "    female_means = (female_means.tocsr() + train_data[idx].tocsr())\n",
        "    female_count += 1\n",
        "\n",
        "male_means = male_means/male_count\n",
        "female_means = female_means/female_count\n",
        "\n",
        "#male_means = list(male_means)\n",
        "#female_means = list(female_means)\n",
        "male_m = scipy.sparse.csr_matrix.toarray(male_means)\n",
        "plt.plot(male_m[0])\n",
        "plt.title('Male N-grams')\n",
        "plt.show()\n",
        "\n",
        "female_m = scipy.sparse.csr_matrix.toarray(female_means)\n",
        "plt.plot(female_m[0])\n",
        "plt.title('Female N-grams')\n",
        "plt.show()\n",
        "#create_plot(labels, male_means, female_means, 'POS-SEQ feature counts by gender',0, 60, 1)\n"
      ],
      "execution_count": 0,
      "outputs": [
        {
          "output_type": "display_data",
          "data": {
            "image/png": "[encoded data removed]",
            "text/plain": [
              "<Figure size 432x288 with 1 Axes>"
            ]
          },
          "metadata": {
            "tags": []
          }
        },
        {
          "output_type": "display_data",
          "data": {
            "image/png": "[encoded data removed]",
            "text/plain": [
              "<Figure size 432x288 with 1 Axes>"
            ]
          },
          "metadata": {
            "tags": []
          }
        }
      ]
    },
    {
      "cell_type": "markdown",
      "metadata": {
        "id": "XriWyOTB_P67",
        "colab_type": "text"
      },
      "source": [
        "**Using sentiment:**"
      ]
    },
    {
      "cell_type": "code",
      "metadata": {
        "id": "32kBh_zstvki",
        "colab_type": "code",
        "outputId": "34f829f4-8d7f-417a-ce61-c78034ab83c3",
        "colab": {
          "base_uri": "https://localhost:8080/",
          "height": 121
        }
      },
      "source": [
        "###------SVM WITH SENTIMENT FEATURES-------\n",
        "\n",
        "#rbf: 54, linear:53.525, poly:52.15\n",
        "classifier = svm.SVC(kernel='poly')\n",
        "batches = [0, 20000, 40000, 60000, 80000]\n",
        "acc = 0\n",
        "for i in batches:\n",
        "  essays, gender_label, age_label, original_data = prepare_data(data, i, 20000)\n",
        "  total_feat = sentiment_features(essays)\n",
        "  length = len(total_feat)\n",
        "  trainlength = round(0.8*length)\n",
        "  features = total_feat\n",
        "  Xtrain = np.asarray(features[:trainlength])\n",
        "  Ytrain = np.asarray(gender_label[:trainlength])\n",
        "\n",
        "#Xtrain = Xtrain.reshape(-1, 1)\n",
        "\n",
        "  classifier.fit(Xtrain, Ytrain)\n",
        "  Xtest = np.asarray(features[trainlength:])\n",
        "  Ytest = np.asarray(gender_label[trainlength:])\n",
        "\n",
        "#Xtest = Xtest.reshape(-1, 1)\n",
        "\n",
        "  pred = classifier.predict(Xtest)\n",
        "  acc += accuracy_score(Ytest, pred)\n",
        "  print('Batch', batches.index(i), ':', accuracy_score(Ytest, pred))\n",
        "print('Overall accuracy:', acc/len(batches))"
      ],
      "execution_count": 9,
      "outputs": [
        {
          "output_type": "stream",
          "text": [
            "Batch 0 : 0.5215\n",
            "Batch 1 : 0.4955\n",
            "Batch 2 : 0.5145\n",
            "Batch 3 : 0.50975\n",
            "Batch 4 : 0.50875\n",
            "Overall accuracy: 0.51\n"
          ],
          "name": "stdout"
        }
      ]
    },
    {
      "cell_type": "code",
      "metadata": {
        "id": "_HrEc-nv3XOK",
        "colab_type": "code",
        "outputId": "f9524652-6770-4f27-b1d5-b12f2e133fe3",
        "colab": {
          "base_uri": "https://localhost:8080/",
          "height": 121
        }
      },
      "source": [
        "###-----KNN WITH SENTIMENT FEATURES---------\n",
        "clf = neighbors.KNeighborsClassifier(75)\n",
        "batches = [0, 20000, 40000, 60000, 80000]\n",
        "acc = 0\n",
        "for i in batches:\n",
        "  essays, gender_label, age_label, original_data = prepare_data(data, i, 20000)\n",
        "  total_feat = sentiment_features(essays)\n",
        "  length = len(total_feat)\n",
        "  trainlength = round(0.8*length)\n",
        "  features = total_feat\n",
        "  Xtrain = np.asarray(features[:trainlength])\n",
        "  Ytrain = np.asarray(gender_label[:trainlength])\n",
        "\n",
        "  clf.fit(Xtrain, Ytrain)\n",
        "\n",
        "  Xtest = np.asarray(features[trainlength:])\n",
        "  Ytest = np.asarray(gender_label[trainlength:])\n",
        "\n",
        "#Xtest = Xtest.reshape(-1, 1)\n",
        "\n",
        "  pred = clf.predict(Xtest)\n",
        "  acc += accuracy_score(Ytest, pred)\n",
        "  print('Batch',batches.index(i), ':',accuracy_score(Ytest, pred))\n",
        "print('Overall accuracy:', acc/len(batches))"
      ],
      "execution_count": 10,
      "outputs": [
        {
          "output_type": "stream",
          "text": [
            "Batch 0 : 0.52125\n",
            "Batch 1 : 0.51825\n",
            "Batch 2 : 0.516\n",
            "Batch 3 : 0.52975\n",
            "Batch 4 : 0.52275\n",
            "Overall accuracy: 0.5216\n"
          ],
          "name": "stdout"
        }
      ]
    },
    {
      "cell_type": "markdown",
      "metadata": {
        "id": "44ELgZmZPNMj",
        "colab_type": "text"
      },
      "source": [
        "# **Analysis on generalization dataset**\n",
        "Load the file: blog-gender-dataset.csv"
      ]
    },
    {
      "cell_type": "code",
      "metadata": {
        "id": "70tVACp119aM",
        "colab_type": "code",
        "colab": {}
      },
      "source": [
        "new_data = pd.read_csv('blog-gender-dataset.csv', sep=\"\\t\", encoding=\"ISO-8859-1\")"
      ],
      "execution_count": 0,
      "outputs": []
    },
    {
      "cell_type": "code",
      "metadata": {
        "id": "4fVJs2mO8Nxo",
        "colab_type": "code",
        "colab": {}
      },
      "source": [
        "def search_for(biglist):\n",
        "  y = []\n",
        "  x = []\n",
        "  string = ''\n",
        "  for i in range(len(biglist)):\n",
        "    if biglist[i] == 'M' or biglist[i] == 'm':\n",
        "      x.append(string)\n",
        "      y.append(0)\n",
        "      string = ''\n",
        "    elif biglist[i] == 'F' or biglist[i] == 'f':\n",
        "      x.append(string)\n",
        "      y.append(1)\n",
        "      string = ''\n",
        "    else:\n",
        "      string = string+' '+biglist[i]\n",
        "  return x,y"
      ],
      "execution_count": 0,
      "outputs": []
    },
    {
      "cell_type": "code",
      "metadata": {
        "id": "ML_0ih5W3Rt9",
        "colab_type": "code",
        "outputId": "8cbd10b8-72ea-40fc-ca8e-1d7df3b7170e",
        "colab": {
          "base_uri": "https://localhost:8080/",
          "height": 86
        }
      },
      "source": [
        "all_essays = []\n",
        "gender = []\n",
        "\n",
        "for idx in range(len(new_data)):\n",
        "  s = new_data.iloc[idx]\n",
        "  t = prepare_test(s)\n",
        "  x,y = search_for(t[0])\n",
        "  for j in range(len(x)): \n",
        "    all_essays.append(x[j])\n",
        "    gender.append(y[j])\n",
        "\n",
        "filename1 = 'ngram_model.sav'\n",
        "loaded_model1 = pickle.load(open(filename1, 'rb'))\n",
        "filename2 = 'ngram_classifier_model.sav'\n",
        "loaded_model2 = pickle.load(open(filename2, 'rb'))\n",
        "\n",
        "all_essays = np.asarray(all_essays)\n",
        "test_data = ngram_test(all_essays, loaded_model1)\n",
        "\n",
        "pred = loaded_model2.predict(test_data)\n",
        "pred = np.asarray(pred)\n",
        "gender = np.asarray(gender)\n",
        "print('Accuracy score for generalization dataset:', accuracy_score(gender, pred))\n",
        "print('Confusion matrix:')\n",
        "print(confusion_matrix(gender, pred))"
      ],
      "execution_count": 0,
      "outputs": [
        {
          "output_type": "stream",
          "text": [
            "Accuracy score for generalization dataset: 0.6163180996643429\n",
            "Confusion matrix:\n",
            "[[1448  814]\n",
            " [ 672  939]]\n"
          ],
          "name": "stdout"
        }
      ]
    },
    {
      "cell_type": "markdown",
      "metadata": {
        "id": "h5C9Hh0H6yNd",
        "colab_type": "text"
      },
      "source": [
        "# **Analysis on HP dataset:**\n",
        "Make sure that you have uploaded the file: training_set_rel3.tsv. Also, load the models: ngram_classifier_model.sav and ngram_model.sav"
      ]
    },
    {
      "cell_type": "code",
      "metadata": {
        "id": "-GKlPDOB676Z",
        "colab_type": "code",
        "outputId": "6dc522c6-9721-4a67-b90c-92b6d38b71a9",
        "colab": {
          "base_uri": "https://localhost:8080/",
          "height": 501
        }
      },
      "source": [
        "#Parth's code\n",
        "%matplotlib inline\n",
        "\n",
        "dataset_path = \"training_set_rel3.tsv\"\n",
        "data = pd.read_csv(dataset_path, sep=\"\\t\", encoding=\"ISO-8859-1\", index_col=\"essay_id\")\n",
        "min_scores = [2, 1, 0, 0, 0, 0, 0, 0]\n",
        "max_scores = [12, 6, 3, 3, 4, 4, 30, 60]\n",
        "\n",
        "essay_sets, data_min_scores, data_max_scores = split_in_sets(data)\n",
        "set1, set2, set3, set4, set5, set6, set7, set8 = tuple(essay_sets)\n",
        "data.dropna(axis=1, inplace=True)\n",
        "\n",
        "data.drop(columns=[\"rater1_domain1\", \"rater2_domain1\"], inplace=True)\n",
        "print(\"All Data:\", len(data))\n",
        "data.head()"
      ],
      "execution_count": 0,
      "outputs": [
        {
          "output_type": "stream",
          "text": [
            "Set 1 : Essays =  1783 \t Attributes =  5\n",
            "Set 2 : Essays =  1800 \t Attributes =  8\n",
            "Set 3 : Essays =  1726 \t Attributes =  5\n",
            "Set 4 : Essays =  1770 \t Attributes =  5\n",
            "Set 5 : Essays =  1805 \t Attributes =  5\n",
            "Set 6 : Essays =  1800 \t Attributes =  5\n",
            "Set 7 : Essays =  1569 \t Attributes =  13\n",
            "Set 8 : Essays =  723 \t Attributes =  17\n",
            "All Data: 12976\n"
          ],
          "name": "stdout"
        },
        {
          "output_type": "stream",
          "text": [
            "/usr/local/lib/python3.6/dist-packages/ipykernel_launcher.py:7: SettingWithCopyWarning: \n",
            "A value is trying to be set on a copy of a slice from a DataFrame\n",
            "\n",
            "See the caveats in the documentation: https://pandas.pydata.org/pandas-docs/stable/user_guide/indexing.html#returning-a-view-versus-a-copy\n",
            "  import sys\n"
          ],
          "name": "stderr"
        },
        {
          "output_type": "execute_result",
          "data": {
            "text/html": [
              "<div>\n",
              "<style scoped>\n",
              "    .dataframe tbody tr th:only-of-type {\n",
              "        vertical-align: middle;\n",
              "    }\n",
              "\n",
              "    .dataframe tbody tr th {\n",
              "        vertical-align: top;\n",
              "    }\n",
              "\n",
              "    .dataframe thead th {\n",
              "        text-align: right;\n",
              "    }\n",
              "</style>\n",
              "<table border=\"1\" class=\"dataframe\">\n",
              "  <thead>\n",
              "    <tr style=\"text-align: right;\">\n",
              "      <th></th>\n",
              "      <th>essay_set</th>\n",
              "      <th>essay</th>\n",
              "      <th>domain1_score</th>\n",
              "    </tr>\n",
              "    <tr>\n",
              "      <th>essay_id</th>\n",
              "      <th></th>\n",
              "      <th></th>\n",
              "      <th></th>\n",
              "    </tr>\n",
              "  </thead>\n",
              "  <tbody>\n",
              "    <tr>\n",
              "      <th>1</th>\n",
              "      <td>1</td>\n",
              "      <td>Dear local newspaper, I think effects computer...</td>\n",
              "      <td>8</td>\n",
              "    </tr>\n",
              "    <tr>\n",
              "      <th>2</th>\n",
              "      <td>1</td>\n",
              "      <td>Dear @CAPS1 @CAPS2, I believe that using compu...</td>\n",
              "      <td>9</td>\n",
              "    </tr>\n",
              "    <tr>\n",
              "      <th>3</th>\n",
              "      <td>1</td>\n",
              "      <td>Dear, @CAPS1 @CAPS2 @CAPS3 More and more peopl...</td>\n",
              "      <td>7</td>\n",
              "    </tr>\n",
              "    <tr>\n",
              "      <th>4</th>\n",
              "      <td>1</td>\n",
              "      <td>Dear Local Newspaper, @CAPS1 I have found that...</td>\n",
              "      <td>10</td>\n",
              "    </tr>\n",
              "    <tr>\n",
              "      <th>5</th>\n",
              "      <td>1</td>\n",
              "      <td>Dear @LOCATION1, I know having computers has a...</td>\n",
              "      <td>8</td>\n",
              "    </tr>\n",
              "  </tbody>\n",
              "</table>\n",
              "</div>"
            ],
            "text/plain": [
              "          essay_set  ... domain1_score\n",
              "essay_id             ...              \n",
              "1                 1  ...             8\n",
              "2                 1  ...             9\n",
              "3                 1  ...             7\n",
              "4                 1  ...            10\n",
              "5                 1  ...             8\n",
              "\n",
              "[5 rows x 3 columns]"
            ]
          },
          "metadata": {
            "tags": []
          },
          "execution_count": 56
        }
      ]
    },
    {
      "cell_type": "code",
      "metadata": {
        "id": "AQnc2GgF7GRl",
        "colab_type": "code",
        "colab": {}
      },
      "source": [
        "#Parth's code\n",
        "#Dataset keys\n",
        "essay_id_key = \"essay_id\"\n",
        "essay_set_key = \"essay_set\"\n",
        "essay_key = \"essay\"\n",
        "domain1_score_key = \"domain1_score\""
      ],
      "execution_count": 0,
      "outputs": []
    },
    {
      "cell_type": "markdown",
      "metadata": {
        "id": "hA8w0c2yB-zf",
        "colab_type": "text"
      },
      "source": [
        "**Analysis on individual sets:**"
      ]
    },
    {
      "cell_type": "code",
      "metadata": {
        "id": "YchduySM72sK",
        "colab_type": "code",
        "outputId": "22e670d3-2901-4689-fa42-0dbb3a510b82",
        "colab": {
          "base_uri": "https://localhost:8080/",
          "height": 851
        }
      },
      "source": [
        "e1, e2, e3, e4, e5, e6, e7, e8 = [], [], [], [], [], [], [], []\n",
        "s1, s2, s3, s4, s5, s6, s7, s8 = [], [], [], [], [], [], [], []\n",
        "\n",
        "for idx in range(len(set1)):\n",
        "  e1.append(set1.iloc[idx][essay_key])\n",
        "  s1.append(set1.iloc[idx][domain1_score_key])\n",
        "\n",
        "for idx in range(len(set2)):\n",
        "  e2.append(set2.iloc[idx][essay_key])\n",
        "  s2.append(set2.iloc[idx][domain1_score_key])\n",
        "\n",
        "for idx in range(len(set3)):\n",
        "  e3.append(set3.iloc[idx][essay_key])\n",
        "  s3.append(set3.iloc[idx][domain1_score_key])\n",
        "\n",
        "for idx in range(len(set4)):\n",
        "  e4.append(set4.iloc[idx][essay_key])\n",
        "  s4.append(set4.iloc[idx][domain1_score_key])\n",
        "\n",
        "for idx in range(len(set5)):\n",
        "  e5.append(set5.iloc[idx][essay_key])\n",
        "  s5.append(set5.iloc[idx][domain1_score_key])\n",
        "\n",
        "for idx in range(len(set6)):\n",
        "  e6.append(set6.iloc[idx][essay_key])\n",
        "  s6.append(set6.iloc[idx][domain1_score_key])\n",
        "\n",
        "for idx in range(len(set7)):\n",
        "  e7.append(set7.iloc[idx][essay_key])\n",
        "  s7.append(set7.iloc[idx][domain1_score_key])\n",
        "\n",
        "for idx in range(len(set8)):\n",
        "  e8.append(set8.iloc[idx][essay_key])\n",
        "  s8.append(set8.iloc[idx][domain1_score_key])\n",
        "\n",
        "filename1 = 'ngram_model.sav'\n",
        "loaded_model1 = pickle.load(open(filename1, 'rb'))\n",
        "filename2 = 'ngram_classifier_model.sav'\n",
        "loaded_model2 = pickle.load(open(filename2, 'rb'))\n",
        "\n",
        "e1 = np.asarray(e1)\n",
        "e2 = np.asarray(e2)\n",
        "e3 = np.asarray(e3)\n",
        "e4 = np.asarray(e4)\n",
        "e5 = np.asarray(e5)\n",
        "e6 = np.asarray(e6)\n",
        "e7 = np.asarray(e7)\n",
        "e8 = np.asarray(e8)\n",
        "\n",
        "s1 = np.asarray(s1)\n",
        "s2 = np.asarray(s2)\n",
        "s3 = np.asarray(s3)\n",
        "s4 = np.asarray(s4)\n",
        "s5 = np.asarray(s5)\n",
        "s6 = np.asarray(s6)\n",
        "s7 = np.asarray(s7)\n",
        "s8 = np.asarray(s8)\n",
        "\n",
        "for i in range(8):\n",
        "  if i == 0:\n",
        "    all_essays = e1\n",
        "    all_scores = s1\n",
        "  elif i == 1:\n",
        "    all_essays = e2\n",
        "    all_scores = s2\n",
        "\n",
        "  elif i == 2:\n",
        "    all_essays = e3\n",
        "    all_scores = s3\n",
        "\n",
        "  elif i == 3:\n",
        "    all_essays = e4\n",
        "    all_scores = s4\n",
        "\n",
        "  elif i == 4:\n",
        "    all_essays = e5\n",
        "    all_scores = s5\n",
        "\n",
        "  elif i == 5:\n",
        "    all_essays = e6\n",
        "    all_scores = s6\n",
        "\n",
        "  elif i == 6:\n",
        "    all_essays = e7\n",
        "    all_scores = s7\n",
        "\n",
        "  else:\n",
        "    all_essays = e8\n",
        "    all_scores = s8\n",
        "\n",
        "  #essay_data = prepare_test(all_essays)\n",
        "  #print(type(all_essays), type(essay_data))\n",
        "  test_data = ngram_test(all_essays, loaded_model1)\n",
        "\n",
        "  pred = loaded_model2.predict(test_data)\n",
        "\n",
        "  f_pred_scores = 0\n",
        "  m_pred_scores = 0\n",
        "  f_count = 0\n",
        "  m_count = 0\n",
        "\n",
        "  for idx in range(len(all_essays)):\n",
        "    if pred[idx] == 0: #male\n",
        "      m_count += 1\n",
        "      m_pred_scores += all_scores[idx]\n",
        "    else:\n",
        "      f_count += 1\n",
        "      f_pred_scores += all_scores[idx]\n",
        "  \n",
        "  avg_male = m_pred_scores/m_count\n",
        "  avg_female = f_pred_scores/f_count\n",
        "  print('Avg male score for set', i+1, ':', avg_male)\n",
        "  print('Avg female score for set:', i+1, ':',avg_female)\n",
        "  print('Number of males for set', i+1, ':',m_count)\n",
        "  print('Number of females for set', i+1, ':',f_count)\n",
        "  print('\\n')"
      ],
      "execution_count": 0,
      "outputs": [
        {
          "output_type": "stream",
          "text": [
            "Avg male score for set 1 : 8.663244353182751\n",
            "Avg female score for set: 1 : 7.916149068322981\n",
            "Number of males for set 1 : 1461\n",
            "Number of females for set 1 : 322\n",
            "\n",
            "\n",
            "Avg male score for set 2 : 3.5734557595993324\n",
            "Avg female score for set: 2 : 3.101328903654485\n",
            "Number of males for set 2 : 1198\n",
            "Number of females for set 2 : 602\n",
            "\n",
            "\n",
            "Avg male score for set 3 : 1.878188775510204\n",
            "Avg female score for set: 3 : 1.5506329113924051\n",
            "Number of males for set 3 : 1568\n",
            "Number of females for set 3 : 158\n",
            "\n",
            "\n",
            "Avg male score for set 4 : 1.6603773584905661\n",
            "Avg female score for set: 4 : 1.3480278422273781\n",
            "Number of males for set 4 : 477\n",
            "Number of females for set 4 : 1293\n",
            "\n",
            "\n",
            "Avg male score for set 5 : 2.603448275862069\n",
            "Avg female score for set: 5 : 2.3415361670395227\n",
            "Number of males for set 5 : 464\n",
            "Number of females for set 5 : 1341\n",
            "\n",
            "\n",
            "Avg male score for set 6 : 2.728595411303861\n",
            "Avg female score for set: 6 : 1.5384615384615385\n",
            "Number of males for set 6 : 1787\n",
            "Number of females for set 6 : 13\n",
            "\n",
            "\n",
            "Avg male score for set 7 : 14.670289855072463\n",
            "Avg female score for set: 7 : 16.359628770301626\n",
            "Number of males for set 7 : 276\n",
            "Number of females for set 7 : 1293\n",
            "\n",
            "\n",
            "Avg male score for set 8 : 39.26923076923077\n",
            "Avg female score for set: 8 : 36.77049180327869\n",
            "Number of males for set 8 : 52\n",
            "Number of females for set 8 : 671\n",
            "\n",
            "\n"
          ],
          "name": "stdout"
        }
      ]
    },
    {
      "cell_type": "markdown",
      "metadata": {
        "id": "JJi8RaBAB3eg",
        "colab_type": "text"
      },
      "source": [
        "**Analysis on entire dataset:**\n",
        "Note that scores have been normalized"
      ]
    },
    {
      "cell_type": "code",
      "metadata": {
        "id": "XxRMAU_sYJIG",
        "colab_type": "code",
        "outputId": "31f57dd9-ff30-490e-973d-e430f62a11e4",
        "colab": {
          "base_uri": "https://localhost:8080/",
          "height": 86
        }
      },
      "source": [
        "all_essays = []\n",
        "all_scores = []\n",
        "\n",
        "for idx in range(len(data)):\n",
        "  all_essays.append(data.iloc[idx][essay_key])\n",
        "  all_scores.append(data.iloc[idx][domain1_score_key])\n",
        "\n",
        "filename1 = 'ngram_model.sav'\n",
        "loaded_model1 = pickle.load(open(filename1, 'rb'))\n",
        "filename2 = 'ngram_classifier_model.sav'\n",
        "loaded_model2 = pickle.load(open(filename2, 'rb'))\n",
        "\n",
        "all_essays = np.asarray(all_essays)\n",
        "test_data = ngram_test(all_essays, loaded_model1)\n",
        "\n",
        "pred = loaded_model2.predict(test_data)\n",
        "\n",
        "f_pred_scores = 0\n",
        "m_pred_scores = 0\n",
        "f_count = 0\n",
        "m_count = 0\n",
        "\n",
        "for idx in range(len(data)):\n",
        "  if pred[idx] == 0: #male\n",
        "    m_count += 1\n",
        "    m_pred_scores += all_scores[idx]\n",
        "  else:\n",
        "    f_count += 1\n",
        "    f_pred_scores += all_scores[idx]\n",
        "  \n",
        "avg_male = m_pred_scores/m_count\n",
        "avg_female = f_pred_scores/f_count\n",
        "print('Avg male score:', avg_male)\n",
        "print('Avg female score:', avg_female)\n",
        "print('Number of males:', m_count)\n",
        "print('Number of females:', f_count)"
      ],
      "execution_count": 0,
      "outputs": [
        {
          "output_type": "stream",
          "text": [
            "Avg male score: 4.510503913222573\n",
            "Avg female score: 9.729492359037414\n",
            "Number of males: 7283\n",
            "Number of females: 5693\n"
          ],
          "name": "stdout"
        }
      ]
    },
    {
      "cell_type": "code",
      "metadata": {
        "id": "ZvJJ428x_-2Y",
        "colab_type": "code",
        "outputId": "b7737f0f-b2c8-449a-8ae6-97260efe7649",
        "colab": {
          "base_uri": "https://localhost:8080/",
          "height": 278
        }
      },
      "source": [
        "import operator\n",
        "\n",
        "mdict = {}\n",
        "mscore = {}\n",
        "fscore = {}\n",
        "fdict = {}\n",
        "tdict = {}\n",
        "tscore = {}\n",
        "\n",
        "for idx in range(len(data)):\n",
        "  writtenwhole = data.iloc[idx][essay_key]\n",
        "  written = writtenwhole.split(' ')\n",
        "  if pred[idx] == 0:\n",
        "    for word in written:\n",
        "      w = word.lower()\n",
        "      if w in stop_words or w == ' ' or len(w) == 0:\n",
        "        continue\n",
        "      if w[0] == '@':\n",
        "        continue\n",
        "      if w not in mdict:\n",
        "        mdict[w] = 1\n",
        "        mscore[w] = norm_score[idx]\n",
        "      else:\n",
        "        mdict[w] += 1\n",
        "        mscore[w] += norm_score[idx]\n",
        "      if w not in tdict:\n",
        "        tdict[w] = 1\n",
        "        tscore[w] = norm_score[idx]\n",
        "      else:\n",
        "        tdict[w] += 1\n",
        "        tscore[w] += norm_score[idx]\n",
        "  else:\n",
        "    for word in written:\n",
        "      w = word.lower()\n",
        "      #print('jel', w)\n",
        "      if w in stop_words or w == ' ' or len(w) == 0:\n",
        "        continue\n",
        "      if w[0] == '@':\n",
        "        continue\n",
        "      if w not in fdict:\n",
        "        fdict[w] = 1\n",
        "        fscore[w] = norm_score[idx]\n",
        "      else:\n",
        "        fdict[w] += 1\n",
        "        fscore[w] += norm_score[idx]\n",
        "\n",
        "      if w not in tdict:\n",
        "        tdict[w] = 1\n",
        "        tscore[w] = norm_score[idx]\n",
        "      else:\n",
        "        tdict[w] += 1\n",
        "        tscore[w] += norm_score[idx]\n",
        "    \n",
        "mm = dict(sorted(mdict.items(), key=operator.itemgetter(1), reverse=True)[:10])\n",
        "ff = dict(sorted(fdict.items(), key=operator.itemgetter(1), reverse=True)[:10])\n",
        "print('Males:', [w for w in mm.keys()])\n",
        "print('Females:', [w for w in ff.keys()])\n",
        "\n",
        "for idx in mdict:\n",
        "  mscore[idx] = mscore[idx]/mdict[idx]\n",
        "for idx in fdict:\n",
        "  fscore[idx] = fscore[idx]/fdict[idx]\n",
        "for idx in tdict:\n",
        "  tscore[idx] = tscore[idx]/tdict[idx]\n",
        "\n",
        "\n",
        "print('Top 10 scoring words:','   ','Avg no. of times used by males in an essay', '   ','Avg no. of times used by females in an essay')\n",
        "s2 = dict(sorted(tdict.items(), key=operator.itemgetter(1), reverse=True)[:10])\n",
        "#print(s2)\n",
        "for w in s2:\n",
        "  print(w, '                   ', mscore[w], '                      ', fscore[w])\n"
      ],
      "execution_count": 0,
      "outputs": [
        {
          "output_type": "stream",
          "text": [
            "Males: ['people', 'would', 'computers', 'computer', 'many', 'could', 'one', 'building', 'also', 'like']\n",
            "Females: ['people', 'like', 'would', 'get', 'one', 'time', 'think', 'go', 'author', 'got']\n",
            "\n",
            "\n",
            "Top 10 scoring words:     Avg no. of times used by males in an essay     Avg no. of times used by females in an essay\n",
            "people                     0.6895147781920875                        0.6072997644287381\n",
            "would                     0.7115344027015519                        0.6075053477908029\n",
            "like                     0.6660970557774836                        0.5820515316718529\n",
            "computers                     0.7467899332306276                        0.679380185456323\n",
            "one                     0.6899979691307958                        0.6041606425702792\n",
            "get                     0.679354504404471                        0.5929995569339739\n",
            "could                     0.708059604794306                        0.6220195086705191\n",
            "think                     0.64203528827038                        0.5561838262139442\n",
            "time                     0.7128709647409105                        0.6069705979517658\n",
            "many                     0.7153829335332359                        0.660073472544471\n"
          ],
          "name": "stdout"
        }
      ]
    },
    {
      "cell_type": "code",
      "metadata": {
        "id": "Gk-QT2xXBgPJ",
        "colab_type": "code",
        "outputId": "2dffaaf3-6a3c-415f-f744-bd5ea58a392c",
        "colab": {
          "base_uri": "https://localhost:8080/",
          "height": 545
        }
      },
      "source": [
        "###-------NGRAM FEATURES VISUALIZATION ----------\n",
        "labels = []\n",
        "mat_shape = test_data[0].shape\n",
        "male_means =  scipy.sparse.csr_matrix(mat_shape)\n",
        "female_means =  scipy.sparse.csr_matrix(mat_shape)\n",
        "\n",
        "male_count = 0\n",
        "female_count = 0\n",
        "for idx in range(len(data)):\n",
        "  if pred[idx] == 0: #male\n",
        "    male_means = (male_means.tocsr() + test_data[idx].tocsr())\n",
        "    male_count += 1\n",
        "  else:\n",
        "    female_means = (female_means.tocsr() + test_data[idx].tocsr())\n",
        "    female_count += 1\n",
        "\n",
        "male_means = male_means/male_count\n",
        "female_means = female_means/female_count\n",
        "\n",
        "#male_means = list(male_means)\n",
        "#female_means = list(female_means)\n",
        "male_m = scipy.sparse.csr_matrix.toarray(male_means)\n",
        "plt.plot(male_m[0])\n",
        "plt.title('Male N-grams')\n",
        "plt.show()\n",
        "\n",
        "female_m = scipy.sparse.csr_matrix.toarray(female_means)\n",
        "plt.plot(female_m[0])\n",
        "plt.title('Female N-grams')\n",
        "plt.show()\n"
      ],
      "execution_count": 0,
      "outputs": [
        {
          "output_type": "display_data",
          "data": {
            "image/png": "[encoded data removed]",
            "text/plain": [
              "<Figure size 432x288 with 1 Axes>"
            ]
          },
          "metadata": {
            "tags": [],
            "needs_background": "light"
          }
        },
        {
          "output_type": "display_data",
          "data": {
            "image/png": "[encoded data removed]",
            "text/plain": [
              "<Figure size 432x288 with 1 Axes>"
            ]
          },
          "metadata": {
            "tags": [],
            "needs_background": "light"
          }
        }
      ]
    }
  ]
}