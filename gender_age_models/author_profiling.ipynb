{
  "nbformat": 4,
  "nbformat_minor": 0,
  "metadata": {
    "colab": {
      "name": "author_profiling.ipynb",
      "provenance": [],
      "collapsed_sections": [],
      "toc_visible": true,
      "machine_shape": "hm"
    },
    "kernelspec": {
      "name": "python3",
      "display_name": "Python 3"
    }
  },
  "cells": [
    {
      "cell_type": "markdown",
      "metadata": {
        "id": "paT05lVEAaUE",
        "colab_type": "text"
      },
      "source": [
        "**Pre-processing the data:**\n"
      ]
    },
    {
      "cell_type": "code",
      "metadata": {
        "id": "_K0cCKKT7nfe",
        "colab_type": "code",
        "outputId": "8d355123-fd12-42fd-ad82-b55a7dd26d90",
        "colab": {
          "base_uri": "https://localhost:8080/",
          "height": 86
        }
      },
      "source": [
        "###------PREPROCESSING THE DATA-------------\n",
        "import json\n",
        "import pickle\n",
        "import time\n",
        "import numpy as np\n",
        "import nltk\n",
        "nltk.download('stopwords')\n",
        "nltk.download('punkt')\n",
        "from nltk.tokenize import regexp_tokenize\n",
        "from nltk.corpus import stopwords\n",
        "from nltk.tokenize import word_tokenize \n",
        "stop_words = set(stopwords.words('english')) \n",
        "\n",
        "default_pattern =  r\"\"\"(?x)                  \n",
        "                        (?:[A-Z]\\.)+          \n",
        "                        |\\$?\\d+(?:\\.\\d+)?%?    \n",
        "                        |\\w+(?:[-']\\w+)*      \n",
        "                    \"\"\"\n",
        "with open('train.json') as json_file:\n",
        "    data = json.load(json_file)"
      ],
      "execution_count": 0,
      "outputs": [
        {
          "output_type": "stream",
          "text": [
            "[nltk_data] Downloading package stopwords to /root/nltk_data...\n",
            "[nltk_data]   Package stopwords is already up-to-date!\n",
            "[nltk_data] Downloading package punkt to /root/nltk_data...\n",
            "[nltk_data]   Package punkt is already up-to-date!\n"
          ],
          "name": "stdout"
        }
      ]
    },
    {
      "cell_type": "code",
      "metadata": {
        "id": "KEEOqZT6wyB0",
        "colab_type": "code",
        "colab": {}
      },
      "source": [
        "def prepare_data(start, data_length):\n",
        "  #data_length = 20000\n",
        "\n",
        "  essays = []\n",
        "  age = []\n",
        "  gender = []\n",
        "  gender_label  = []\n",
        "  age_label = []\n",
        "  original_data = []\n",
        "\n",
        "  for i in range(start, start+data_length):\n",
        "    poster_gender = data[i]['gender']\n",
        "    poster_age = int(data[i]['age'])\n",
        "    post = data[i]['post']\n",
        "    original_data.append(post)\n",
        "    tokens = regexp_tokenize(post, default_pattern)\n",
        "\n",
        "  #f_post = [w for w in tokens if not w in stop_words]\n",
        "\n",
        "    essays.append(tokens)\n",
        "    age.append(poster_age)\n",
        "    gender.append(poster_gender)\n",
        "    if poster_gender == 'male':\n",
        "      gender_label.append(0)\n",
        "    else:\n",
        "      gender_label.append(1)\n",
        "    if poster_age <= 15:\n",
        "      age_label.append(0)\n",
        "    elif poster_age > 15 and poster_age <= 25:\n",
        "      age_label.append(1)\n",
        "    elif poster_age > 25 and poster_age <= 35:\n",
        "      age_label.append(2)\n",
        "    elif poster_age > 35 and poster_age <= 50:\n",
        "      age_label.append(3)\n",
        "      \n",
        "  return essays, gender_label, age_label, original_data"
      ],
      "execution_count": 0,
      "outputs": []
    },
    {
      "cell_type": "code",
      "metadata": {
        "id": "XLBxAWEqoJHm",
        "colab_type": "code",
        "colab": {}
      },
      "source": [
        "def prepare_test(data):\n",
        "  essays = []\n",
        "  for i in range(len(data)):\n",
        "    if data[i] == []:\n",
        "      continue\n",
        "    tokens = regexp_tokenize(data[i], default_pattern)\n",
        "    essays.append(tokens)\n",
        "  return essays"
      ],
      "execution_count": 0,
      "outputs": []
    },
    {
      "cell_type": "markdown",
      "metadata": {
        "id": "PWNRwYWadpz4",
        "colab_type": "text"
      },
      "source": [
        "**Dataset summary:**"
      ]
    },
    {
      "cell_type": "code",
      "metadata": {
        "id": "sT6Wz5VNnOSa",
        "colab_type": "code",
        "colab": {}
      },
      "source": [
        "def gender_summary(essays, gender_label, mcount, fcount, ecount, avg_size):\n",
        "  for idx in range(len(essays)):\n",
        "    if gender_label[idx] == 0:\n",
        "      mcount += 1\n",
        "    elif gender_label[idx] == 1:\n",
        "      fcount += 1\n",
        "    avg_size += len(essays[idx])\n",
        "  ecount += len(essays)\n",
        "  return mcount, fcount, ecount, avg_size"
      ],
      "execution_count": 0,
      "outputs": []
    },
    {
      "cell_type": "code",
      "metadata": {
        "id": "TaOzTlF_dsiE",
        "colab_type": "code",
        "outputId": "0dfc446c-330f-4172-9d71-35e7a22069fb",
        "colab": {
          "base_uri": "https://localhost:8080/",
          "height": 243
        }
      },
      "source": [
        "import matplotlib.pyplot as plt\n",
        "import pandas as pd\n",
        "\n",
        "male_no = 0\n",
        "female_no = 0\n",
        "doc_size = 0\n",
        "\n",
        "for idx in range(len(essays)):\n",
        "  if gender_label[idx] == 0:\n",
        "    male_no += 1\n",
        "  elif gender_label[idx] == 1:\n",
        "    female_no += 1\n",
        "  doc_size += len(essays[idx])\n",
        "\n",
        "avg_doc_size = doc_size/len(essays)\n",
        "\n",
        "print('Data summary for gender prediction task')\n",
        "print('Number of male writers:', male_no)\n",
        "print('Number of female writers:', female_no)\n",
        "print('Number of essays used:', len(essays))\n",
        "print('Average document size:', avg_doc_size, 'words')\n",
        "print('Unique number of labels:', 2)\n",
        "\n",
        "print('\\n')\n",
        "print('Post no Essay                          Gender')\n",
        "for idx in range(1, 5):\n",
        "  o = original_data[idx]\n",
        "  if gender_label[idx] == 0:\n",
        "    g = 'male'\n",
        "  else:\n",
        "    g = 'female'\n",
        "  print(idx,'      ', o[:28], g)\n"
      ],
      "execution_count": 0,
      "outputs": [
        {
          "output_type": "stream",
          "text": [
            "Data summary for gender prediction task\n",
            "Number of male writers: 10226\n",
            "Number of female writers: 9774\n",
            "Number of essays used: 20000\n",
            "Average document size: 206.4144 words\n",
            "Unique number of labels: 2\n",
            "\n",
            "\n",
            "Post no Essay                          Gender\n",
            "1        so wuts up? today i had the  male\n",
            "2        i don't know about anyone el female\n",
            "3        urlLink    another roof-top  male\n",
            "4        gawd i luv my nanny!  she's  female\n"
          ],
          "name": "stdout"
        }
      ]
    },
    {
      "cell_type": "code",
      "metadata": {
        "id": "HoiDnHtpnnYX",
        "colab_type": "code",
        "outputId": "80ef374e-1870-4d92-ca70-9b66e8184e7f",
        "colab": {
          "base_uri": "https://localhost:8080/",
          "height": 260
        }
      },
      "source": [
        "batches = []\n",
        "i = 0\n",
        "while i < 250000:\n",
        "  batches.append(i)\n",
        "  i += 20000\n",
        "\n",
        "mcount = 0\n",
        "fcount = 0\n",
        "ecount = 0\n",
        "avg_size = 0\n",
        "for i in batches:\n",
        "  essays, gender_label, age_label, original_data = prepare_data(i, 20000)\n",
        "  mcount, fcount, ecount, avg_size = gender_summary(essays, gender_label, mcount,fcount,ecount,avg_size)\n",
        "\n",
        "print('Data summary for gender prediction task')\n",
        "print('Number of male writers:', mcount/ecount)\n",
        "print('Number of female writers:', fcount/ecount)\n",
        "print('Number of essays used:', ecount)\n",
        "print('Average document size:', avg_size/ecount, 'words')\n",
        "print('Unique number of labels:', 2)\n",
        "\n",
        "print('\\n')\n",
        "print('Post no Essay                          Gender')\n",
        "for idx in range(10, 15):\n",
        "  o = original_data[idx]\n",
        "  if gender_label[idx] == 0:\n",
        "    g = 'male'\n",
        "  else:\n",
        "    g = 'female'\n",
        "  print(idx,'      ', o[:28],'  ', g)"
      ],
      "execution_count": 0,
      "outputs": [
        {
          "output_type": "stream",
          "text": [
            "Data summary for gender prediction task\n",
            "Number of male writers: 0.5094961538461539\n",
            "Number of female writers: 0.4905038461538462\n",
            "Number of essays used: 260000\n",
            "Average document size: 204.52252307692308 words\n",
            "Unique number of labels: 2\n",
            "\n",
            "\n",
            "Post no Essay                          Gender\n",
            "10        Only one more day...woo hoo!    female\n",
            "11        Guess what? I've been throug    male\n",
            "12        The psuedonym (or how ever t    male\n",
            "13        I cannot focus. I have a sci    female\n",
            "14        Keep On Rockin' In The Free     female\n"
          ],
          "name": "stdout"
        }
      ]
    },
    {
      "cell_type": "markdown",
      "metadata": {
        "id": "_d70oiEEBs7V",
        "colab_type": "text"
      },
      "source": [
        "**Visualization functions:**"
      ]
    },
    {
      "cell_type": "code",
      "metadata": {
        "id": "X8JSstFgpBNa",
        "colab_type": "code",
        "colab": {}
      },
      "source": [
        "###----_VISUALIZATION------------\n",
        "def autolabel(rects):\n",
        "    \"\"\"Attach a text label above each bar in *rects*, displaying its height.\"\"\"\n",
        "    for rect in rects:\n",
        "        height = rect.get_height()\n",
        "        ax.annotate('{}'.format(height),\n",
        "                    xy=(rect.get_x() + rect.get_width() / 2, height),\n",
        "                    xytext=(0, 3),  # 3 points vertical offset\n",
        "                    textcoords=\"offset points\",\n",
        "                    ha='center', va='bottom')"
      ],
      "execution_count": 0,
      "outputs": []
    },
    {
      "cell_type": "code",
      "metadata": {
        "id": "H_ei82e0qPIZ",
        "colab_type": "code",
        "colab": {}
      },
      "source": [
        "def create_plot(labels, male_means, female_means, title, flag, size, save):\n",
        "  x = np.arange(len(labels))  # the label locations\n",
        "  width = 0.35  # the width of the bars\n",
        "\n",
        "  fig, ax = plt.subplots()\n",
        "  fig.set_size_inches(size, size)\n",
        "  rects1 = ax.bar(x - width/2, male_means, width, label='Male')\n",
        "  rects2 = ax.bar(x + width/2, female_means, width, label='Female')\n",
        "\n",
        "# Add some text for labels, title and custom x-axis tick labels, etc.\n",
        "  ax.set_ylabel('Scores')\n",
        "  ax.set_title(title)\n",
        "  ax.set_xticks(x)\n",
        "  ax.set_xticklabels(labels)\n",
        "  ax.legend()\n",
        "\n",
        "  if flag == 1:\n",
        "    autolabel(rects1)\n",
        "    autolabel(rects2)\n",
        "\n",
        "  if save == 1:\n",
        "    fig.savefig('test2png.png', dpi=100)\n",
        "\n",
        "  fig.tight_layout()\n",
        "\n",
        "  plt.show()"
      ],
      "execution_count": 0,
      "outputs": []
    },
    {
      "cell_type": "code",
      "metadata": {
        "id": "V2I-L_p6RMt_",
        "colab_type": "code",
        "colab": {}
      },
      "source": [
        "def sparse_plot(A):\n",
        "  plt.spy(A)"
      ],
      "execution_count": 0,
      "outputs": []
    },
    {
      "cell_type": "markdown",
      "metadata": {
        "id": "MkVsbylIWCry",
        "colab_type": "text"
      },
      "source": [
        "# **Gender profiling**"
      ]
    },
    {
      "cell_type": "markdown",
      "metadata": {
        "id": "fa6bHgonBLqx",
        "colab_type": "text"
      },
      "source": [
        "**Using possessive features**:\n"
      ]
    },
    {
      "cell_type": "code",
      "metadata": {
        "id": "4FSHnLCwNwa4",
        "colab_type": "code",
        "colab": {}
      },
      "source": [
        "###-----CREATING POSSESSIVE FEATURES--------\n",
        "def possessives_features(posts):\n",
        "  total_dict = {}\n",
        "  count_my = {}\n",
        "  count_others = {}\n",
        "\n",
        "  index = 0\n",
        "\n",
        "  for post in posts:\n",
        "    tag = 0\n",
        "    for word in post:\n",
        "      if tag == 1 and word.lower() not in total_dict:\n",
        "        total_dict[word.lower()] = index\n",
        "        count_my[word.lower()] = 1\n",
        "        count_others[word.lower()] = 0\n",
        "        index += 1\n",
        "      elif tag == 1 and word.lower() in total_dict:\n",
        "        count_my[word.lower()] += 1\n",
        "      elif tag == 2 and word.lower() not in total_dict:\n",
        "        total_dict[word.lower()] = index\n",
        "        count_others[word.lower()] = 1\n",
        "        count_my[word.lower()] = 0\n",
        "        index += 1\n",
        "      elif tag == 2 and word.lower() in total_dict:\n",
        "        count_others[word.lower()] += 1\n",
        "\n",
        "      if word.lower() == 'my':\n",
        "        tag = 1\n",
        "      elif word.lower() == 'theirs' or word.lower() == 'his' or word.lower() == 'hers' or word.lower() == 'yours':\n",
        "        tag = 2\n",
        "      else:\n",
        "        tag = 0\n",
        "  \n",
        "  my_feature = []\n",
        "  other_feature = []\n",
        "  dict_len = len(total_dict)\n",
        "  #print('dict len is',dict_len, 'index', index)\n",
        "\n",
        "  for post in posts:\n",
        "    tag = 0\n",
        "    feature1 = np.zeros(dict_len)\n",
        "    feature2 = np.zeros(dict_len)\n",
        "    for word in post:\n",
        "      if tag == 1:\n",
        "        idx = total_dict[word.lower()]\n",
        "        feature1[idx] += 1\n",
        "      elif tag == 2:\n",
        "        idx = total_dict[word.lower()]\n",
        "        feature2[idx] += 1\n",
        "\n",
        "      if word.lower() == 'my':\n",
        "        tag = 1\n",
        "      elif word.lower() == 'theirs' or word.lower() == 'his' or word.lower() == 'hers' or word.lower() == 'yours':\n",
        "        tag = 2\n",
        "      else:\n",
        "        tag = 0\n",
        "    my_feature.append(feature1)\n",
        "    other_feature.append(feature2)\n",
        "  return my_feature, other_feature, total_dict"
      ],
      "execution_count": 0,
      "outputs": []
    },
    {
      "cell_type": "code",
      "metadata": {
        "id": "nWsnOPTjmTlQ",
        "colab_type": "code",
        "outputId": "83eb968b-20c7-4e2b-934c-8b19d89ee586",
        "colab": {
          "base_uri": "https://localhost:8080/",
          "height": 260
        }
      },
      "source": [
        "###----SVM WITH POSSESSIVES-----------\n",
        "import sklearn\n",
        "from sklearn import svm\n",
        "from sklearn.linear_model import LogisticRegression\n",
        "from sklearn.metrics import accuracy_score\n",
        "\n",
        "#classifier = svm.SVC(max_iter=5000)\n",
        "trainlength = round(0.8*20000)\n",
        "classifier = LogisticRegression(random_state=0, max_iter=1000)\n",
        "\n",
        "batches = []\n",
        "i = 0\n",
        "while i < 250000:\n",
        "  batches.append(i)\n",
        "  i += 20000\n",
        "acc = 0\n",
        "for i in batches:\n",
        "  essays, gender_label, age_label, original_data = prepare_data(i, 20000)\n",
        "  my_feature, other_feature, total_dict = possessives_features(essays)\n",
        "  features = my_feature\n",
        "  Xtrain = np.asarray(features[:trainlength])\n",
        "  Ytrain = np.asarray(gender_label[:trainlength])\n",
        "\n",
        "#Xtrain = Xtrain.reshape(-1, 1)\n",
        "\n",
        "  classifier.fit(Xtrain, Ytrain)\n",
        "#classifier.fit(Xtrain, Ytrain)\n",
        "  Xtest = np.asarray(features[trainlength:])\n",
        "  Ytest = np.asarray(gender_label[trainlength:])\n",
        "\n",
        "#Xtest = Xtest.reshape(-1, 1)\n",
        "  #print('done with split')\n",
        "  pred = classifier.predict(Xtest)\n",
        "  acc += accuracy_score(Ytest, pred)\n",
        "  print('Batch', batches.index(i), ':', accuracy_score(Ytest, pred))\n",
        "print('Overall accuracy:', acc/len(batches))"
      ],
      "execution_count": 0,
      "outputs": [
        {
          "output_type": "stream",
          "text": [
            "Batch 0 : 0.5715\n",
            "Batch 1 : 0.556\n",
            "Batch 2 : 0.56525\n",
            "Batch 3 : 0.548\n",
            "Batch 4 : 0.55675\n",
            "Batch 5 : 0.566\n",
            "Batch 6 : 0.56625\n",
            "Batch 7 : 0.5655\n",
            "Batch 8 : 0.56025\n",
            "Batch 9 : 0.56825\n",
            "Batch 10 : 0.5495\n",
            "Batch 11 : 0.56275\n",
            "Batch 12 : 0.56975\n",
            "Overall accuracy: 0.5619807692307692\n"
          ],
          "name": "stdout"
        }
      ]
    },
    {
      "cell_type": "code",
      "metadata": {
        "id": "mv5QBgON_dn_",
        "colab_type": "code",
        "outputId": "f63fb14b-5ff0-4a44-9a11-ba74c9b8c7c1",
        "colab": {
          "base_uri": "https://localhost:8080/",
          "height": 69
        }
      },
      "source": [
        "###-----KNN WITH POSSESSIVES FEATURES---------\n",
        "from sklearn.neighbors import NearestNeighbors\n",
        "from sklearn import neighbors\n",
        "from sklearn.metrics import accuracy_score\n",
        "\n",
        "#6000:51, 10000:52.45\n",
        "num = 10000\n",
        "labels = gender_label[:num]\n",
        "data = essays[:num]\n",
        "\n",
        "my_feature, other_feature, total_dict = possessives_features(data)\n",
        "\n",
        "length = len(my_feature)\n",
        "print(length)\n",
        "trainlength = round(0.8*length)\n",
        "features = my_feature\n",
        "Xtrain = np.asarray(features[:trainlength])\n",
        "Ytrain = np.asarray(labels[:trainlength])\n",
        "\n",
        "clf = neighbors.KNeighborsClassifier(75)\n",
        "clf.fit(Xtrain, Ytrain)\n",
        "\n",
        "Xtest = np.asarray(features[trainlength:])\n",
        "Ytest = np.asarray(labels[trainlength:])\n",
        "\n",
        "#Xtest = Xtest.reshape(-1, 1)\n",
        "\n",
        "pred = clf.predict(Xtest)\n",
        "print(accuracy_score(Ytest, pred))"
      ],
      "execution_count": 0,
      "outputs": [
        {
          "output_type": "stream",
          "text": [
            "dict len is 5437 index 5437\n",
            "10000\n",
            "0.5245\n"
          ],
          "name": "stdout"
        }
      ]
    },
    {
      "cell_type": "markdown",
      "metadata": {
        "id": "2ljsg3JiBiFr",
        "colab_type": "text"
      },
      "source": [
        "**Using POS features:**"
      ]
    },
    {
      "cell_type": "code",
      "metadata": {
        "id": "y0ZKrVqP7OAs",
        "colab_type": "code",
        "outputId": "11e1707f-72c8-4f1f-aa86-a1f6f882d5ca",
        "colab": {
          "base_uri": "https://localhost:8080/",
          "height": 104
        }
      },
      "source": [
        "###-----------CREATING POS FEATURES-------------\n",
        "nltk.download('averaged_perceptron_tagger')\n",
        "nltk.download('tagsets')\n",
        "tagset = nltk.load('help/tagsets/upenn_tagset.pickle')\n",
        "no_tags = len(tagset.keys())\n",
        "index = 0\n",
        "tagdict = {}\n",
        "for tag in tagset.keys():\n",
        "  tagdict[tag] = index\n",
        "  index = index+1\n",
        "\n",
        "def POS(essays):\n",
        "  pos_features = []\n",
        "  for post in essays:\n",
        "    pos = nltk.pos_tag(post)\n",
        "    feature = np.zeros(no_tags)\n",
        "    for elem in pos:\n",
        "      tag = elem[1]\n",
        "      index = tagdict[tag]\n",
        "      feature[index] += 1\n",
        "    pos_features.append(feature)\n",
        "  return pos_features\n"
      ],
      "execution_count": 0,
      "outputs": [
        {
          "output_type": "stream",
          "text": [
            "[nltk_data] Downloading package averaged_perceptron_tagger to\n",
            "[nltk_data]     /root/nltk_data...\n",
            "[nltk_data]   Unzipping taggers/averaged_perceptron_tagger.zip.\n",
            "[nltk_data] Downloading package tagsets to /root/nltk_data...\n",
            "[nltk_data]   Unzipping help/tagsets.zip.\n"
          ],
          "name": "stdout"
        }
      ]
    },
    {
      "cell_type": "code",
      "metadata": {
        "id": "jNuYTlbbneYX",
        "colab_type": "code",
        "outputId": "e7fd7b90-efea-47d5-9934-b48421efcf30",
        "colab": {
          "base_uri": "https://localhost:8080/",
          "height": 910
        }
      },
      "source": [
        "###-------POS FEATURES VISUALIZATION----------\n",
        "import matplotlib\n",
        "import matplotlib.pyplot as plt\n",
        "from matplotlib.pyplot import figure\n",
        "\n",
        "labels = []\n",
        "length = len(tagdict)\n",
        "male_means = np.zeros(length)\n",
        "female_means = np.zeros(length)\n",
        "\n",
        "for label in tagdict:\n",
        "  labels.append(label)\n",
        "\n",
        "male_count = 0\n",
        "female_count = 0\n",
        "for idx in range(len(essays)):\n",
        "  if gender_label[idx] == 0: #male\n",
        "    male_means += np.asarray(pos_features[idx])\n",
        "    male_count += 1\n",
        "  else:\n",
        "    female_means += np.asarray(pos_features[idx])\n",
        "    female_count += 1\n",
        "\n",
        "male_means = male_means/male_count\n",
        "female_means = female_means/female_count\n",
        "\n",
        "male_means = list(male_means)\n",
        "female_means = list(female_means)\n",
        "\n",
        "create_plot(labels, male_means, female_means, 'POS feature counts by gender',1, 18,0)\n"
      ],
      "execution_count": 0,
      "outputs": [
        {
          "output_type": "stream",
          "text": [
            "works\n"
          ],
          "name": "stdout"
        },
        {
          "output_type": "display_data",
          "data": {
            "image/png": "[encoded data removed]",
            "text/plain": [
              "<Figure size 1296x1296 with 1 Axes>"
            ]
          },
          "metadata": {
            "tags": []
          }
        }
      ]
    },
    {
      "cell_type": "code",
      "metadata": {
        "id": "ZygqVRCJE0WU",
        "colab_type": "code",
        "outputId": "fd207dd5-1a3f-4cf6-c935-55001aeb0e01",
        "colab": {
          "base_uri": "https://localhost:8080/",
          "height": 260
        }
      },
      "source": [
        "###------SVM WITH POS_FEATURES-------\n",
        "import sklearn\n",
        "from sklearn import svm\n",
        "from sklearn.metrics import accuracy_score\n",
        "classifier = svm.SVC(kernel='rbf')\n",
        "length = 20000\n",
        "trainlength = round(0.8*length)\n",
        "acc = 0\n",
        "\n",
        "batches = []\n",
        "i = 0\n",
        "while i < 250000:\n",
        "  batches.append(i)\n",
        "  i += 20000\n",
        "\n",
        "for i in batches:\n",
        "  essays, gender_label, age_label, original_data = prepare_data(i, 20000)\n",
        "  pos_features = POS(essays)\n",
        "  features = pos_features\n",
        "  Xtrain = np.asarray(features[:trainlength])\n",
        "  Ytrain = np.asarray(gender_label[:trainlength])\n",
        "\n",
        "#Xtrain = Xtrain.reshape(-1, 1)\n",
        "\n",
        "  classifier.fit(Xtrain, Ytrain)\n",
        "  Xtest = np.asarray(features[trainlength:])\n",
        "  Ytest = np.asarray(gender_label[trainlength:])\n",
        "\n",
        "#Xtest = Xtest.reshape(-1, 1)\n",
        "\n",
        "  pred = classifier.predict(Xtest)\n",
        "  acc += accuracy_score(Ytest, pred)\n",
        "  print('Batch', batches.index(i), ':',accuracy_score(Ytest, pred))\n",
        "print('Overall accuracy', acc/len(batches))"
      ],
      "execution_count": 0,
      "outputs": [
        {
          "output_type": "stream",
          "text": [
            "Batch 0 : 0.60375\n",
            "Batch 1 : 0.57975\n",
            "Batch 2 : 0.58175\n",
            "Batch 3 : 0.57875\n",
            "Batch 4 : 0.57175\n",
            "Batch 5 : 0.582\n",
            "Batch 6 : 0.57575\n",
            "Batch 7 : 0.57825\n",
            "Batch 8 : 0.579\n",
            "Batch 9 : 0.58075\n",
            "Batch 10 : 0.58775\n",
            "Batch 11 : 0.5855\n",
            "Batch 12 : 0.586\n",
            "Overall accuracy 0.5823653846153846\n"
          ],
          "name": "stdout"
        }
      ]
    },
    {
      "cell_type": "code",
      "metadata": {
        "id": "EciIoF-U-mYj",
        "colab_type": "code",
        "outputId": "a165f0cb-554c-422b-81c3-e1533a77c5df",
        "colab": {
          "base_uri": "https://localhost:8080/",
          "height": 260
        }
      },
      "source": [
        "###-----KNN WITH POS_FEATURES---------\n",
        "from sklearn.neighbors import NearestNeighbors\n",
        "from sklearn import neighbors\n",
        "clf = neighbors.KNeighborsClassifier(75)\n",
        "\n",
        "length = 20000\n",
        "trainlength = round(0.8*length)\n",
        "acc = 0\n",
        "\n",
        "batches = []\n",
        "i = 0\n",
        "while i < 250000:\n",
        "  batches.append(i)\n",
        "  i += 20000\n",
        "\n",
        "for i in batches:\n",
        "  essays, gender_label, age_label, original_data = prepare_data(i, 20000)\n",
        "  pos_features = POS(essays)\n",
        "  features = pos_features\n",
        "  Xtrain = np.asarray(features[:trainlength])\n",
        "  Ytrain = np.asarray(gender_label[:trainlength])\n",
        "\n",
        "  clf.fit(Xtrain, Ytrain)\n",
        "\n",
        "  Xtest = np.asarray(features[trainlength:])\n",
        "  Ytest = np.asarray(gender_label[trainlength:])\n",
        "\n",
        "#Xtest = Xtest.reshape(-1, 1)\n",
        "\n",
        "  pred = clf.predict(Xtest)\n",
        "  print('Batch', batches.index(i), ':',accuracy_score(Ytest, pred))\n",
        "  acc += accuracy_score(Ytest, pred)\n",
        "print('Overall accuracy:', acc/len(batches))"
      ],
      "execution_count": 0,
      "outputs": [
        {
          "output_type": "stream",
          "text": [
            "Batch 0 : 0.58725\n",
            "Batch 1 : 0.572\n",
            "Batch 2 : 0.564\n",
            "Batch 3 : 0.57725\n",
            "Batch 4 : 0.56325\n",
            "Batch 5 : 0.56475\n",
            "Batch 6 : 0.57825\n",
            "Batch 7 : 0.57025\n",
            "Batch 8 : 0.57925\n",
            "Batch 9 : 0.58375\n",
            "Batch 10 : 0.581\n",
            "Batch 11 : 0.584\n",
            "Batch 12 : 0.57675\n",
            "Overall accuracy: 0.5755192307692307\n"
          ],
          "name": "stdout"
        }
      ]
    },
    {
      "cell_type": "markdown",
      "metadata": {
        "id": "ZywjmYckGq_H",
        "colab_type": "text"
      },
      "source": [
        "**Using custom-features:**"
      ]
    },
    {
      "cell_type": "code",
      "metadata": {
        "id": "gjhOrqD4Gt29",
        "colab_type": "code",
        "colab": {}
      },
      "source": [
        "#f:nn, jj, vbp, rb, vbd, cc\n",
        "#m:nnp, dt\n",
        "def custom(pos_features, tagdict):\n",
        "  c_features = []\n",
        "  w= [9,10,5,8,6,14,8]\n",
        "\n",
        "  for feature in pos_features:\n",
        "    i0 = tagdict['NN']\n",
        "    i1 = tagdict['JJ']\n",
        "    i2 = tagdict['VBP']\n",
        "    i3 = tagdict['VBD']\n",
        "    i4 = tagdict['CC']\n",
        "\n",
        "    i5 = tagdict['NNP']\n",
        "    i6 = tagdict['DT']\n",
        "\n",
        "    num = w[0]*feature[i0]+w[1]*feature[i1]+w[2]*feature[i2]+w[3]*feature[i3]+w[4]*feature[i4]-w[5]*feature[i5]-w[6]*feature[i6]\n",
        "    c_features.append(num)\n",
        "  return c_features"
      ],
      "execution_count": 0,
      "outputs": []
    },
    {
      "cell_type": "code",
      "metadata": {
        "id": "gh_OpcgdIeQW",
        "colab_type": "code",
        "outputId": "87a2914a-29e3-482d-9018-ebf9da31343a",
        "colab": {
          "base_uri": "https://localhost:8080/",
          "height": 732
        }
      },
      "source": [
        "###------SVM WITH CUSTOM FEATURES-------\n",
        "import sklearn\n",
        "from sklearn import svm\n",
        "from sklearn.metrics import accuracy_score\n",
        "\n",
        "#rbf: 56, linear: 56 , poly:52\n",
        "#classifier = svm.SVC(kernel='poly')\n",
        "classifier = svm.LinearSVC(C=1,max_iter=5000,random_state=0, tol=1e-5)\n",
        "length = 20000\n",
        "trainlength = round(0.8*length)\n",
        "acc = 0\n",
        "\n",
        "batches = []\n",
        "i = 0\n",
        "while i < 250000:\n",
        "  batches.append(i)\n",
        "  i += 20000\n",
        "\n",
        "for i in batches:\n",
        "  essays, gender_label, age_label, original_data = prepare_data(i, 20000)\n",
        "  pos_features = POS(essays)\n",
        "  custom_feature = custom(pos_features, tagdict)  \n",
        "  features = custom_feature\n",
        "\n",
        "  Xtrain = np.asarray(features[:trainlength])\n",
        "  Ytrain = np.asarray(gender_label[:trainlength])\n",
        "\n",
        "  Xtrain = Xtrain.reshape(-1, 1)\n",
        "\n",
        "  classifier.fit(Xtrain, Ytrain)\n",
        "  Xtest = np.asarray(features[trainlength:])\n",
        "  Ytest = np.asarray(gender_label[trainlength:])\n",
        "\n",
        "  Xtest = Xtest.reshape(-1, 1)\n",
        "\n",
        "  pred = classifier.predict(Xtest)\n",
        "  acc += accuracy_score(Ytest, pred)\n",
        "  print('Batch', batches.index(i), ':',accuracy_score(Ytest, pred))\n",
        "print('Overall accuracy:',acc/len(batches))"
      ],
      "execution_count": 0,
      "outputs": [
        {
          "output_type": "stream",
          "text": [
            "/usr/local/lib/python3.6/dist-packages/sklearn/svm/_base.py:947: ConvergenceWarning: Liblinear failed to converge, increase the number of iterations.\n",
            "  \"the number of iterations.\", ConvergenceWarning)\n"
          ],
          "name": "stderr"
        },
        {
          "output_type": "stream",
          "text": [
            "Batch 0 : 0.538\n"
          ],
          "name": "stdout"
        },
        {
          "output_type": "stream",
          "text": [
            "/usr/local/lib/python3.6/dist-packages/sklearn/svm/_base.py:947: ConvergenceWarning: Liblinear failed to converge, increase the number of iterations.\n",
            "  \"the number of iterations.\", ConvergenceWarning)\n"
          ],
          "name": "stderr"
        },
        {
          "output_type": "stream",
          "text": [
            "Batch 1 : 0.5415\n"
          ],
          "name": "stdout"
        },
        {
          "output_type": "stream",
          "text": [
            "/usr/local/lib/python3.6/dist-packages/sklearn/svm/_base.py:947: ConvergenceWarning: Liblinear failed to converge, increase the number of iterations.\n",
            "  \"the number of iterations.\", ConvergenceWarning)\n"
          ],
          "name": "stderr"
        },
        {
          "output_type": "stream",
          "text": [
            "Batch 2 : 0.547\n"
          ],
          "name": "stdout"
        },
        {
          "output_type": "stream",
          "text": [
            "/usr/local/lib/python3.6/dist-packages/sklearn/svm/_base.py:947: ConvergenceWarning: Liblinear failed to converge, increase the number of iterations.\n",
            "  \"the number of iterations.\", ConvergenceWarning)\n"
          ],
          "name": "stderr"
        },
        {
          "output_type": "stream",
          "text": [
            "Batch 3 : 0.53\n"
          ],
          "name": "stdout"
        },
        {
          "output_type": "stream",
          "text": [
            "/usr/local/lib/python3.6/dist-packages/sklearn/svm/_base.py:947: ConvergenceWarning: Liblinear failed to converge, increase the number of iterations.\n",
            "  \"the number of iterations.\", ConvergenceWarning)\n"
          ],
          "name": "stderr"
        },
        {
          "output_type": "stream",
          "text": [
            "Batch 4 : 0.53225\n"
          ],
          "name": "stdout"
        },
        {
          "output_type": "stream",
          "text": [
            "/usr/local/lib/python3.6/dist-packages/sklearn/svm/_base.py:947: ConvergenceWarning: Liblinear failed to converge, increase the number of iterations.\n",
            "  \"the number of iterations.\", ConvergenceWarning)\n"
          ],
          "name": "stderr"
        },
        {
          "output_type": "stream",
          "text": [
            "Batch 5 : 0.52225\n"
          ],
          "name": "stdout"
        },
        {
          "output_type": "stream",
          "text": [
            "/usr/local/lib/python3.6/dist-packages/sklearn/svm/_base.py:947: ConvergenceWarning: Liblinear failed to converge, increase the number of iterations.\n",
            "  \"the number of iterations.\", ConvergenceWarning)\n"
          ],
          "name": "stderr"
        },
        {
          "output_type": "stream",
          "text": [
            "Batch 6 : 0.53475\n"
          ],
          "name": "stdout"
        },
        {
          "output_type": "stream",
          "text": [
            "/usr/local/lib/python3.6/dist-packages/sklearn/svm/_base.py:947: ConvergenceWarning: Liblinear failed to converge, increase the number of iterations.\n",
            "  \"the number of iterations.\", ConvergenceWarning)\n"
          ],
          "name": "stderr"
        },
        {
          "output_type": "stream",
          "text": [
            "Batch 7 : 0.55775\n"
          ],
          "name": "stdout"
        },
        {
          "output_type": "stream",
          "text": [
            "/usr/local/lib/python3.6/dist-packages/sklearn/svm/_base.py:947: ConvergenceWarning: Liblinear failed to converge, increase the number of iterations.\n",
            "  \"the number of iterations.\", ConvergenceWarning)\n"
          ],
          "name": "stderr"
        },
        {
          "output_type": "stream",
          "text": [
            "Batch 8 : 0.48425\n"
          ],
          "name": "stdout"
        },
        {
          "output_type": "stream",
          "text": [
            "/usr/local/lib/python3.6/dist-packages/sklearn/svm/_base.py:947: ConvergenceWarning: Liblinear failed to converge, increase the number of iterations.\n",
            "  \"the number of iterations.\", ConvergenceWarning)\n"
          ],
          "name": "stderr"
        },
        {
          "output_type": "stream",
          "text": [
            "Batch 9 : 0.47\n"
          ],
          "name": "stdout"
        },
        {
          "output_type": "stream",
          "text": [
            "/usr/local/lib/python3.6/dist-packages/sklearn/svm/_base.py:947: ConvergenceWarning: Liblinear failed to converge, increase the number of iterations.\n",
            "  \"the number of iterations.\", ConvergenceWarning)\n"
          ],
          "name": "stderr"
        },
        {
          "output_type": "stream",
          "text": [
            "Batch 10 : 0.49475\n"
          ],
          "name": "stdout"
        },
        {
          "output_type": "stream",
          "text": [
            "/usr/local/lib/python3.6/dist-packages/sklearn/svm/_base.py:947: ConvergenceWarning: Liblinear failed to converge, increase the number of iterations.\n",
            "  \"the number of iterations.\", ConvergenceWarning)\n"
          ],
          "name": "stderr"
        },
        {
          "output_type": "stream",
          "text": [
            "Batch 11 : 0.478\n",
            "Batch 12 : 0.4965\n",
            "Overall accuracy: 0.5174615384615384\n"
          ],
          "name": "stdout"
        },
        {
          "output_type": "stream",
          "text": [
            "/usr/local/lib/python3.6/dist-packages/sklearn/svm/_base.py:947: ConvergenceWarning: Liblinear failed to converge, increase the number of iterations.\n",
            "  \"the number of iterations.\", ConvergenceWarning)\n"
          ],
          "name": "stderr"
        }
      ]
    },
    {
      "cell_type": "code",
      "metadata": {
        "id": "j9GoOJXTOja2",
        "colab_type": "code",
        "outputId": "012266c1-97ee-4f7b-f00f-752ac41f94bd",
        "colab": {
          "base_uri": "https://localhost:8080/",
          "height": 260
        }
      },
      "source": [
        "from sklearn.linear_model import LogisticRegression\n",
        "from sklearn.metrics import accuracy_score\n",
        "\n",
        "length = 20000\n",
        "trainlength = round(0.8*length)\n",
        "acc = 0\n",
        "clf = LogisticRegression(C=0.5,random_state=0)\n",
        "\n",
        "batches = []\n",
        "i = 0\n",
        "while i < 250000:\n",
        "  batches.append(i)\n",
        "  i += 20000\n",
        "\n",
        "for i in batches:\n",
        "  essays, gender_label, age_label, original_data = prepare_data(i, 20000)\n",
        "  pos_features = POS(essays)\n",
        "  custom_feature = custom(pos_features, tagdict) \n",
        "\n",
        "  Xtrain = np.asarray(features[:trainlength])\n",
        "  Ytrain = np.asarray(gender_label[:trainlength])\n",
        "\n",
        "  Xtrain = Xtrain.reshape(-1, 1)\n",
        "\n",
        "  clf.fit(Xtrain, Ytrain)\n",
        "\n",
        "  Xtest = np.asarray(features[trainlength:])\n",
        "  Ytest = np.asarray(gender_label[trainlength:])\n",
        "\n",
        "  Xtest = Xtest.reshape(-1, 1)\n",
        "\n",
        "  pred = classifier.predict(Xtest)\n",
        "  print('Batch',batches.index(i), ':',accuracy_score(Ytest, pred))\n",
        "  acc += accuracy_score(Ytest, pred)\n",
        "print('Overall accuracy:',acc/len(batches))"
      ],
      "execution_count": 0,
      "outputs": [
        {
          "output_type": "stream",
          "text": [
            "Batch 0 : 0.5185\n",
            "Batch 1 : 0.489\n",
            "Batch 2 : 0.5125\n",
            "Batch 3 : 0.51425\n",
            "Batch 4 : 0.51125\n",
            "Batch 5 : 0.518\n",
            "Batch 6 : 0.51325\n",
            "Batch 7 : 0.501\n",
            "Batch 8 : 0.50475\n",
            "Batch 9 : 0.51275\n",
            "Batch 10 : 0.50175\n",
            "Batch 11 : 0.5055\n",
            "Batch 12 : 0.4965\n",
            "Overall accuracy: 0.5076153846153846\n"
          ],
          "name": "stdout"
        }
      ]
    },
    {
      "cell_type": "code",
      "metadata": {
        "id": "JuxrLQkxK79d",
        "colab_type": "code",
        "outputId": "e4d59410-d22d-43fa-ef56-9ff5c3b573cd",
        "colab": {
          "base_uri": "https://localhost:8080/",
          "height": 369
        }
      },
      "source": [
        "###-------CUSTOM FEATURES VISUALIZATION----------\n",
        "import matplotlib\n",
        "import matplotlib.pyplot as plt\n",
        "from matplotlib.pyplot import figure\n",
        "\n",
        "labels = []\n",
        "male_means = np.zeros(1)\n",
        "female_means = np.zeros(1)\n",
        "labels.append('f1_score')\n",
        "\n",
        "male_count = 0\n",
        "female_count = 0\n",
        "for idx in range(len(essays)):\n",
        "  if gender_label[idx] == 0: #male\n",
        "    male_means += np.asarray(custom_feature[idx])\n",
        "    male_count += 1\n",
        "  else:\n",
        "    female_means += np.asarray(custom_feature[idx])\n",
        "    female_count += 1\n",
        "\n",
        "male_means = male_means/male_count\n",
        "female_means = female_means/female_count\n",
        "\n",
        "male_means = list(male_means)\n",
        "female_means = list(female_means)\n",
        "\n",
        "create_plot(labels, male_means, female_means, 'Custom feature counts by gender', 0, 5, 0)"
      ],
      "execution_count": 0,
      "outputs": [
        {
          "output_type": "display_data",
          "data": {
            "image/png": "[encoded data removed]",
            "text/plain": [
              "<Figure size 360x360 with 1 Axes>"
            ]
          },
          "metadata": {
            "tags": []
          }
        }
      ]
    },
    {
      "cell_type": "markdown",
      "metadata": {
        "id": "hie1lE4cC8s3",
        "colab_type": "text"
      },
      "source": [
        "**Using f-features:**"
      ]
    },
    {
      "cell_type": "code",
      "metadata": {
        "id": "aChUEYNdIeKn",
        "colab_type": "code",
        "colab": {}
      },
      "source": [
        "###-------CREATING F MEASURE FEATURES-----------\n",
        "### Reference: https://medium.com/@gianpaul.r/tokenization-and-parts-of-speech-pos-tagging-in-pythons-nltk-library-2d30f70af13b\n",
        "def f(pos_features, tagdict):\n",
        "  f_features = []\n",
        "  for feature in pos_features:\n",
        "    ##NN, NNS, NNP, NNPS\n",
        "    i0 = tagdict['NN']\n",
        "    i1 = tagdict['NNS']\n",
        "    i2 = tagdict['NNP']\n",
        "    i3 = tagdict['NNPS']\n",
        "    noun = feature[i0]+feature[i1]+feature[i2]+feature[i3]\n",
        "\n",
        "    #JJ,JJR,JJS\n",
        "    i4 = tagdict['JJ']\n",
        "    i5 = tagdict['JJR']\n",
        "    i6 = tagdict['JJS']\n",
        "    adj = feature[i4]+feature[i5]+feature[i6]\n",
        "\n",
        "    #IN\n",
        "    i7 = tagdict['IN']\n",
        "    prep = feature[i7]\n",
        "\n",
        "    #DT,WDT, PDT(?)\n",
        "    i8 = tagdict['DT']\n",
        "    i9 = tagdict['WDT']\n",
        "    art = feature[i8]+feature[i9]\n",
        "\n",
        "    #PRP, PRP$\n",
        "    i10 = tagdict['PRP']\n",
        "    i11 = tagdict['PRP$']\n",
        "    pron = feature[i10]+feature[i11]\n",
        "\n",
        "    #VB,VBD, VBG, VBN, VBP, VBZ\n",
        "    i12 = tagdict['VB']\n",
        "    i13 = tagdict['VBD']\n",
        "    i14 = tagdict['VBN']\n",
        "    i15 = tagdict['VBP']\n",
        "    i16 = tagdict['VBZ']\n",
        "    verb = feature[i12]+feature[i13]+feature[i14]+feature[i15]+feature[i16]\n",
        "\n",
        "    #RB,RBR,RBS\n",
        "    i17 = tagdict['RB']\n",
        "    i18 = tagdict['RBR']\n",
        "    i19 = tagdict['RBS']\n",
        "    adv =  feature[i17]+feature[i18]+feature[i19]\n",
        "\n",
        "    #UH\n",
        "    i20 = tagdict['UH']\n",
        "    inter = feature[i20]\n",
        "    num = 0.5*((noun+adj+prep+art)-(verb+adv+inter)+100)\n",
        "    f_features.append(num)\n",
        "  return f_features\n",
        "f_feature = f(pos_features, tagdict)"
      ],
      "execution_count": 0,
      "outputs": []
    },
    {
      "cell_type": "code",
      "metadata": {
        "id": "hKGdBaI6qtHm",
        "colab_type": "code",
        "outputId": "e1af340f-1f2f-4d14-d7da-610b5d83c155",
        "colab": {
          "base_uri": "https://localhost:8080/",
          "height": 512
        }
      },
      "source": [
        "###-------F1 FEATURES VISUALIZATION----------\n",
        "import matplotlib\n",
        "import matplotlib.pyplot as plt\n",
        "from matplotlib.pyplot import figure\n",
        "\n",
        "labels = []\n",
        "male_means = np.zeros(1)\n",
        "female_means = np.zeros(1)\n",
        "labels.append('f1_score')\n",
        "\n",
        "male_count = 0\n",
        "female_count = 0\n",
        "for idx in range(len(essays)):\n",
        "  if gender_label[idx] == 0: #male\n",
        "    male_means += np.asarray(f_feature[idx])\n",
        "    male_count += 1\n",
        "  else:\n",
        "    female_means += np.asarray(f_feature[idx])\n",
        "    female_count += 1\n",
        "\n",
        "male_means = male_means/male_count\n",
        "female_means = female_means/female_count\n",
        "\n",
        "male_means = list(male_means)\n",
        "female_means = list(female_means)\n",
        "\n",
        "create_plot(labels, male_means, female_means, 'F1 feature counts by gender', 0, 5, 0)"
      ],
      "execution_count": 0,
      "outputs": [
        {
          "output_type": "display_data",
          "data": {
            "image/png": "[encoded data removed]",
            "text/plain": [
              "<Figure size 1332x756 with 1 Axes>"
            ]
          },
          "metadata": {
            "tags": []
          }
        }
      ]
    },
    {
      "cell_type": "markdown",
      "metadata": {
        "id": "k5Q2mzmSDJOe",
        "colab_type": "text"
      },
      "source": [
        "**Using pos-seq (bigram) features:**"
      ]
    },
    {
      "cell_type": "code",
      "metadata": {
        "id": "GxQ6oQWwD6hy",
        "colab_type": "code",
        "outputId": "f29c2506-9078-4a52-afbc-678c33b46f33",
        "colab": {
          "base_uri": "https://localhost:8080/",
          "height": 348
        }
      },
      "source": [
        "###----CREATING POS SEQUENCE FEATURES (Bigram)----------------\n",
        "index = 0\n",
        "tagseq = {}\n",
        "for tag1 in tagset.keys():\n",
        "  for tag2 in tagset.keys():\n",
        "    tog = tag1+\" \"+tag2\n",
        "    if tog not in tagseq:\n",
        "      tagseq[tog] = index\n",
        "      index = index+1\n",
        "\n",
        "def pos_seq(essays, tagseq):\n",
        "  pos_seq_features = []\n",
        "  tagseqlen = len(tagseq)\n",
        "  for post in essays:\n",
        "    pos = nltk.pos_tag(post)\n",
        "    feature = np.zeros(tagseqlen)\n",
        "    for i in range(len(pos)-1):\n",
        "      tag1 = pos[i]\n",
        "      tag2 = pos[i+1]\n",
        "      tag1 = tag1[1]\n",
        "      tag2 = tag2[1]\n",
        "      tog = tag1+\" \"+tag2\n",
        "      index = tagseq[tog]\n",
        "      feature[index] += 1\n",
        "    pos_seq_features.append(feature)\n",
        "  return pos_seq_features\n",
        "  \n",
        "pos_seq_features = pos_seq(essays, tagseq) "
      ],
      "execution_count": 0,
      "outputs": [
        {
          "output_type": "error",
          "ename": "AttributeError",
          "evalue": "ignored",
          "traceback": [
            "\u001b[0;31m---------------------------------------------------------------------------\u001b[0m",
            "\u001b[0;31mAttributeError\u001b[0m                            Traceback (most recent call last)",
            "\u001b[0;32m<ipython-input-88-d84e398402e7>\u001b[0m in \u001b[0;36m<module>\u001b[0;34m()\u001b[0m\n\u001b[1;32m     25\u001b[0m   \u001b[0;32mreturn\u001b[0m \u001b[0mpos_seq_features\u001b[0m\u001b[0;34m\u001b[0m\u001b[0;34m\u001b[0m\u001b[0m\n\u001b[1;32m     26\u001b[0m \u001b[0;34m\u001b[0m\u001b[0m\n\u001b[0;32m---> 27\u001b[0;31m \u001b[0mpos_seq_features\u001b[0m \u001b[0;34m=\u001b[0m \u001b[0mpos_seq\u001b[0m\u001b[0;34m(\u001b[0m\u001b[0messays\u001b[0m\u001b[0;34m,\u001b[0m \u001b[0mtagseq\u001b[0m\u001b[0;34m)\u001b[0m\u001b[0;34m\u001b[0m\u001b[0;34m\u001b[0m\u001b[0m\n\u001b[0m",
            "\u001b[0;32m<ipython-input-88-d84e398402e7>\u001b[0m in \u001b[0;36mpos_seq\u001b[0;34m(essays, tagseq)\u001b[0m\n\u001b[1;32m     12\u001b[0m   \u001b[0mtagseqlen\u001b[0m \u001b[0;34m=\u001b[0m \u001b[0mlen\u001b[0m\u001b[0;34m(\u001b[0m\u001b[0mtagseq\u001b[0m\u001b[0;34m)\u001b[0m\u001b[0;34m\u001b[0m\u001b[0;34m\u001b[0m\u001b[0m\n\u001b[1;32m     13\u001b[0m   \u001b[0;32mfor\u001b[0m \u001b[0mpost\u001b[0m \u001b[0;32min\u001b[0m \u001b[0messays\u001b[0m\u001b[0;34m:\u001b[0m\u001b[0;34m\u001b[0m\u001b[0;34m\u001b[0m\u001b[0m\n\u001b[0;32m---> 14\u001b[0;31m     \u001b[0mpos\u001b[0m \u001b[0;34m=\u001b[0m \u001b[0mnltk\u001b[0m\u001b[0;34m.\u001b[0m\u001b[0mpos_tag\u001b[0m\u001b[0;34m(\u001b[0m\u001b[0mpost\u001b[0m\u001b[0;34m)\u001b[0m\u001b[0;34m\u001b[0m\u001b[0;34m\u001b[0m\u001b[0m\n\u001b[0m\u001b[1;32m     15\u001b[0m     \u001b[0mfeature\u001b[0m \u001b[0;34m=\u001b[0m \u001b[0mnp\u001b[0m\u001b[0;34m.\u001b[0m\u001b[0mzeros\u001b[0m\u001b[0;34m(\u001b[0m\u001b[0mtagseqlen\u001b[0m\u001b[0;34m)\u001b[0m\u001b[0;34m\u001b[0m\u001b[0;34m\u001b[0m\u001b[0m\n\u001b[1;32m     16\u001b[0m     \u001b[0;32mfor\u001b[0m \u001b[0mi\u001b[0m \u001b[0;32min\u001b[0m \u001b[0mrange\u001b[0m\u001b[0;34m(\u001b[0m\u001b[0mlen\u001b[0m\u001b[0;34m(\u001b[0m\u001b[0mpos\u001b[0m\u001b[0;34m)\u001b[0m\u001b[0;34m-\u001b[0m\u001b[0;36m1\u001b[0m\u001b[0;34m)\u001b[0m\u001b[0;34m:\u001b[0m\u001b[0;34m\u001b[0m\u001b[0;34m\u001b[0m\u001b[0m\n",
            "\u001b[0;32m/usr/local/lib/python3.6/dist-packages/nltk/tag/__init__.py\u001b[0m in \u001b[0;36mpos_tag\u001b[0;34m(tokens, tagset, lang)\u001b[0m\n\u001b[1;32m    132\u001b[0m     \"\"\"\n\u001b[1;32m    133\u001b[0m     \u001b[0mtagger\u001b[0m \u001b[0;34m=\u001b[0m \u001b[0m_get_tagger\u001b[0m\u001b[0;34m(\u001b[0m\u001b[0mlang\u001b[0m\u001b[0;34m)\u001b[0m\u001b[0;34m\u001b[0m\u001b[0;34m\u001b[0m\u001b[0m\n\u001b[0;32m--> 134\u001b[0;31m     \u001b[0;32mreturn\u001b[0m \u001b[0m_pos_tag\u001b[0m\u001b[0;34m(\u001b[0m\u001b[0mtokens\u001b[0m\u001b[0;34m,\u001b[0m \u001b[0mtagset\u001b[0m\u001b[0;34m,\u001b[0m \u001b[0mtagger\u001b[0m\u001b[0;34m)\u001b[0m\u001b[0;34m\u001b[0m\u001b[0;34m\u001b[0m\u001b[0m\n\u001b[0m\u001b[1;32m    135\u001b[0m \u001b[0;34m\u001b[0m\u001b[0m\n\u001b[1;32m    136\u001b[0m \u001b[0;34m\u001b[0m\u001b[0m\n",
            "\u001b[0;32m/usr/local/lib/python3.6/dist-packages/nltk/tag/__init__.py\u001b[0m in \u001b[0;36m_pos_tag\u001b[0;34m(tokens, tagset, tagger)\u001b[0m\n\u001b[1;32m    100\u001b[0m \u001b[0;34m\u001b[0m\u001b[0m\n\u001b[1;32m    101\u001b[0m \u001b[0;32mdef\u001b[0m \u001b[0m_pos_tag\u001b[0m\u001b[0;34m(\u001b[0m\u001b[0mtokens\u001b[0m\u001b[0;34m,\u001b[0m \u001b[0mtagset\u001b[0m\u001b[0;34m,\u001b[0m \u001b[0mtagger\u001b[0m\u001b[0;34m)\u001b[0m\u001b[0;34m:\u001b[0m\u001b[0;34m\u001b[0m\u001b[0;34m\u001b[0m\u001b[0m\n\u001b[0;32m--> 102\u001b[0;31m     \u001b[0mtagged_tokens\u001b[0m \u001b[0;34m=\u001b[0m \u001b[0mtagger\u001b[0m\u001b[0;34m.\u001b[0m\u001b[0mtag\u001b[0m\u001b[0;34m(\u001b[0m\u001b[0mtokens\u001b[0m\u001b[0;34m)\u001b[0m\u001b[0;34m\u001b[0m\u001b[0;34m\u001b[0m\u001b[0m\n\u001b[0m\u001b[1;32m    103\u001b[0m     \u001b[0;32mif\u001b[0m \u001b[0mtagset\u001b[0m\u001b[0;34m:\u001b[0m\u001b[0;34m\u001b[0m\u001b[0;34m\u001b[0m\u001b[0m\n\u001b[1;32m    104\u001b[0m         \u001b[0mtagged_tokens\u001b[0m \u001b[0;34m=\u001b[0m \u001b[0;34m[\u001b[0m\u001b[0;34m(\u001b[0m\u001b[0mtoken\u001b[0m\u001b[0;34m,\u001b[0m \u001b[0mmap_tag\u001b[0m\u001b[0;34m(\u001b[0m\u001b[0;34m'en-ptb'\u001b[0m\u001b[0;34m,\u001b[0m \u001b[0mtagset\u001b[0m\u001b[0;34m,\u001b[0m \u001b[0mtag\u001b[0m\u001b[0;34m)\u001b[0m\u001b[0;34m)\u001b[0m \u001b[0;32mfor\u001b[0m \u001b[0;34m(\u001b[0m\u001b[0mtoken\u001b[0m\u001b[0;34m,\u001b[0m \u001b[0mtag\u001b[0m\u001b[0;34m)\u001b[0m \u001b[0;32min\u001b[0m \u001b[0mtagged_tokens\u001b[0m\u001b[0;34m]\u001b[0m\u001b[0;34m\u001b[0m\u001b[0;34m\u001b[0m\u001b[0m\n",
            "\u001b[0;32m/usr/local/lib/python3.6/dist-packages/nltk/tag/perceptron.py\u001b[0m in \u001b[0;36mtag\u001b[0;34m(self, tokens)\u001b[0m\n\u001b[1;32m    150\u001b[0m         \u001b[0moutput\u001b[0m \u001b[0;34m=\u001b[0m \u001b[0;34m[\u001b[0m\u001b[0;34m]\u001b[0m\u001b[0;34m\u001b[0m\u001b[0;34m\u001b[0m\u001b[0m\n\u001b[1;32m    151\u001b[0m \u001b[0;34m\u001b[0m\u001b[0m\n\u001b[0;32m--> 152\u001b[0;31m         \u001b[0mcontext\u001b[0m \u001b[0;34m=\u001b[0m \u001b[0mself\u001b[0m\u001b[0;34m.\u001b[0m\u001b[0mSTART\u001b[0m \u001b[0;34m+\u001b[0m \u001b[0;34m[\u001b[0m\u001b[0mself\u001b[0m\u001b[0;34m.\u001b[0m\u001b[0mnormalize\u001b[0m\u001b[0;34m(\u001b[0m\u001b[0mw\u001b[0m\u001b[0;34m)\u001b[0m \u001b[0;32mfor\u001b[0m \u001b[0mw\u001b[0m \u001b[0;32min\u001b[0m \u001b[0mtokens\u001b[0m\u001b[0;34m]\u001b[0m \u001b[0;34m+\u001b[0m \u001b[0mself\u001b[0m\u001b[0;34m.\u001b[0m\u001b[0mEND\u001b[0m\u001b[0;34m\u001b[0m\u001b[0;34m\u001b[0m\u001b[0m\n\u001b[0m\u001b[1;32m    153\u001b[0m         \u001b[0;32mfor\u001b[0m \u001b[0mi\u001b[0m\u001b[0;34m,\u001b[0m \u001b[0mword\u001b[0m \u001b[0;32min\u001b[0m \u001b[0menumerate\u001b[0m\u001b[0;34m(\u001b[0m\u001b[0mtokens\u001b[0m\u001b[0;34m)\u001b[0m\u001b[0;34m:\u001b[0m\u001b[0;34m\u001b[0m\u001b[0;34m\u001b[0m\u001b[0m\n\u001b[1;32m    154\u001b[0m             \u001b[0mtag\u001b[0m \u001b[0;34m=\u001b[0m \u001b[0mself\u001b[0m\u001b[0;34m.\u001b[0m\u001b[0mtagdict\u001b[0m\u001b[0;34m.\u001b[0m\u001b[0mget\u001b[0m\u001b[0;34m(\u001b[0m\u001b[0mword\u001b[0m\u001b[0;34m)\u001b[0m\u001b[0;34m\u001b[0m\u001b[0;34m\u001b[0m\u001b[0m\n",
            "\u001b[0;32m/usr/local/lib/python3.6/dist-packages/nltk/tag/perceptron.py\u001b[0m in \u001b[0;36m<listcomp>\u001b[0;34m(.0)\u001b[0m\n\u001b[1;32m    150\u001b[0m         \u001b[0moutput\u001b[0m \u001b[0;34m=\u001b[0m \u001b[0;34m[\u001b[0m\u001b[0;34m]\u001b[0m\u001b[0;34m\u001b[0m\u001b[0;34m\u001b[0m\u001b[0m\n\u001b[1;32m    151\u001b[0m \u001b[0;34m\u001b[0m\u001b[0m\n\u001b[0;32m--> 152\u001b[0;31m         \u001b[0mcontext\u001b[0m \u001b[0;34m=\u001b[0m \u001b[0mself\u001b[0m\u001b[0;34m.\u001b[0m\u001b[0mSTART\u001b[0m \u001b[0;34m+\u001b[0m \u001b[0;34m[\u001b[0m\u001b[0mself\u001b[0m\u001b[0;34m.\u001b[0m\u001b[0mnormalize\u001b[0m\u001b[0;34m(\u001b[0m\u001b[0mw\u001b[0m\u001b[0;34m)\u001b[0m \u001b[0;32mfor\u001b[0m \u001b[0mw\u001b[0m \u001b[0;32min\u001b[0m \u001b[0mtokens\u001b[0m\u001b[0;34m]\u001b[0m \u001b[0;34m+\u001b[0m \u001b[0mself\u001b[0m\u001b[0;34m.\u001b[0m\u001b[0mEND\u001b[0m\u001b[0;34m\u001b[0m\u001b[0;34m\u001b[0m\u001b[0m\n\u001b[0m\u001b[1;32m    153\u001b[0m         \u001b[0;32mfor\u001b[0m \u001b[0mi\u001b[0m\u001b[0;34m,\u001b[0m \u001b[0mword\u001b[0m \u001b[0;32min\u001b[0m \u001b[0menumerate\u001b[0m\u001b[0;34m(\u001b[0m\u001b[0mtokens\u001b[0m\u001b[0;34m)\u001b[0m\u001b[0;34m:\u001b[0m\u001b[0;34m\u001b[0m\u001b[0;34m\u001b[0m\u001b[0m\n\u001b[1;32m    154\u001b[0m             \u001b[0mtag\u001b[0m \u001b[0;34m=\u001b[0m \u001b[0mself\u001b[0m\u001b[0;34m.\u001b[0m\u001b[0mtagdict\u001b[0m\u001b[0;34m.\u001b[0m\u001b[0mget\u001b[0m\u001b[0;34m(\u001b[0m\u001b[0mword\u001b[0m\u001b[0;34m)\u001b[0m\u001b[0;34m\u001b[0m\u001b[0;34m\u001b[0m\u001b[0m\n",
            "\u001b[0;32m/usr/local/lib/python3.6/dist-packages/nltk/tag/perceptron.py\u001b[0m in \u001b[0;36mnormalize\u001b[0;34m(self, word)\u001b[0m\n\u001b[1;32m    236\u001b[0m         \u001b[0;32mif\u001b[0m \u001b[0;34m'-'\u001b[0m \u001b[0;32min\u001b[0m \u001b[0mword\u001b[0m \u001b[0;32mand\u001b[0m \u001b[0mword\u001b[0m\u001b[0;34m[\u001b[0m\u001b[0;36m0\u001b[0m\u001b[0;34m]\u001b[0m \u001b[0;34m!=\u001b[0m \u001b[0;34m'-'\u001b[0m\u001b[0;34m:\u001b[0m\u001b[0;34m\u001b[0m\u001b[0;34m\u001b[0m\u001b[0m\n\u001b[1;32m    237\u001b[0m             \u001b[0;32mreturn\u001b[0m \u001b[0;34m'!HYPHEN'\u001b[0m\u001b[0;34m\u001b[0m\u001b[0;34m\u001b[0m\u001b[0m\n\u001b[0;32m--> 238\u001b[0;31m         \u001b[0;32melif\u001b[0m \u001b[0mword\u001b[0m\u001b[0;34m.\u001b[0m\u001b[0misdigit\u001b[0m\u001b[0;34m(\u001b[0m\u001b[0;34m)\u001b[0m \u001b[0;32mand\u001b[0m \u001b[0mlen\u001b[0m\u001b[0;34m(\u001b[0m\u001b[0mword\u001b[0m\u001b[0;34m)\u001b[0m \u001b[0;34m==\u001b[0m \u001b[0;36m4\u001b[0m\u001b[0;34m:\u001b[0m\u001b[0;34m\u001b[0m\u001b[0;34m\u001b[0m\u001b[0m\n\u001b[0m\u001b[1;32m    239\u001b[0m             \u001b[0;32mreturn\u001b[0m \u001b[0;34m'!YEAR'\u001b[0m\u001b[0;34m\u001b[0m\u001b[0;34m\u001b[0m\u001b[0m\n\u001b[1;32m    240\u001b[0m         \u001b[0;32melif\u001b[0m \u001b[0mword\u001b[0m\u001b[0;34m[\u001b[0m\u001b[0;36m0\u001b[0m\u001b[0;34m]\u001b[0m\u001b[0;34m.\u001b[0m\u001b[0misdigit\u001b[0m\u001b[0;34m(\u001b[0m\u001b[0;34m)\u001b[0m\u001b[0;34m:\u001b[0m\u001b[0;34m\u001b[0m\u001b[0;34m\u001b[0m\u001b[0m\n",
            "\u001b[0;31mAttributeError\u001b[0m: 'list' object has no attribute 'isdigit'"
          ]
        }
      ]
    },
    {
      "cell_type": "code",
      "metadata": {
        "id": "eFoeGscJtJ5e",
        "colab_type": "code",
        "outputId": "51187bc9-e8a0-429a-a048-803a253d2fa4",
        "colab": {
          "base_uri": "https://localhost:8080/",
          "height": 893
        }
      },
      "source": [
        "###-------POS-SEQ FEATURES VISUALIZATION (Bigram)----------\n",
        "import matplotlib\n",
        "import matplotlib.pyplot as plt\n",
        "from matplotlib.pyplot import figure\n",
        "\n",
        "labels = []\n",
        "length = len(tagseq)\n",
        "male_means = np.zeros(length)\n",
        "female_means = np.zeros(length)\n",
        "\n",
        "for label in tagseq:\n",
        "  split_label = label.split()\n",
        "  new_label = split_label[0]+'-'+split_label[1]\n",
        "  labels.append(new_label)\n",
        "\n",
        "male_count = 0\n",
        "female_count = 0\n",
        "for idx in range(len(essays)):\n",
        "  if gender_label[idx] == 0: #male\n",
        "    male_means += np.asarray(pos_seq_features[idx])\n",
        "    male_count += 1\n",
        "  else:\n",
        "    female_means += np.asarray(pos_seq_features[idx])\n",
        "    female_count += 1\n",
        "\n",
        "male_means = male_means/male_count\n",
        "female_means = female_means/female_count\n",
        "\n",
        "male_means = list(male_means)\n",
        "female_means = list(female_means)\n",
        "\n",
        "create_plot(labels, male_means, female_means, 'POS-SEQ feature counts by gender',0, 60, 1)\n"
      ],
      "execution_count": 0,
      "outputs": [
        {
          "output_type": "display_data",
          "data": {
            "image/png": "[encoded data removed]",
            "text/plain": [
              "<Figure size 4320x4320 with 1 Axes>"
            ]
          },
          "metadata": {
            "tags": []
          }
        }
      ]
    },
    {
      "cell_type": "code",
      "metadata": {
        "id": "81zoH9qNajUD",
        "colab_type": "code",
        "outputId": "800c8bb9-0044-4d1e-9f81-7eecfa38f705",
        "colab": {
          "base_uri": "https://localhost:8080/",
          "height": 34
        }
      },
      "source": [
        "###------SVM WITH POS_SEQ_FEATURES-------\n",
        "import sklearn\n",
        "from sklearn import svm\n",
        "from sklearn.metrics import accuracy_score\n",
        "classifier = svm.SVC(kernel='rbf')\n",
        "length = len(pos_features)\n",
        "trainlength = round(0.8*length)\n",
        "features = pos_seq_features\n",
        "Xtrain = np.asarray(features[:trainlength])\n",
        "Ytrain = np.asarray(gender_label[:trainlength])\n",
        "\n",
        "#Xtrain = Xtrain.reshape(-1, 1)\n",
        "\n",
        "classifier.fit(Xtrain, Ytrain)\n",
        "Xtest = np.asarray(features[trainlength:])\n",
        "Ytest = np.asarray(gender_label[trainlength:])\n",
        "\n",
        "#Xtest = Xtest.reshape(-1, 1)\n",
        "\n",
        "pred = classifier.predict(Xtest)\n",
        "print(accuracy_score(Ytest, pred))"
      ],
      "execution_count": 0,
      "outputs": [
        {
          "output_type": "stream",
          "text": [
            "0.5975\n"
          ],
          "name": "stdout"
        }
      ]
    },
    {
      "cell_type": "code",
      "metadata": {
        "id": "rYSttk19Duap",
        "colab_type": "code",
        "colab": {}
      },
      "source": [
        "###-----KNN WITH POS_SEQ FEATURES---------\n",
        "from sklearn.neighbors import NearestNeighbors\n",
        "from sklearn import neighbors\n",
        "\n",
        "length = len(essays)\n",
        "trainlength = round(0.8*length)\n",
        "features = pos_seq_features\n",
        "Xtrain = np.asarray(features[:trainlength])\n",
        "Ytrain = np.asarray(gender_label[:trainlength])\n",
        "\n",
        "clf = neighbors.KNeighborsClassifier(75)\n",
        "clf.fit(Xtrain, Ytrain)\n",
        "\n",
        "Xtest = np.asarray(features[trainlength:])\n",
        "Ytest = np.asarray(gender_label[trainlength:])\n",
        "\n",
        "#Xtest = Xtest.reshape(-1, 1)\n",
        "\n",
        "pred = clf.predict(Xtest)\n",
        "print(accuracy_score(Ytest, pred))"
      ],
      "execution_count": 0,
      "outputs": []
    },
    {
      "cell_type": "markdown",
      "metadata": {
        "id": "X9HyLZK5v0aj",
        "colab_type": "text"
      },
      "source": [
        "**Using n-gram (char) features:**"
      ]
    },
    {
      "cell_type": "code",
      "metadata": {
        "id": "TrUEK_s6v4DZ",
        "colab_type": "code",
        "colab": {}
      },
      "source": [
        "###-------CREATING NGRAM FEATURES-----------\n",
        "from sklearn.feature_extraction.text import CountVectorizer\n",
        "from sklearn.feature_extraction.text import TfidfTransformer\n",
        "\n",
        "def ngram_train_char(data, num, count_vect):\n",
        "  if count_vect == []:\n",
        "    count_vect = CountVectorizer(stop_words='english', analyzer='char', ngram_range=(num, num))\n",
        "  ngram_counts = count_vect.fit_transform(data)\n",
        "  return ngram_counts, count_vect\n",
        "\n",
        "def ngram_test_char(data, model):\n",
        "  ngram_counts = model.transform(data)\n",
        "  return ngram_counts"
      ],
      "execution_count": 0,
      "outputs": []
    },
    {
      "cell_type": "code",
      "metadata": {
        "id": "ACKkd6o8wFKt",
        "colab_type": "code",
        "outputId": "86a6bf3c-0ba1-4261-9e1b-2b8715c9ea71",
        "colab": {
          "base_uri": "https://localhost:8080/",
          "height": 940
        }
      },
      "source": [
        "###---------ORIGINAL NGRAMS WITH NAIVE BAYES------------\n",
        "from sklearn.naive_bayes import MultinomialNB\n",
        "from sklearn.metrics import accuracy_score\n",
        "\n",
        "nb_classifier = MultinomialNB()\n",
        "batches = []\n",
        "i = 0\n",
        "while i < 250000:\n",
        "  batches.append(i)\n",
        "  i += 5000\n",
        "\n",
        "print(batches)\n",
        "acc = 0\n",
        "for i in batches:\n",
        "  essays, gender_label, age_label, original_data = prepare_data(i, 5000)\n",
        "  del essays, age_label\n",
        "  #print('prepared data')\n",
        "  trainlength = round(0.8*len(gender_label))\n",
        "  features = original_data\n",
        "\n",
        "  Xtrain = np.asarray(features[0:trainlength])\n",
        "  Ytrain = np.asarray(gender_label[0:trainlength])\n",
        "  Xtest = np.asarray(features[trainlength:])\n",
        "  Ytest = np.asarray(gender_label[trainlength:])\n",
        "  del original_data, gender_label\n",
        "  #print('train,test')\n",
        "\n",
        "  if i == 0:\n",
        "    train_data, model = ngram_train_char(Xtrain, 1, []) \n",
        "  else:\n",
        "    train_data, model = ngram_train_char(Xtrain, 1, model) \n",
        "\n",
        "  test_data = ngram_test_char(Xtest, model)\n",
        "  del Xtrain, Xtest\n",
        "  #print('ngrams')\n",
        "\n",
        "  nb_classifier.fit(train_data, Ytrain)\n",
        "  pred = nb_classifier.predict(test_data)\n",
        "  #print('predicted')\n",
        "\n",
        "  del train_data, test_data,\n",
        "  acc += accuracy_score(Ytest, pred)\n",
        "  print('Batch', batches.index(i), ':', accuracy_score(Ytest, pred))\n",
        "  del Ytrain, Ytest, pred\n",
        "print('Overall accuracy:', acc/len(batches))\n",
        "\n",
        "filename = 'ngram_char_model.sav'\n",
        "pickle.dump(nb_classifier, open(filename, 'wb'))\n"
      ],
      "execution_count": 0,
      "outputs": [
        {
          "output_type": "stream",
          "text": [
            "[0, 5000, 10000, 15000, 20000, 25000, 30000, 35000, 40000, 45000, 50000, 55000, 60000, 65000, 70000, 75000, 80000, 85000, 90000, 95000, 100000, 105000, 110000, 115000, 120000, 125000, 130000, 135000, 140000, 145000, 150000, 155000, 160000, 165000, 170000, 175000, 180000, 185000, 190000, 195000, 200000, 205000, 210000, 215000, 220000, 225000, 230000, 235000, 240000, 245000]\n",
            "Batch 0 : 0.582\n",
            "Batch 1 : 0.561\n",
            "Batch 2 : 0.579\n",
            "Batch 3 : 0.567\n",
            "Batch 4 : 0.551\n",
            "Batch 5 : 0.605\n",
            "Batch 6 : 0.58\n",
            "Batch 7 : 0.603\n",
            "Batch 8 : 0.54\n",
            "Batch 9 : 0.585\n",
            "Batch 10 : 0.587\n",
            "Batch 11 : 0.586\n",
            "Batch 12 : 0.553\n",
            "Batch 13 : 0.561\n",
            "Batch 14 : 0.588\n",
            "Batch 15 : 0.593\n",
            "Batch 16 : 0.599\n",
            "Batch 17 : 0.575\n",
            "Batch 18 : 0.567\n",
            "Batch 19 : 0.551\n",
            "Batch 20 : 0.568\n",
            "Batch 21 : 0.561\n",
            "Batch 22 : 0.527\n",
            "Batch 23 : 0.582\n",
            "Batch 24 : 0.604\n",
            "Batch 25 : 0.569\n",
            "Batch 26 : 0.51\n",
            "Batch 27 : 0.608\n",
            "Batch 28 : 0.576\n",
            "Batch 29 : 0.541\n",
            "Batch 30 : 0.581\n",
            "Batch 31 : 0.526\n",
            "Batch 32 : 0.575\n",
            "Batch 33 : 0.59\n",
            "Batch 34 : 0.54\n",
            "Batch 35 : 0.595\n",
            "Batch 36 : 0.553\n",
            "Batch 37 : 0.552\n",
            "Batch 38 : 0.587\n",
            "Batch 39 : 0.569\n",
            "Batch 40 : 0.578\n",
            "Batch 41 : 0.565\n",
            "Batch 42 : 0.571\n",
            "Batch 43 : 0.579\n",
            "Batch 44 : 0.589\n",
            "Batch 45 : 0.559\n",
            "Batch 46 : 0.586\n",
            "Batch 47 : 0.56\n",
            "Batch 48 : 0.57\n",
            "Batch 49 : 0.603\n",
            "Overall accuracy: 0.5717399999999998\n"
          ],
          "name": "stdout"
        }
      ]
    },
    {
      "cell_type": "markdown",
      "metadata": {
        "id": "_V7h_ijDDfAK",
        "colab_type": "text"
      },
      "source": [
        "**Using n-gram (word) features:**"
      ]
    },
    {
      "cell_type": "code",
      "metadata": {
        "id": "vY5HdJnAkYuP",
        "colab_type": "code",
        "colab": {}
      },
      "source": [
        "###-------CREATING NGRAM FEATURES-----------\n",
        "from sklearn.feature_extraction.text import CountVectorizer\n",
        "from sklearn.feature_extraction.text import TfidfTransformer\n",
        "\n",
        "def ngram_train(data, num, count_vect):\n",
        "  if count_vect == []:\n",
        "    count_vect = CountVectorizer(stop_words='english', analyzer='word', ngram_range=(num, num))\n",
        "  ngram_counts = count_vect.fit_transform(data)\n",
        "  return ngram_counts, count_vect\n",
        "\n",
        "def ngram_test(data, model):\n",
        "  ngram_counts = model.transform(data)\n",
        "  return ngram_counts\n",
        "\n",
        "#tfidf_transformer = TfidfTransformer()\n",
        "#tfidf_features = tfidf_transformer.fit_transform(original_data)\n",
        "#tfidf_features.shape"
      ],
      "execution_count": 0,
      "outputs": []
    },
    {
      "cell_type": "code",
      "metadata": {
        "id": "fA2FBZvymwlP",
        "colab_type": "code",
        "outputId": "7fb2e2eb-83c5-4989-9beb-016b8e5c7ad3",
        "colab": {
          "base_uri": "https://localhost:8080/",
          "height": 903
        }
      },
      "source": [
        "###---------ORIGINAL NGRAMS WITH NAIVE BAYES------------\n",
        "from sklearn.naive_bayes import MultinomialNB\n",
        "from sklearn.metrics import accuracy_score\n",
        "nb_classifier = MultinomialNB()\n",
        "\n",
        "batches = []\n",
        "i = 0\n",
        "while i < 250000:\n",
        "  batches.append(i)\n",
        "  i += 5000\n",
        "\n",
        "acc = 0\n",
        "for i in batches:\n",
        "  essays, gender_label, age_label, original_data = prepare_data(i, 5000)\n",
        "  trainlength = round(0.8*len(gender_label))\n",
        "  features = original_data\n",
        "\n",
        "  Xtrain = np.asarray(features[0:trainlength])\n",
        "  Ytrain = np.asarray(gender_label[0:trainlength])\n",
        "  Xtest = np.asarray(features[trainlength:])\n",
        "  Ytest = np.asarray(gender_label[trainlength:])\n",
        "\n",
        "  if i == 0:\n",
        "    train_data, model = ngram_train(Xtrain, 1, []) \n",
        "  else:\n",
        "    train_data, model = ngram_train(Xtrain, 1, model) \n",
        "\n",
        "  test_data = ngram_test(Xtest, model)\n",
        "\n",
        "  nb_classifier.fit(train_data, Ytrain)\n",
        "  pred = nb_classifier.predict(test_data)\n",
        "  acc += accuracy_score(Ytest, pred)\n",
        "  print('Batch', batches.index(i), ':', accuracy_score(Ytest, pred))\n",
        "print('Overall accuracy:', acc/len(batches))\n",
        "\n",
        "filename = 'ngram_classifier_model.sav'\n",
        "pickle.dump(nb_classifier, open(filename, 'wb'))\n",
        "\n",
        "filename = 'ngram_model.sav'\n",
        "pickle.dump(model, open(filename, 'wb'))\n"
      ],
      "execution_count": 0,
      "outputs": [
        {
          "output_type": "stream",
          "text": [
            "Batch 0 : 0.607\n",
            "Batch 1 : 0.629\n",
            "Batch 2 : 0.612\n",
            "Batch 3 : 0.616\n",
            "Batch 4 : 0.615\n",
            "Batch 5 : 0.602\n",
            "Batch 6 : 0.626\n",
            "Batch 7 : 0.633\n",
            "Batch 8 : 0.655\n",
            "Batch 9 : 0.649\n",
            "Batch 10 : 0.597\n",
            "Batch 11 : 0.613\n",
            "Batch 12 : 0.591\n",
            "Batch 13 : 0.599\n",
            "Batch 14 : 0.632\n",
            "Batch 15 : 0.626\n",
            "Batch 16 : 0.665\n",
            "Batch 17 : 0.632\n",
            "Batch 18 : 0.619\n",
            "Batch 19 : 0.584\n",
            "Batch 20 : 0.607\n",
            "Batch 21 : 0.618\n",
            "Batch 22 : 0.64\n",
            "Batch 23 : 0.634\n",
            "Batch 24 : 0.648\n",
            "Batch 25 : 0.627\n",
            "Batch 26 : 0.57\n",
            "Batch 27 : 0.638\n",
            "Batch 28 : 0.613\n",
            "Batch 29 : 0.616\n",
            "Batch 30 : 0.627\n",
            "Batch 31 : 0.615\n",
            "Batch 32 : 0.612\n",
            "Batch 33 : 0.608\n",
            "Batch 34 : 0.614\n",
            "Batch 35 : 0.639\n",
            "Batch 36 : 0.631\n",
            "Batch 37 : 0.626\n",
            "Batch 38 : 0.635\n",
            "Batch 39 : 0.625\n",
            "Batch 40 : 0.632\n",
            "Batch 41 : 0.596\n",
            "Batch 42 : 0.621\n",
            "Batch 43 : 0.646\n",
            "Batch 44 : 0.636\n",
            "Batch 45 : 0.595\n",
            "Batch 46 : 0.627\n",
            "Batch 47 : 0.612\n",
            "Batch 48 : 0.6\n",
            "Batch 49 : 0.624\n",
            "Overall accuracy: 0.6206799999999998\n"
          ],
          "name": "stdout"
        }
      ]
    },
    {
      "cell_type": "code",
      "metadata": {
        "id": "KmJgQj13Jq_r",
        "colab_type": "code",
        "outputId": "17215671-0d43-477f-f0a7-138f7e6045bb",
        "colab": {
          "base_uri": "https://localhost:8080/",
          "height": 903
        }
      },
      "source": [
        "###------SVM WITH NGRAMS----------\n",
        "from sklearn import svm\n",
        "from sklearn.metrics import accuracy_score\n",
        "\n",
        "classifier = svm.SVC(kernel='rbf')\n",
        "\n",
        "batches = []\n",
        "i = 0\n",
        "while i < 250000:\n",
        "  batches.append(i)\n",
        "  i += 5000\n",
        "\n",
        "acc = 0\n",
        "for i in batches:\n",
        "  essays, gender_label, age_label, original_data = prepare_data(i, 5000)\n",
        "  trainlength = round(0.8*len(essays))\n",
        "  features = original_data\n",
        "\n",
        "  Xtrain = np.asarray(features[0:trainlength])\n",
        "  Ytrain = np.asarray(gender_label[0:trainlength])\n",
        "  Xtest = np.asarray(features[trainlength:])\n",
        "  Ytest = np.asarray(gender_label[trainlength:])\n",
        "\n",
        "  if i == 0:\n",
        "    train_data, model = ngram_train(Xtrain, 1, [])\n",
        "  else:\n",
        "    train_data, model = ngram_train(Xtrain, 1, model) \n",
        " \n",
        "  test_data = ngram_test(Xtest, model)\n",
        "\n",
        "  classifier.fit(train_data, Ytrain)\n",
        "  pred = classifier.predict(test_data)\n",
        "  acc += accuracy_score(Ytest, pred)\n",
        "  print('Batch', batches.index(i), ':', accuracy_score(Ytest, pred))\n",
        "print('Overall accuracy:', acc/len(batches))"
      ],
      "execution_count": 0,
      "outputs": [
        {
          "output_type": "stream",
          "text": [
            "Batch 0 : 0.555\n",
            "Batch 1 : 0.583\n",
            "Batch 2 : 0.615\n",
            "Batch 3 : 0.588\n",
            "Batch 4 : 0.591\n",
            "Batch 5 : 0.571\n",
            "Batch 6 : 0.582\n",
            "Batch 7 : 0.591\n",
            "Batch 8 : 0.575\n",
            "Batch 9 : 0.605\n",
            "Batch 10 : 0.598\n",
            "Batch 11 : 0.585\n",
            "Batch 12 : 0.582\n",
            "Batch 13 : 0.578\n",
            "Batch 14 : 0.609\n",
            "Batch 15 : 0.593\n",
            "Batch 16 : 0.602\n",
            "Batch 17 : 0.596\n",
            "Batch 18 : 0.586\n",
            "Batch 19 : 0.575\n",
            "Batch 20 : 0.577\n",
            "Batch 21 : 0.612\n",
            "Batch 22 : 0.592\n",
            "Batch 23 : 0.57\n",
            "Batch 24 : 0.564\n",
            "Batch 25 : 0.57\n",
            "Batch 26 : 0.567\n",
            "Batch 27 : 0.588\n",
            "Batch 28 : 0.559\n",
            "Batch 29 : 0.617\n",
            "Batch 30 : 0.592\n",
            "Batch 31 : 0.551\n",
            "Batch 32 : 0.587\n",
            "Batch 33 : 0.581\n",
            "Batch 34 : 0.579\n",
            "Batch 35 : 0.605\n",
            "Batch 36 : 0.583\n",
            "Batch 37 : 0.628\n",
            "Batch 38 : 0.614\n",
            "Batch 39 : 0.611\n",
            "Batch 40 : 0.584\n",
            "Batch 41 : 0.586\n",
            "Batch 42 : 0.587\n",
            "Batch 43 : 0.579\n",
            "Batch 44 : 0.559\n",
            "Batch 45 : 0.563\n",
            "Batch 46 : 0.581\n",
            "Batch 47 : 0.555\n",
            "Batch 48 : 0.592\n",
            "Batch 49 : 0.61\n",
            "Overall accuracy: 0.5860599999999999\n"
          ],
          "name": "stdout"
        }
      ]
    },
    {
      "cell_type": "code",
      "metadata": {
        "id": "gZtAC_h1PlwK",
        "colab_type": "code",
        "outputId": "7046ee6d-233c-4bb9-f373-a506b4aa3749",
        "colab": {
          "base_uri": "https://localhost:8080/",
          "height": 545
        }
      },
      "source": [
        "###-------NGRAM FEATURES VISUALIZATION ----------\n",
        "import matplotlib\n",
        "import matplotlib.pyplot as plt\n",
        "from matplotlib.pyplot import figure\n",
        "import scipy\n",
        "\n",
        "labels = []\n",
        "mat_shape = train_data[0].shape\n",
        "male_means =  scipy.sparse.csr_matrix(mat_shape)\n",
        "female_means =  scipy.sparse.csr_matrix(mat_shape)\n",
        "\n",
        "male_count = 0\n",
        "female_count = 0\n",
        "for idx in range(round(len(essays)*0.8)):\n",
        "  if gender_label[idx] == 0: #male\n",
        "    male_means = (male_means.tocsr() + train_data[idx].tocsr())\n",
        "    male_count += 1\n",
        "  else:\n",
        "    female_means = (female_means.tocsr() + train_data[idx].tocsr())\n",
        "    female_count += 1\n",
        "\n",
        "male_means = male_means/male_count\n",
        "female_means = female_means/female_count\n",
        "\n",
        "#male_means = list(male_means)\n",
        "#female_means = list(female_means)\n",
        "male_m = scipy.sparse.csr_matrix.toarray(male_means)\n",
        "plt.plot(male_m[0])\n",
        "plt.title('Male N-grams')\n",
        "plt.show()\n",
        "\n",
        "female_m = scipy.sparse.csr_matrix.toarray(female_means)\n",
        "plt.plot(female_m[0])\n",
        "plt.title('Female N-grams')\n",
        "plt.show()\n",
        "#create_plot(labels, male_means, female_means, 'POS-SEQ feature counts by gender',0, 60, 1)\n"
      ],
      "execution_count": 0,
      "outputs": [
        {
          "output_type": "display_data",
          "data": {
            "image/png": "[encoded data removed]",
            "text/plain": [
              "<Figure size 432x288 with 1 Axes>"
            ]
          },
          "metadata": {
            "tags": []
          }
        },
        {
          "output_type": "display_data",
          "data": {
            "image/png": "[encoded data removed]",
            "text/plain": [
              "<Figure size 432x288 with 1 Axes>"
            ]
          },
          "metadata": {
            "tags": []
          }
        }
      ]
    },
    {
      "cell_type": "markdown",
      "metadata": {
        "id": "ePB-pvQ6Dlze",
        "colab_type": "text"
      },
      "source": [
        "**Using pos-ngrams: (does not give good results)**"
      ]
    },
    {
      "cell_type": "code",
      "metadata": {
        "id": "vO86iQUJPgww",
        "colab_type": "code",
        "outputId": "11ec7ba2-31ce-4cfc-e35f-bffe4674d0f6",
        "colab": {
          "base_uri": "https://localhost:8080/",
          "height": 121
        }
      },
      "source": [
        "###----CREATING POS NGRAMS--------------\n",
        "nltk.download('averaged_perceptron_tagger')\n",
        "nltk.download('tagsets')\n",
        "tagset = nltk.load('help/tagsets/upenn_tagset.pickle')\n",
        "no_tags = len(tagset.keys())\n",
        "\n",
        "def pos_cvt(data):\n",
        "  pos_essays = []\n",
        "  for post in data:\n",
        "    pos = nltk.pos_tag(post)\n",
        "    new_pos = [elem[1] for elem in pos]\n",
        "    pos_essays.append(' '.join(new_pos))\n",
        "  return pos_essays"
      ],
      "execution_count": 0,
      "outputs": [
        {
          "output_type": "stream",
          "text": [
            "[nltk_data] Downloading package averaged_perceptron_tagger to\n",
            "[nltk_data]     /root/nltk_data...\n",
            "[nltk_data]   Package averaged_perceptron_tagger is already up-to-\n",
            "[nltk_data]       date!\n",
            "[nltk_data] Downloading package tagsets to /root/nltk_data...\n",
            "[nltk_data]   Package tagsets is already up-to-date!\n"
          ],
          "name": "stdout"
        }
      ]
    },
    {
      "cell_type": "code",
      "metadata": {
        "id": "qSxjk1aOQTID",
        "colab_type": "code",
        "colab": {}
      },
      "source": [
        "###-------POS NGRAMS WITH NAIVE BAYES------------\n",
        "from sklearn.naive_bayes import MultinomialNB\n",
        "from sklearn.metrics import accuracy_score\n",
        "\n",
        "trainlength = round(0.8*len(essays))\n",
        "features = pos_cvt(original_data)\n",
        "\n",
        "Xtrain = np.asarray(features[0:trainlength])\n",
        "Ytrain = np.asarray(gender_label[0:trainlength])\n",
        "Xtest = np.asarray(features[trainlength:])\n",
        "Ytest = np.asarray(gender_label[trainlength:])\n",
        "\n",
        "train_data, model = ngram_train(Xtrain) \n",
        "test_data = ngram_test(Xtest, model)\n",
        "print(Xtrain.shape, Ytrain.shape,train_data.shape)\n",
        "\n",
        "nb_classifier = MultinomialNB().fit(train_data, Ytrain)\n",
        "pred = nb_classifier.predict(test_data)\n",
        "print(accuracy_score(Ytest, pred))"
      ],
      "execution_count": 0,
      "outputs": []
    },
    {
      "cell_type": "code",
      "metadata": {
        "id": "vPxsGd0WyblW",
        "colab_type": "code",
        "outputId": "1dada979-1719-4867-9ce6-3c4b74fe5a70",
        "colab": {
          "base_uri": "https://localhost:8080/",
          "height": 257
        }
      },
      "source": [
        "###-------NGRAM FEATURES VISUALIZATION (Bigram)----------\n",
        "import matplotlib\n",
        "import matplotlib.pyplot as plt\n",
        "from matplotlib.pyplot import figure\n",
        "\n",
        "labels = []\n",
        "ff = model.get_feature_names()\n",
        "length = len(ff)\n",
        "male_means = np.zeros(length)\n",
        "female_means = np.zeros(length)\n",
        "\n",
        "for label in ff:\n",
        "  labels.append(label)\n",
        "\n",
        "male_count = 0\n",
        "female_count = 0\n",
        "for idx in range(len(Xtrain)):\n",
        "  if gender_label[idx] == 0: #male\n",
        "    male_means += np.asarray(train_data[idx])\n",
        "    male_count += 1\n",
        "  else:\n",
        "    female_means += np.asarray(train_data[idx])\n",
        "    female_count += 1\n",
        "\n",
        "male_means = male_means/male_count\n",
        "female_means = female_means/female_count\n",
        "\n",
        "male_means = list(male_means)\n",
        "female_means = list(female_means)\n",
        "\n",
        "create_plot(labels, male_means, female_means, 'POS-SEQ feature counts by gender',0, 60, 0)"
      ],
      "execution_count": 0,
      "outputs": [
        {
          "output_type": "error",
          "ename": "TypeError",
          "evalue": "ignored",
          "traceback": [
            "\u001b[0;31m---------------------------------------------------------------------------\u001b[0m",
            "\u001b[0;31mTypeError\u001b[0m                                 Traceback (most recent call last)",
            "\u001b[0;32m<ipython-input-5-e79d8c6fbd76>\u001b[0m in \u001b[0;36m<module>\u001b[0;34m()\u001b[0m\n\u001b[1;32m     19\u001b[0m     \u001b[0mmale_count\u001b[0m \u001b[0;34m+=\u001b[0m \u001b[0;36m1\u001b[0m\u001b[0;34m\u001b[0m\u001b[0;34m\u001b[0m\u001b[0m\n\u001b[1;32m     20\u001b[0m   \u001b[0;32melse\u001b[0m\u001b[0;34m:\u001b[0m\u001b[0;34m\u001b[0m\u001b[0;34m\u001b[0m\u001b[0m\n\u001b[0;32m---> 21\u001b[0;31m     \u001b[0mfemale_means\u001b[0m \u001b[0;34m+=\u001b[0m \u001b[0mnp\u001b[0m\u001b[0;34m.\u001b[0m\u001b[0masarray\u001b[0m\u001b[0;34m(\u001b[0m\u001b[0mtrain_data\u001b[0m\u001b[0;34m[\u001b[0m\u001b[0midx\u001b[0m\u001b[0;34m]\u001b[0m\u001b[0;34m)\u001b[0m\u001b[0;34m\u001b[0m\u001b[0;34m\u001b[0m\u001b[0m\n\u001b[0m\u001b[1;32m     22\u001b[0m     \u001b[0mfemale_count\u001b[0m \u001b[0;34m+=\u001b[0m \u001b[0;36m1\u001b[0m\u001b[0;34m\u001b[0m\u001b[0;34m\u001b[0m\u001b[0m\n\u001b[1;32m     23\u001b[0m \u001b[0;34m\u001b[0m\u001b[0m\n",
            "\u001b[0;31mTypeError\u001b[0m: ufunc 'add' output (typecode 'O') could not be coerced to provided output parameter (typecode 'd') according to the casting rule ''same_kind''"
          ]
        }
      ]
    },
    {
      "cell_type": "markdown",
      "metadata": {
        "id": "XriWyOTB_P67",
        "colab_type": "text"
      },
      "source": [
        "**Using sentiment:**"
      ]
    },
    {
      "cell_type": "code",
      "metadata": {
        "id": "ZaI4GkmLwBr2",
        "colab_type": "code",
        "colab": {}
      },
      "source": [
        "###----CONVERT PENN TAGS TO WORDNET TAGS--------\n",
        "def penn_to_wn(tag):\n",
        "    if tag[1][0] == 'J':\n",
        "        return wn.ADJ\n",
        "    elif tag[1][0] =='N':\n",
        "        return wn.NOUN\n",
        "    elif tag[1][0] == 'R':\n",
        "        return wn.ADV\n",
        "    elif tag[1][0] == 'V':\n",
        "        return wn.VERB\n",
        "    return None"
      ],
      "execution_count": 0,
      "outputs": []
    },
    {
      "cell_type": "code",
      "metadata": {
        "id": "DI6FLjkbphDc",
        "colab_type": "code",
        "outputId": "b7577af7-9b88-4567-ca5c-418cccb16d36",
        "colab": {
          "base_uri": "https://localhost:8080/",
          "height": 191
        }
      },
      "source": [
        "###------SENTIMENTS--------------\n",
        "nltk.download('sentiwordnet')\n",
        "nltk.download('wordnet')\n",
        "nltk.download('averaged_perceptron_tagger')\n",
        "nltk.download('tagsets')\n",
        "tagset = nltk.load('help/tagsets/upenn_tagset.pickle')\n",
        "\n",
        "from nltk.stem import WordNetLemmatizer\n",
        "from nltk.corpus import sentiwordnet as swn\n",
        "from nltk.corpus import wordnet as wn\n",
        "\n",
        "lemmatizer = WordNetLemmatizer()\n",
        "\n",
        "def sentiment_features(essays):\n",
        "  f_pos_score = 0\n",
        "  f_neg_score = 0\n",
        "  f_obj_score = 0\n",
        "  f_count = 0\n",
        "\n",
        "  m_pos_score = 0\n",
        "  m_neg_score = 0\n",
        "  m_obj_score = 0\n",
        "  m_count = 0\n",
        "\n",
        "  mc = 0\n",
        "  fc = 0\n",
        "\n",
        "  total_feat = []\n",
        "  for post_id in range(len(essays)):\n",
        "    post = essays[post_id]\n",
        "  #g = gender_label[post_id]\n",
        "\n",
        "    pos = nltk.pos_tag(post)\n",
        "    feat = np.zeros(3)\n",
        "\n",
        "    for idx in range(len(pos)):\n",
        "      tag = pos[idx]\n",
        "      word = post[idx]\n",
        "      wn_tag = penn_to_wn(tag)\n",
        "      if wn_tag == None:\n",
        "        continue\n",
        "      lemma = lemmatizer.lemmatize(word, pos=wn_tag)\n",
        "      if lemma == []:\n",
        "        continue\n",
        "      synsets = wn.synsets(word, pos=wn_tag)\n",
        "      if synsets == []:\n",
        "        continue\n",
        "\n",
        "      synset = synsets[0] #most common\n",
        "      swn_synset = swn.senti_synset(synset.name())\n",
        "      pos_score = swn_synset.pos_score()\n",
        "      neg_score = swn_synset.neg_score()\n",
        "      obj_score = swn_synset.obj_score()\n",
        "      feat[0] += pos_score\n",
        "      feat[1] += neg_score\n",
        "      feat[2] += obj_score\n",
        "    total_feat.append(feat)\n",
        "  return total_feat\n",
        "\n",
        "    #if g == 0: #male\n",
        "    #  m_pos_score += np.log10(pos_score+1)\n",
        "    #  m_neg_score += np.log10(neg_score+1)\n",
        "    #  m_obj_score += np.log10(obj_score+1)\n",
        "    #  m_count += 1\n",
        "    #  mc += 1\n",
        "    #elif g == 1: #female\n",
        "    #  f_pos_score += np.log10(pos_score+1)\n",
        "    #  f_neg_score += np.log10(neg_score+1)\n",
        "    #  f_obj_score += np.log10(obj_score+1)\n",
        "    #  f_count += 1\n",
        "    #  fc += 1\n",
        "#m_pos = m_pos_score/m_count\n",
        "#m_neg = m_neg_score/m_count\n",
        "#m_obj = m_obj_score/m_count\n",
        "\n",
        "#f_pos = f_pos_score/f_count\n",
        "#f_neg = f_neg_score/f_count\n",
        "#f_obj = f_obj_score/f_count"
      ],
      "execution_count": 0,
      "outputs": [
        {
          "output_type": "stream",
          "text": [
            "[nltk_data] Downloading package sentiwordnet to /root/nltk_data...\n",
            "[nltk_data]   Unzipping corpora/sentiwordnet.zip.\n",
            "[nltk_data] Downloading package wordnet to /root/nltk_data...\n",
            "[nltk_data]   Unzipping corpora/wordnet.zip.\n",
            "[nltk_data] Downloading package averaged_perceptron_tagger to\n",
            "[nltk_data]     /root/nltk_data...\n",
            "[nltk_data]   Package averaged_perceptron_tagger is already up-to-\n",
            "[nltk_data]       date!\n",
            "[nltk_data] Downloading package tagsets to /root/nltk_data...\n",
            "[nltk_data]   Package tagsets is already up-to-date!\n"
          ],
          "name": "stdout"
        }
      ]
    },
    {
      "cell_type": "code",
      "metadata": {
        "id": "32kBh_zstvki",
        "colab_type": "code",
        "outputId": "7b60b2dd-9558-4eee-c87b-3f9845969ef4",
        "colab": {
          "base_uri": "https://localhost:8080/",
          "height": 260
        }
      },
      "source": [
        "###------SVM WITH SENTIMENT FEATURES-------\n",
        "import sklearn\n",
        "from sklearn import svm\n",
        "from sklearn.metrics import accuracy_score\n",
        "\n",
        "#rbf: 54, linear:53.525, poly:52.15\n",
        "classifier = svm.SVC(kernel='poly')\n",
        "batches = []\n",
        "i = 0\n",
        "while i<250000:\n",
        "  batches.append(i)\n",
        "  i+=20000\n",
        "acc = 0\n",
        "for i in batches:\n",
        "  essays, gender_label, age_label, original_data = prepare_data(i,20000)\n",
        "  total_feat = sentiment_features(essays)\n",
        "  length = len(total_feat)\n",
        "  trainlength = round(0.8*length)\n",
        "  features = total_feat\n",
        "  Xtrain = np.asarray(features[:trainlength])\n",
        "  Ytrain = np.asarray(gender_label[:trainlength])\n",
        "\n",
        "#Xtrain = Xtrain.reshape(-1, 1)\n",
        "\n",
        "  classifier.fit(Xtrain, Ytrain)\n",
        "  Xtest = np.asarray(features[trainlength:])\n",
        "  Ytest = np.asarray(gender_label[trainlength:])\n",
        "\n",
        "#Xtest = Xtest.reshape(-1, 1)\n",
        "\n",
        "  pred = classifier.predict(Xtest)\n",
        "  acc += accuracy_score(Ytest, pred)\n",
        "  print('Batch', batches.index(i), ':', accuracy_score(Ytest, pred))\n",
        "print('Overall accuracy:', acc/len(batches))"
      ],
      "execution_count": 0,
      "outputs": [
        {
          "output_type": "stream",
          "text": [
            "Batch 0 : 0.5215\n",
            "Batch 1 : 0.4955\n",
            "Batch 2 : 0.5145\n",
            "Batch 3 : 0.50975\n",
            "Batch 4 : 0.50875\n",
            "Batch 5 : 0.51975\n",
            "Batch 6 : 0.5195\n",
            "Batch 7 : 0.49825\n",
            "Batch 8 : 0.50625\n",
            "Batch 9 : 0.51675\n",
            "Batch 10 : 0.50225\n",
            "Batch 11 : 0.505\n",
            "Batch 12 : 0.50925\n",
            "Overall accuracy: 0.5097692307692306\n"
          ],
          "name": "stdout"
        }
      ]
    },
    {
      "cell_type": "code",
      "metadata": {
        "id": "_HrEc-nv3XOK",
        "colab_type": "code",
        "outputId": "8f0b0fcd-74d0-47e1-ce36-a705fdfff754",
        "colab": {
          "base_uri": "https://localhost:8080/",
          "height": 34
        }
      },
      "source": [
        "###-----KNN WITH SENTIMENT FEATURES---------\n",
        "from sklearn.neighbors import NearestNeighbors\n",
        "from sklearn import neighbors\n",
        "\n",
        "length = len(total_feat)\n",
        "trainlength = round(0.8*length)\n",
        "features = total_feat\n",
        "Xtrain = np.asarray(features[:trainlength])\n",
        "Ytrain = np.asarray(gender_label[:trainlength])\n",
        "\n",
        "clf = neighbors.KNeighborsClassifier(75)\n",
        "clf.fit(Xtrain, Ytrain)\n",
        "\n",
        "Xtest = np.asarray(features[trainlength:])\n",
        "Ytest = np.asarray(gender_label[trainlength:])\n",
        "\n",
        "#Xtest = Xtest.reshape(-1, 1)\n",
        "\n",
        "pred = clf.predict(Xtest)\n",
        "print(accuracy_score(Ytest, pred))"
      ],
      "execution_count": 0,
      "outputs": [
        {
          "output_type": "stream",
          "text": [
            "0.52125\n"
          ],
          "name": "stdout"
        }
      ]
    },
    {
      "cell_type": "markdown",
      "metadata": {
        "id": "h5C9Hh0H6yNd",
        "colab_type": "text"
      },
      "source": [
        "# **Analysis on HP dataset:**"
      ]
    },
    {
      "cell_type": "code",
      "metadata": {
        "id": "gP0Nr2qg-yzL",
        "colab_type": "code",
        "colab": {}
      },
      "source": [
        "#Parth's code\n",
        "def split_in_sets(data):\n",
        "    essay_sets = []\n",
        "    min_scores = []\n",
        "    max_scores = []\n",
        "    for s in range(1,9):\n",
        "        essay_set = data[data[\"essay_set\"] == s]\n",
        "        essay_set.dropna(axis=1, inplace=True)\n",
        "        n, d = essay_set.shape\n",
        "        set_scores = essay_set[\"domain1_score\"]\n",
        "        print (\"Set\", s, \": Essays = \", n , \"\\t Attributes = \", d)\n",
        "        min_scores.append(set_scores.min())\n",
        "        max_scores.append(set_scores.max())\n",
        "        essay_sets.append(essay_set)\n",
        "    return (essay_sets, min_scores, max_scores)"
      ],
      "execution_count": 0,
      "outputs": []
    },
    {
      "cell_type": "code",
      "metadata": {
        "id": "-GKlPDOB676Z",
        "colab_type": "code",
        "outputId": "8cfd8944-91b6-44aa-e1eb-53c215048054",
        "colab": {
          "base_uri": "https://localhost:8080/",
          "height": 501
        }
      },
      "source": [
        "#Parth's code\n",
        "%matplotlib inline\n",
        "\n",
        "dataset_path = \"training_set_rel3.tsv\"\n",
        "\n",
        "import os\n",
        "import pandas as pd\n",
        "\n",
        "data = pd.read_csv(dataset_path, sep=\"\\t\", encoding=\"ISO-8859-1\", index_col=\"essay_id\")\n",
        "min_scores = [2, 1, 0, 0, 0, 0, 0, 0]\n",
        "max_scores = [12, 6, 3, 3, 4, 4, 30, 60]\n",
        "\n",
        "essay_sets, data_min_scores, data_max_scores = split_in_sets(data)\n",
        "set1, set2, set3, set4, set5, set6, set7, set8 = tuple(essay_sets)\n",
        "data.dropna(axis=1, inplace=True)\n",
        "\n",
        "data.drop(columns=[\"rater1_domain1\", \"rater2_domain1\"], inplace=True)\n",
        "print(\"All Data:\", len(data))\n",
        "data.head()"
      ],
      "execution_count": 0,
      "outputs": [
        {
          "output_type": "stream",
          "text": [
            "Set 1 : Essays =  1783 \t Attributes =  5\n",
            "Set 2 : Essays =  1800 \t Attributes =  8\n",
            "Set 3 : Essays =  1726 \t Attributes =  5\n",
            "Set 4 : Essays =  1770 \t Attributes =  5\n",
            "Set 5 : Essays =  1805 \t Attributes =  5\n",
            "Set 6 : Essays =  1800 \t Attributes =  5\n",
            "Set 7 : Essays =  1569 \t Attributes =  13\n",
            "Set 8 : Essays =  723 \t Attributes =  17\n",
            "All Data: 12976\n"
          ],
          "name": "stdout"
        },
        {
          "output_type": "stream",
          "text": [
            "/usr/local/lib/python3.6/dist-packages/ipykernel_launcher.py:7: SettingWithCopyWarning: \n",
            "A value is trying to be set on a copy of a slice from a DataFrame\n",
            "\n",
            "See the caveats in the documentation: https://pandas.pydata.org/pandas-docs/stable/user_guide/indexing.html#returning-a-view-versus-a-copy\n",
            "  import sys\n"
          ],
          "name": "stderr"
        },
        {
          "output_type": "execute_result",
          "data": {
            "text/html": [
              "<div>\n",
              "<style scoped>\n",
              "    .dataframe tbody tr th:only-of-type {\n",
              "        vertical-align: middle;\n",
              "    }\n",
              "\n",
              "    .dataframe tbody tr th {\n",
              "        vertical-align: top;\n",
              "    }\n",
              "\n",
              "    .dataframe thead th {\n",
              "        text-align: right;\n",
              "    }\n",
              "</style>\n",
              "<table border=\"1\" class=\"dataframe\">\n",
              "  <thead>\n",
              "    <tr style=\"text-align: right;\">\n",
              "      <th></th>\n",
              "      <th>essay_set</th>\n",
              "      <th>essay</th>\n",
              "      <th>domain1_score</th>\n",
              "    </tr>\n",
              "    <tr>\n",
              "      <th>essay_id</th>\n",
              "      <th></th>\n",
              "      <th></th>\n",
              "      <th></th>\n",
              "    </tr>\n",
              "  </thead>\n",
              "  <tbody>\n",
              "    <tr>\n",
              "      <th>1</th>\n",
              "      <td>1</td>\n",
              "      <td>Dear local newspaper, I think effects computer...</td>\n",
              "      <td>8</td>\n",
              "    </tr>\n",
              "    <tr>\n",
              "      <th>2</th>\n",
              "      <td>1</td>\n",
              "      <td>Dear @CAPS1 @CAPS2, I believe that using compu...</td>\n",
              "      <td>9</td>\n",
              "    </tr>\n",
              "    <tr>\n",
              "      <th>3</th>\n",
              "      <td>1</td>\n",
              "      <td>Dear, @CAPS1 @CAPS2 @CAPS3 More and more peopl...</td>\n",
              "      <td>7</td>\n",
              "    </tr>\n",
              "    <tr>\n",
              "      <th>4</th>\n",
              "      <td>1</td>\n",
              "      <td>Dear Local Newspaper, @CAPS1 I have found that...</td>\n",
              "      <td>10</td>\n",
              "    </tr>\n",
              "    <tr>\n",
              "      <th>5</th>\n",
              "      <td>1</td>\n",
              "      <td>Dear @LOCATION1, I know having computers has a...</td>\n",
              "      <td>8</td>\n",
              "    </tr>\n",
              "  </tbody>\n",
              "</table>\n",
              "</div>"
            ],
            "text/plain": [
              "          essay_set  ... domain1_score\n",
              "essay_id             ...              \n",
              "1                 1  ...             8\n",
              "2                 1  ...             9\n",
              "3                 1  ...             7\n",
              "4                 1  ...            10\n",
              "5                 1  ...             8\n",
              "\n",
              "[5 rows x 3 columns]"
            ]
          },
          "metadata": {
            "tags": []
          },
          "execution_count": 6
        }
      ]
    },
    {
      "cell_type": "code",
      "metadata": {
        "id": "xF76T3o_7Bfm",
        "colab_type": "code",
        "outputId": "bc3e6c9d-d30e-454f-fe26-b64a4245c8b6",
        "colab": {
          "base_uri": "https://localhost:8080/",
          "height": 52
        }
      },
      "source": [
        "#Parth's code\n",
        "print(\"Minimum Scores: \", min_scores)\n",
        "print(\"Maximum Scores: \", max_scores)"
      ],
      "execution_count": 0,
      "outputs": [
        {
          "output_type": "stream",
          "text": [
            "Minimum Scores:  [2, 1, 0, 0, 0, 0, 0, 0]\n",
            "Maximum Scores:  [12, 6, 3, 3, 4, 4, 30, 60]\n"
          ],
          "name": "stdout"
        }
      ]
    },
    {
      "cell_type": "code",
      "metadata": {
        "id": "AQnc2GgF7GRl",
        "colab_type": "code",
        "colab": {}
      },
      "source": [
        "#Parth's code\n",
        "#Dataset keys\n",
        "essay_id_key = \"essay_id\"\n",
        "essay_set_key = \"essay_set\"\n",
        "essay_key = \"essay\"\n",
        "domain1_score_key = \"domain1_score\""
      ],
      "execution_count": 0,
      "outputs": []
    },
    {
      "cell_type": "code",
      "metadata": {
        "id": "YchduySM72sK",
        "colab_type": "code",
        "outputId": "2cb0b216-3745-4382-b59b-320d030cc764",
        "colab": {
          "base_uri": "https://localhost:8080/",
          "height": 851
        }
      },
      "source": [
        "e1, e2, e3, e4, e5, e6, e7, e8 = [], [], [], [], [], [], [], []\n",
        "s1, s2, s3, s4, s5, s6, s7, s8 = [], [], [], [], [], [], [], []\n",
        "\n",
        "for idx in range(len(set1)):\n",
        "  e1.append(set1.iloc[idx][essay_key])\n",
        "  s1.append(set1.iloc[idx][domain1_score_key])\n",
        "\n",
        "for idx in range(len(set2)):\n",
        "  e2.append(set2.iloc[idx][essay_key])\n",
        "  s2.append(set2.iloc[idx][domain1_score_key])\n",
        "\n",
        "for idx in range(len(set3)):\n",
        "  e3.append(set3.iloc[idx][essay_key])\n",
        "  s3.append(set3.iloc[idx][domain1_score_key])\n",
        "\n",
        "for idx in range(len(set4)):\n",
        "  e4.append(set4.iloc[idx][essay_key])\n",
        "  s4.append(set4.iloc[idx][domain1_score_key])\n",
        "\n",
        "for idx in range(len(set5)):\n",
        "  e5.append(set5.iloc[idx][essay_key])\n",
        "  s5.append(set5.iloc[idx][domain1_score_key])\n",
        "\n",
        "for idx in range(len(set6)):\n",
        "  e6.append(set6.iloc[idx][essay_key])\n",
        "  s6.append(set6.iloc[idx][domain1_score_key])\n",
        "\n",
        "for idx in range(len(set7)):\n",
        "  e7.append(set7.iloc[idx][essay_key])\n",
        "  s7.append(set7.iloc[idx][domain1_score_key])\n",
        "\n",
        "for idx in range(len(set8)):\n",
        "  e8.append(set8.iloc[idx][essay_key])\n",
        "  s8.append(set8.iloc[idx][domain1_score_key])\n",
        "\n",
        "filename1 = 'ngram_model.sav'\n",
        "loaded_model1 = pickle.load(open(filename1, 'rb'))\n",
        "filename2 = 'ngram_classifier_model.sav'\n",
        "loaded_model2 = pickle.load(open(filename2, 'rb'))\n",
        "\n",
        "e1 = np.asarray(e1)\n",
        "e2 = np.asarray(e2)\n",
        "e3 = np.asarray(e3)\n",
        "e4 = np.asarray(e4)\n",
        "e5 = np.asarray(e5)\n",
        "e6 = np.asarray(e6)\n",
        "e7 = np.asarray(e7)\n",
        "e8 = np.asarray(e8)\n",
        "\n",
        "s1 = np.asarray(s1)\n",
        "s2 = np.asarray(s2)\n",
        "s3 = np.asarray(s3)\n",
        "s4 = np.asarray(s4)\n",
        "s5 = np.asarray(s5)\n",
        "s6 = np.asarray(s6)\n",
        "s7 = np.asarray(s7)\n",
        "s8 = np.asarray(s8)\n",
        "\n",
        "for i in range(8):\n",
        "  if i == 0:\n",
        "    all_essays = e1\n",
        "    all_scores = s1\n",
        "  elif i == 1:\n",
        "    all_essays = e2\n",
        "    all_scores = s2\n",
        "\n",
        "  elif i == 2:\n",
        "    all_essays = e3\n",
        "    all_scores = s3\n",
        "\n",
        "  elif i == 3:\n",
        "    all_essays = e4\n",
        "    all_scores = s4\n",
        "\n",
        "  elif i == 4:\n",
        "    all_essays = e5\n",
        "    all_scores = s5\n",
        "\n",
        "  elif i == 5:\n",
        "    all_essays = e6\n",
        "    all_scores = s6\n",
        "\n",
        "  elif i == 6:\n",
        "    all_essays = e7\n",
        "    all_scores = s7\n",
        "\n",
        "  else:\n",
        "    all_essays = e8\n",
        "    all_scores = s8\n",
        "\n",
        "  #essay_data = prepare_test(all_essays)\n",
        "  #print(type(all_essays), type(essay_data))\n",
        "  test_data = ngram_test(all_essays, loaded_model1)\n",
        "\n",
        "  pred = loaded_model2.predict(test_data)\n",
        "\n",
        "  f_pred_scores = 0\n",
        "  m_pred_scores = 0\n",
        "  f_count = 0\n",
        "  m_count = 0\n",
        "\n",
        "  for idx in range(len(all_essays)):\n",
        "    if pred[idx] == 0: #male\n",
        "      m_count += 1\n",
        "      m_pred_scores += all_scores[idx]\n",
        "    else:\n",
        "      f_count += 1\n",
        "      f_pred_scores += all_scores[idx]\n",
        "  \n",
        "  avg_male = m_pred_scores/m_count\n",
        "  avg_female = f_pred_scores/f_count\n",
        "  print('Avg male score for set', i+1, ':', avg_male)\n",
        "  print('Avg female score for set:', i+1, ':',avg_female)\n",
        "  print('Number of males for set', i+1, ':',m_count)\n",
        "  print('Number of females for set', i+1, ':',f_count)\n",
        "  print('\\n')"
      ],
      "execution_count": 0,
      "outputs": [
        {
          "output_type": "stream",
          "text": [
            "Avg male score for set 1 : 8.663244353182751\n",
            "Avg female score for set: 1 : 7.916149068322981\n",
            "Number of males for set 1 : 1461\n",
            "Number of females for set 1 : 322\n",
            "\n",
            "\n",
            "Avg male score for set 2 : 3.5734557595993324\n",
            "Avg female score for set: 2 : 3.101328903654485\n",
            "Number of males for set 2 : 1198\n",
            "Number of females for set 2 : 602\n",
            "\n",
            "\n",
            "Avg male score for set 3 : 1.878188775510204\n",
            "Avg female score for set: 3 : 1.5506329113924051\n",
            "Number of males for set 3 : 1568\n",
            "Number of females for set 3 : 158\n",
            "\n",
            "\n",
            "Avg male score for set 4 : 1.6603773584905661\n",
            "Avg female score for set: 4 : 1.3480278422273781\n",
            "Number of males for set 4 : 477\n",
            "Number of females for set 4 : 1293\n",
            "\n",
            "\n",
            "Avg male score for set 5 : 2.603448275862069\n",
            "Avg female score for set: 5 : 2.3415361670395227\n",
            "Number of males for set 5 : 464\n",
            "Number of females for set 5 : 1341\n",
            "\n",
            "\n",
            "Avg male score for set 6 : 2.728595411303861\n",
            "Avg female score for set: 6 : 1.5384615384615385\n",
            "Number of males for set 6 : 1787\n",
            "Number of females for set 6 : 13\n",
            "\n",
            "\n",
            "Avg male score for set 7 : 14.670289855072463\n",
            "Avg female score for set: 7 : 16.359628770301626\n",
            "Number of males for set 7 : 276\n",
            "Number of females for set 7 : 1293\n",
            "\n",
            "\n",
            "Avg male score for set 8 : 39.26923076923077\n",
            "Avg female score for set: 8 : 36.77049180327869\n",
            "Number of males for set 8 : 52\n",
            "Number of females for set 8 : 671\n",
            "\n",
            "\n"
          ],
          "name": "stdout"
        }
      ]
    },
    {
      "cell_type": "code",
      "metadata": {
        "id": "XxRMAU_sYJIG",
        "colab_type": "code",
        "outputId": "39a571e8-0d7d-46cf-b9cc-67bd9ef96904",
        "colab": {
          "base_uri": "https://localhost:8080/",
          "height": 86
        }
      },
      "source": [
        "all_essays = []\n",
        "all_scores = []\n",
        "norm_score = []\n",
        "\n",
        "for idx in range(len(data)):\n",
        "  all_essays.append(data.iloc[idx][essay_key])\n",
        "  all_scores.append(data.iloc[idx][domain1_score_key])\n",
        "  set_id = data.iloc[idx][essay_set_key]\n",
        "\n",
        "  sc = data.iloc[idx][domain1_score_key]\n",
        "  if set_id == 1:\n",
        "    norm_score.append(sc/12)\n",
        "  elif set_id == 2:\n",
        "    norm_score.append(sc/6)\n",
        "  elif set_id == 3 or set_id == 4:\n",
        "    norm_score.append(sc/3)\n",
        "  elif set_id == 5 or set_id == 6:\n",
        "    norm_score.append(sc/4)\n",
        "  elif set_id == 7:\n",
        "    norm_score.append(sc/30)\n",
        "  else:\n",
        "    norm_score.append(sc/60)\n",
        "\n",
        "filename1 = 'ngram_model.sav'\n",
        "loaded_model1 = pickle.load(open(filename1, 'rb'))\n",
        "filename2 = 'ngram_classifier_model.sav'\n",
        "loaded_model2 = pickle.load(open(filename2, 'rb'))\n",
        "\n",
        "all_essays = np.asarray(all_essays)\n",
        "test_data = ngram_test(all_essays, loaded_model1)\n",
        "\n",
        "pred = loaded_model2.predict(test_data)\n",
        "\n",
        "f_pred_scores = 0\n",
        "m_pred_scores = 0\n",
        "f_count = 0\n",
        "m_count = 0\n",
        "\n",
        "for idx in range(len(data)):\n",
        "  if pred[idx] == 0: #male\n",
        "    m_count += 1\n",
        "    m_pred_scores += norm_score[idx]\n",
        "  else:\n",
        "    f_count += 1\n",
        "    f_pred_scores += norm_score[idx]\n",
        "  \n",
        "avg_male = m_pred_scores/m_count\n",
        "avg_female = f_pred_scores/f_count\n",
        "print('Avg male score:', avg_male)\n",
        "print('Avg female score:', avg_female)\n",
        "print('Number of males:', m_count)\n",
        "print('Number of females:', f_count)"
      ],
      "execution_count": 0,
      "outputs": [
        {
          "output_type": "stream",
          "text": [
            "Avg male score: 0.6458762414755862\n",
            "Avg female score: 0.5432226711165717\n",
            "Number of males: 7283\n",
            "Number of females: 5693\n"
          ],
          "name": "stdout"
        }
      ]
    },
    {
      "cell_type": "code",
      "metadata": {
        "id": "ZvJJ428x_-2Y",
        "colab_type": "code",
        "outputId": "b7737f0f-b2c8-449a-8ae6-97260efe7649",
        "colab": {
          "base_uri": "https://localhost:8080/",
          "height": 278
        }
      },
      "source": [
        "import operator\n",
        "\n",
        "mdict = {}\n",
        "mscore = {}\n",
        "fscore = {}\n",
        "fdict = {}\n",
        "tdict = {}\n",
        "tscore = {}\n",
        "\n",
        "for idx in range(len(data)):\n",
        "  writtenwhole = data.iloc[idx][essay_key]\n",
        "  written = writtenwhole.split(' ')\n",
        "  if pred[idx] == 0:\n",
        "    for word in written:\n",
        "      w = word.lower()\n",
        "      if w in stop_words or w == ' ' or len(w) == 0:\n",
        "        continue\n",
        "      if w[0] == '@':\n",
        "        continue\n",
        "      if w not in mdict:\n",
        "        mdict[w] = 1\n",
        "        mscore[w] = norm_score[idx]\n",
        "      else:\n",
        "        mdict[w] += 1\n",
        "        mscore[w] += norm_score[idx]\n",
        "      if w not in tdict:\n",
        "        tdict[w] = 1\n",
        "        tscore[w] = norm_score[idx]\n",
        "      else:\n",
        "        tdict[w] += 1\n",
        "        tscore[w] += norm_score[idx]\n",
        "  else:\n",
        "    for word in written:\n",
        "      w = word.lower()\n",
        "      #print('jel', w)\n",
        "      if w in stop_words or w == ' ' or len(w) == 0:\n",
        "        continue\n",
        "      if w[0] == '@':\n",
        "        continue\n",
        "      if w not in fdict:\n",
        "        fdict[w] = 1\n",
        "        fscore[w] = norm_score[idx]\n",
        "      else:\n",
        "        fdict[w] += 1\n",
        "        fscore[w] += norm_score[idx]\n",
        "\n",
        "      if w not in tdict:\n",
        "        tdict[w] = 1\n",
        "        tscore[w] = norm_score[idx]\n",
        "      else:\n",
        "        tdict[w] += 1\n",
        "        tscore[w] += norm_score[idx]\n",
        "    \n",
        "mm = dict(sorted(mdict.items(), key=operator.itemgetter(1), reverse=True)[:10])\n",
        "ff = dict(sorted(fdict.items(), key=operator.itemgetter(1), reverse=True)[:10])\n",
        "print('Males:', [w for w in mm.keys()])\n",
        "print('Females:', [w for w in ff.keys()])\n",
        "\n",
        "for idx in mdict:\n",
        "  mscore[idx] = mscore[idx]/mdict[idx]\n",
        "for idx in fdict:\n",
        "  fscore[idx] = fscore[idx]/fdict[idx]\n",
        "for idx in tdict:\n",
        "  tscore[idx] = tscore[idx]/tdict[idx]\n",
        "\n",
        "print('\\n')\n",
        "print('Top 10 scoring words:','   ','Avg no. of times used by males in an essay', '   ','Avg no. of times used by females in an essay')\n",
        "s2 = dict(sorted(tdict.items(), key=operator.itemgetter(1), reverse=True)[:10])\n",
        "#print(s2)\n",
        "for w in s2:\n",
        "  print(w, '                   ', mscore[w], '                      ', fscore[w])\n"
      ],
      "execution_count": 0,
      "outputs": [
        {
          "output_type": "stream",
          "text": [
            "Males: ['people', 'would', 'computers', 'computer', 'many', 'could', 'one', 'building', 'also', 'like']\n",
            "Females: ['people', 'like', 'would', 'get', 'one', 'time', 'think', 'go', 'author', 'got']\n",
            "\n",
            "\n",
            "Top 10 scoring words:     Avg no. of times used by males in an essay     Avg no. of times used by females in an essay\n",
            "people                     0.6895147781920875                        0.6072997644287381\n",
            "would                     0.7115344027015519                        0.6075053477908029\n",
            "like                     0.6660970557774836                        0.5820515316718529\n",
            "computers                     0.7467899332306276                        0.679380185456323\n",
            "one                     0.6899979691307958                        0.6041606425702792\n",
            "get                     0.679354504404471                        0.5929995569339739\n",
            "could                     0.708059604794306                        0.6220195086705191\n",
            "think                     0.64203528827038                        0.5561838262139442\n",
            "time                     0.7128709647409105                        0.6069705979517658\n",
            "many                     0.7153829335332359                        0.660073472544471\n"
          ],
          "name": "stdout"
        }
      ]
    },
    {
      "cell_type": "code",
      "metadata": {
        "id": "Q6CdRPrvW4fl",
        "colab_type": "code",
        "colab": {}
      },
      "source": [
        "\n"
      ],
      "execution_count": 0,
      "outputs": []
    },
    {
      "cell_type": "code",
      "metadata": {
        "id": "Gk-QT2xXBgPJ",
        "colab_type": "code",
        "outputId": "f13905ca-5829-4200-938f-60b95ecad58a",
        "colab": {
          "base_uri": "https://localhost:8080/",
          "height": 545
        }
      },
      "source": [
        "###-------NGRAM FEATURES VISUALIZATION ----------\n",
        "import matplotlib\n",
        "import matplotlib.pyplot as plt\n",
        "from matplotlib.pyplot import figure\n",
        "import scipy\n",
        "\n",
        "labels = []\n",
        "mat_shape = test_data[0].shape\n",
        "male_means =  scipy.sparse.csr_matrix(mat_shape)\n",
        "female_means =  scipy.sparse.csr_matrix(mat_shape)\n",
        "\n",
        "male_count = 0\n",
        "female_count = 0\n",
        "for idx in range(len(data)):\n",
        "  if pred[idx] == 0: #male\n",
        "    male_means = (male_means.tocsr() + test_data[idx].tocsr())\n",
        "    male_count += 1\n",
        "  else:\n",
        "    female_means = (female_means.tocsr() + test_data[idx].tocsr())\n",
        "    female_count += 1\n",
        "\n",
        "male_means = male_means/male_count\n",
        "female_means = female_means/female_count\n",
        "\n",
        "#male_means = list(male_means)\n",
        "#female_means = list(female_means)\n",
        "male_m = scipy.sparse.csr_matrix.toarray(male_means)\n",
        "plt.plot(male_m[0])\n",
        "plt.title('Male N-grams')\n",
        "plt.show()\n",
        "\n",
        "female_m = scipy.sparse.csr_matrix.toarray(female_means)\n",
        "plt.plot(female_m[0])\n",
        "plt.title('Female N-grams')\n",
        "plt.show()\n"
      ],
      "execution_count": 0,
      "outputs": [
        {
          "output_type": "display_data",
          "data": {
            "image/png": "[encoded data removed]",
            "text/plain": [
              "<Figure size 432x288 with 1 Axes>"
            ]
          },
          "metadata": {
            "tags": [],
            "needs_background": "light"
          }
        },
        {
          "output_type": "display_data",
          "data": {
            "image/png": "[encoded data removed]",
            "text/plain": [
              "<Figure size 432x288 with 1 Axes>"
            ]
          },
          "metadata": {
            "tags": [],
            "needs_background": "light"
          }
        }
      ]
    },
    {
      "cell_type": "markdown",
      "metadata": {
        "id": "44ELgZmZPNMj",
        "colab_type": "text"
      },
      "source": [
        "# **Analysis on generalization dataset**"
      ]
    },
    {
      "cell_type": "code",
      "metadata": {
        "id": "70tVACp119aM",
        "colab_type": "code",
        "colab": {}
      },
      "source": [
        "import csv\n",
        "import os\n",
        "import pandas as pd\n",
        "import sys\n",
        "\n",
        "new_data = pd.read_csv('blog-gender-dataset.csv', sep=\"\\t\", encoding=\"ISO-8859-1\")"
      ],
      "execution_count": 0,
      "outputs": []
    },
    {
      "cell_type": "code",
      "metadata": {
        "id": "4fVJs2mO8Nxo",
        "colab_type": "code",
        "colab": {}
      },
      "source": [
        "def search_for(biglist):\n",
        "  y = []\n",
        "  x = []\n",
        "  string = ''\n",
        "  for i in range(len(biglist)):\n",
        "    if biglist[i] == 'M' or biglist[i] == 'm':\n",
        "      x.append(string)\n",
        "      y.append(0)\n",
        "      string = ''\n",
        "    elif biglist[i] == 'F' or biglist[i] == 'f':\n",
        "      x.append(string)\n",
        "      y.append(1)\n",
        "      string = ''\n",
        "    else:\n",
        "      string = string+' '+biglist[i]\n",
        "  return x,y"
      ],
      "execution_count": 0,
      "outputs": []
    },
    {
      "cell_type": "code",
      "metadata": {
        "id": "ML_0ih5W3Rt9",
        "colab_type": "code",
        "outputId": "8cbd10b8-72ea-40fc-ca8e-1d7df3b7170e",
        "colab": {
          "base_uri": "https://localhost:8080/",
          "height": 86
        }
      },
      "source": [
        "from sklearn.metrics import accuracy_score, confusion_matrix\n",
        "all_essays = []\n",
        "gender = []\n",
        "\n",
        "for idx in range(len(new_data)):\n",
        "  s = new_data.iloc[idx]\n",
        "  t = prepare_test(s)\n",
        "  x,y = search_for(t[0])\n",
        "  for j in range(len(x)): \n",
        "    all_essays.append(x[j])\n",
        "    gender.append(y[j])\n",
        "\n",
        "filename1 = 'ngram_model.sav'\n",
        "loaded_model1 = pickle.load(open(filename1, 'rb'))\n",
        "filename2 = 'ngram_classifier_model.sav'\n",
        "loaded_model2 = pickle.load(open(filename2, 'rb'))\n",
        "\n",
        "all_essays = np.asarray(all_essays)\n",
        "test_data = ngram_test(all_essays, loaded_model1)\n",
        "\n",
        "pred = loaded_model2.predict(test_data)\n",
        "pred = np.asarray(pred)\n",
        "gender = np.asarray(gender)\n",
        "print('Accuracy score for generalization dataset:', accuracy_score(gender, pred))\n",
        "print('Confusion matrix:')\n",
        "print(confusion_matrix(gender, pred))"
      ],
      "execution_count": 0,
      "outputs": [
        {
          "output_type": "stream",
          "text": [
            "Accuracy score for generalization dataset: 0.6163180996643429\n",
            "Confusion matrix:\n",
            "[[1448  814]\n",
            " [ 672  939]]\n"
          ],
          "name": "stdout"
        }
      ]
    },
    {
      "cell_type": "markdown",
      "metadata": {
        "id": "51b9DVHkVy46",
        "colab_type": "text"
      },
      "source": [
        "# **Age Profiling**"
      ]
    },
    {
      "cell_type": "code",
      "metadata": {
        "id": "DKOsugja3w6h",
        "colab_type": "code",
        "colab": {}
      },
      "source": [
        "def prepare_age(start, essays, age, original_data, age_label):\n",
        "  data_length = 40000 #10000 \n",
        "\n",
        "  for i in range(start, start+data_length):\n",
        "    poster_age = int(data[i]['age'])\n",
        "    post = data[i]['post']\n",
        "    tokens = regexp_tokenize(post, default_pattern)\n",
        "\n",
        "    if poster_age <= 12 or poster_age > 16: #13-16 inclusive\n",
        "      continue\n",
        "    essays.append(tokens)\n",
        "    age.append(poster_age)\n",
        "    original_data.append(post)\n",
        "    if poster_age == 13 or poster_age == 14:\n",
        "      age_label.append(1)\n",
        "    elif poster_age == 15 or poster_age == 16:\n",
        "      age_label.append(2)\n",
        "\n",
        "  return essays, age, original_data, age_label"
      ],
      "execution_count": 0,
      "outputs": []
    },
    {
      "cell_type": "code",
      "metadata": {
        "id": "1GO3rxrPbZKd",
        "colab_type": "code",
        "colab": {}
      },
      "source": [
        "def prepare_test(essays):\n",
        "  token_essays = []\n",
        "  for i in range(len(essays)):\n",
        "    post = essays[i]\n",
        "    tokens = regexp_tokenize(post, default_pattern)\n",
        "    token_essays.append(tokens)\n",
        "  return token_essays"
      ],
      "execution_count": 0,
      "outputs": []
    },
    {
      "cell_type": "code",
      "metadata": {
        "id": "D7hRBgqv4IS5",
        "colab_type": "code",
        "colab": {}
      },
      "source": [
        "essays = []\n",
        "age = []\n",
        "original_data = []\n",
        "age_label = []\n",
        "\n",
        "essays, age, original_data, age_label = prepare_age(0, essays, age, original_data, age_label)\n",
        "essays, age, original_data, age_label = prepare_age(40000, essays, age, original_data, age_label)\n",
        "essays, age, original_data, age_label = prepare_age(80000, essays, age, original_data, age_label)\n",
        "essays, age, original_data, age_label = prepare_age(120000, essays, age, original_data, age_label)\n",
        "essays, age, original_data, age_label = prepare_age(160000, essays, age, original_data, age_label)\n",
        "essays, age, original_data, age_label = prepare_age(200000, essays, age, original_data, age_label)\n",
        "essays, age, original_data, age_label = prepare_age(240000, essays, age, original_data, age_label)\n",
        "essays, age, original_data, age_label = prepare_age(280000, essays, age, original_data, age_label)\n",
        "essays, age, original_data, age_label = prepare_age(320000, essays, age, original_data, age_label)"
      ],
      "execution_count": 0,
      "outputs": []
    },
    {
      "cell_type": "markdown",
      "metadata": {
        "id": "nAx6ZTFOXahA",
        "colab_type": "text"
      },
      "source": [
        "**Age statistics:**"
      ]
    },
    {
      "cell_type": "code",
      "metadata": {
        "id": "QNyQrdfuXbNL",
        "colab_type": "code",
        "outputId": "2f0c88ad-0457-46a8-e0b9-ab12d4a9288c",
        "colab": {
          "base_uri": "https://localhost:8080/",
          "height": 173
        }
      },
      "source": [
        "c13 = 0\n",
        "c14 = 0\n",
        "c15 = 0\n",
        "c16 = 0\n",
        "c11 = 0\n",
        "c12 = 0\n",
        "\n",
        "c0 = 0\n",
        "c1 = 0\n",
        "c2 = 0\n",
        "c3 = 0\n",
        "for i in range(len(age)):\n",
        "  if age[i] == 13:\n",
        "    c13 += 1\n",
        "  elif age[i] == 14:\n",
        "    c14 += 1\n",
        "  elif age[i] == 15:\n",
        "    c15 += 1\n",
        "  elif age[i] == 16:\n",
        "    c16 += 1\n",
        "    \n",
        "  if age_label[i] == 1:\n",
        "    c1 += 1\n",
        "  elif age_label[i] == 2:\n",
        "    c2 += 1\n",
        "\n",
        "print('Number of entries', len(age))\n",
        "\n",
        "print('13', c13, 'Percent of data', c13/len(age))\n",
        "print('14', c14, 'Percent of data', c14/len(age))\n",
        "print('15', c15, 'Percent of data', c15/len(age))\n",
        "print('16', c16, 'Percent of data', c16/len(age))\n",
        "print('\\n')\n",
        "\n",
        "print('13-14', c1, 'Percent of data', c1/len(age_label))\n",
        "print('15-16', c2, 'Percent of data', c2/len(age_label))\n"
      ],
      "execution_count": 0,
      "outputs": [
        {
          "output_type": "stream",
          "text": [
            "Number of entries 79997\n",
            "13 7211 Percent of data 0.09014088028301061\n",
            "14 14496 Percent of data 0.18120679525482206\n",
            "15 21220 Percent of data 0.2652599472480218\n",
            "16 37070 Percent of data 0.46339237721414556\n",
            "\n",
            "\n",
            "13-14 21707 Percent of data 0.2713476755378327\n",
            "15-16 58290 Percent of data 0.7286523244621673\n"
          ],
          "name": "stdout"
        }
      ]
    },
    {
      "cell_type": "markdown",
      "metadata": {
        "id": "uZ_uSjnUXXoo",
        "colab_type": "text"
      },
      "source": [
        "**Using POS features:**"
      ]
    },
    {
      "cell_type": "code",
      "metadata": {
        "id": "YX0MJiZFV0xz",
        "colab_type": "code",
        "outputId": "c1c6fe4b-63e7-407a-cb33-ba430979b125",
        "colab": {
          "base_uri": "https://localhost:8080/",
          "height": 191
        }
      },
      "source": [
        "###------SVM WITH POS_FEATURES-------\n",
        "from sklearn.multiclass import OneVsRestClassifier\n",
        "import sklearn\n",
        "from sklearn.svm import SVC\n",
        "from sklearn.metrics import accuracy_score\n",
        "\n",
        "classifier = OneVsRestClassifier(SVC(class_weight={0: 2, 1:1}))\n",
        "batches = [0,40000,80000,120000,160000,200000,240000,280000,320000]\n",
        "acc = 0\n",
        "for i in batches:\n",
        "  essays, age, original_data, age_label = prepare_age(i, [], [], [], [])\n",
        "\n",
        "  pos_features = POS(essays)\n",
        "  length = len(essays)\n",
        "  trainlength = round(0.8*length)\n",
        "  features = pos_features\n",
        "  Xtrain = np.asarray(features[:trainlength])\n",
        "  Ytrain = np.asarray(age_label[:trainlength])\n",
        "\n",
        "  classifier.fit(Xtrain, Ytrain)\n",
        "#Xtrain = Xtrain.reshape(-1, 1)\n",
        "\n",
        "  Xtest = np.asarray(features[trainlength:])\n",
        "  Ytest = np.asarray(age_label[trainlength:])\n",
        "\n",
        "#Xtest = Xtest.reshape(-1, 1)\n",
        "\n",
        "  pred = classifier.predict(Xtest)\n",
        "  acc += accuracy_score(Ytest, pred)\n",
        "\n",
        "  print('Batch', batches.index(i), ':',accuracy_score(Ytest, pred))\n",
        "print('Overall accuracy:', acc/len(batches))"
      ],
      "execution_count": 0,
      "outputs": [
        {
          "output_type": "stream",
          "text": [
            "Batch 0 : 0.7374517374517374\n",
            "Batch 1 : 0.7269662921348314\n",
            "Batch 2 : 0.7342419080068143\n",
            "Batch 3 : 0.7471655328798186\n",
            "Batch 4 : 0.7403409090909091\n",
            "Batch 5 : 0.7379619260918253\n",
            "Batch 6 : 0.7283398546674119\n",
            "Batch 7 : 0.7323462414578588\n",
            "Batch 8 : 0.7139664804469273\n",
            "Overall accuracy: 0.733197875803126\n"
          ],
          "name": "stdout"
        }
      ]
    },
    {
      "cell_type": "code",
      "metadata": {
        "id": "00kTZ71nWbAg",
        "colab_type": "code",
        "outputId": "ca42a2ed-ffaf-4088-8cb0-03340843baed",
        "colab": {
          "base_uri": "https://localhost:8080/",
          "height": 191
        }
      },
      "source": [
        "###-----KNN WITH POS_FEATURES---------\n",
        "from sklearn.neighbors import NearestNeighbors\n",
        "from sklearn import neighbors\n",
        "\n",
        "clf = neighbors.KNeighborsClassifier(75)\n",
        "\n",
        "batches = [0,40000,80000,120000,160000,200000,240000,280000,320000]\n",
        "acc = 0\n",
        "for i in batches:\n",
        "  essays, age, original_data, age_label = prepare_age(i, [], [], [], [])\n",
        "  pos_features = POS(essays)\n",
        "  length = len(pos_features)\n",
        "  trainlength = round(0.8*length)\n",
        "  features = pos_features\n",
        "  Xtrain = np.asarray(features[:trainlength])\n",
        "  Ytrain = np.asarray(age_label[:trainlength])\n",
        "\n",
        "  clf.fit(Xtrain, Ytrain)\n",
        "\n",
        "  Xtest = np.asarray(features[trainlength:])\n",
        "  Ytest = np.asarray(age_label[trainlength:])\n",
        "\n",
        "#Xtest = Xtest.reshape(-1, 1)\n",
        "\n",
        "  pred = clf.predict(Xtest)\n",
        "  acc += accuracy_score(Ytest, pred)\n",
        "  print('Batch', batches.index(i), ':', accuracy_score(Ytest, pred))\n",
        "print('Overall accuracy:', acc/len(batches))"
      ],
      "execution_count": 0,
      "outputs": [
        {
          "output_type": "stream",
          "text": [
            "Batch 0 : 0.7402095973524545\n",
            "Batch 1 : 0.7331460674157303\n",
            "Batch 2 : 0.7421919363997729\n",
            "Batch 3 : 0.7477324263038548\n",
            "Batch 4 : 0.740909090909091\n",
            "Batch 5 : 0.7474804031354984\n",
            "Batch 6 : 0.7361654555617664\n",
            "Batch 7 : 0.7329157175398633\n",
            "Batch 8 : 0.7212290502793296\n",
            "Overall accuracy: 0.7379977494330402\n"
          ],
          "name": "stdout"
        }
      ]
    },
    {
      "cell_type": "code",
      "metadata": {
        "id": "ZNzcFFiPRadR",
        "colab_type": "code",
        "outputId": "d633b5b7-adbe-4f0c-f5d3-1a6438e6c85d",
        "colab": {
          "base_uri": "https://localhost:8080/",
          "height": 208
        }
      },
      "source": [
        "###-----LINEAR REGRESSION WITH POS_FEATURES---------\n",
        "from sklearn.linear_model import LinearRegression\n",
        "from sklearn.metrics import mean_squared_error, accuracy_score\n",
        "from sklearn import neighbors\n",
        "\n",
        "clf = LinearRegression()\n",
        "\n",
        "batches = [0,40000,80000,120000,160000,200000,240000,280000,320000]\n",
        "mse = 0\n",
        "acc = 0\n",
        "for i in batches:\n",
        "  essays, age, original_data, age_label = prepare_age(i, [], [], [], [])\n",
        "  pos_features = POS(essays)\n",
        "  length = len(pos_features)\n",
        "  trainlength = round(0.8*length)\n",
        "  features = pos_features\n",
        "  Xtrain = np.asarray(features[:trainlength])\n",
        "  Ytrain = np.asarray(age_label[:trainlength])\n",
        "\n",
        "  clf.fit(Xtrain, Ytrain)\n",
        "\n",
        "  Xtest = np.asarray(features[trainlength:])\n",
        "  Ytest = np.asarray(age_label[trainlength:])\n",
        "\n",
        "#Xtest = Xtest.reshape(-1, 1)\n",
        "\n",
        "  pred = clf.predict(Xtest)\n",
        "  c_pred = np.round(pred)\n",
        "  mse += mean_squared_error(Ytest, pred)\n",
        "  acc += accuracy_score(Ytest, c_pred)\n",
        "  print('Batch', batches.index(i), ':', mean_squared_error(Ytest, pred), 'accuracy:', accuracy_score(Ytest, c_pred))\n",
        "print('Overall mean squared error:', mse/len(batches))\n",
        "print('Overall accuracy:', acc/len(batches))"
      ],
      "execution_count": 0,
      "outputs": [
        {
          "output_type": "stream",
          "text": [
            "Batch 0 : 0.19065496646321303 accuracy: 0.7402095973524545\n",
            "Batch 1 : 0.19725587550564172 accuracy: 0.7292134831460674\n",
            "Batch 2 : 0.18986803600452878 accuracy: 0.7427597955706985\n",
            "Batch 3 : 0.1866866518154498 accuracy: 0.7477324263038548\n",
            "Batch 4 : 0.19271158193736018 accuracy: 0.7397727272727272\n",
            "Batch 5 : 0.18899030530527478 accuracy: 0.7458006718924972\n",
            "Batch 6 : 0.19623009295556926 accuracy: 0.7350475125768586\n",
            "Batch 7 : 0.19623277399256908 accuracy: 0.7323462414578588\n",
            "Batch 8 : 0.20006606474384173 accuracy: 0.7195530726256983\n",
            "Overall mean squared error: 0.19318848319149426\n",
            "Overall accuracy: 0.7369372809109686\n"
          ],
          "name": "stdout"
        }
      ]
    },
    {
      "cell_type": "code",
      "metadata": {
        "id": "PnRXqaGWeYkd",
        "colab_type": "code",
        "colab": {}
      },
      "source": [
        "filename = 'age_regression_model.sav'\n",
        "pickle.dump(clf, open(filename, 'wb'))"
      ],
      "execution_count": 0,
      "outputs": []
    },
    {
      "cell_type": "code",
      "metadata": {
        "id": "_6t82ReUTrfT",
        "colab_type": "code",
        "outputId": "fdc0f67a-fd66-4585-9e14-179b01c0cf3a",
        "colab": {
          "base_uri": "https://localhost:8080/",
          "height": 191
        }
      },
      "source": [
        "###---------RANDOM FOREST CLASSIFIER-----------\n",
        "from sklearn.ensemble import RandomForestClassifier\n",
        "clf = RandomForestClassifier(n_estimators=4, max_depth=5)\n",
        "\n",
        "batches = [0,40000,80000,120000,160000,200000,240000,280000,320000]\n",
        "acc = 0\n",
        "for i in batches:\n",
        "  essays, age, original_data, age_label = prepare_age(i, [], [], [], [])\n",
        "  pos_features = POS(essays)\n",
        "  length = len(pos_features)\n",
        "  trainlength = round(0.8*length)\n",
        "  features = pos_features\n",
        "  Xtrain = np.asarray(features[:trainlength])\n",
        "  Ytrain = np.asarray(age_label[:trainlength])\n",
        "\n",
        "  clf.fit(Xtrain, Ytrain)\n",
        "\n",
        "  Xtest = np.asarray(features[trainlength:])\n",
        "  Ytest = np.asarray(age_label[trainlength:])\n",
        "\n",
        "#Xtest = Xtest.reshape(-1, 1)\n",
        "\n",
        "  pred = clf.predict(Xtest)\n",
        "  acc += accuracy_score(Ytest, pred)\n",
        "  print('Batch', batches.index(i), ':', accuracy_score(Ytest, pred))\n",
        "print('Overall accuracy:', acc/len(batches))"
      ],
      "execution_count": 0,
      "outputs": [
        {
          "output_type": "stream",
          "text": [
            "Batch 0 : 0.7380033094318809\n",
            "Batch 1 : 0.7292134831460674\n",
            "Batch 2 : 0.7444633730834753\n",
            "Batch 3 : 0.7477324263038548\n",
            "Batch 4 : 0.7403409090909091\n",
            "Batch 5 : 0.7452407614781635\n",
            "Batch 6 : 0.7305757406372275\n",
            "Batch 7 : 0.7312072892938497\n",
            "Batch 8 : 0.7212290502793296\n",
            "Overall accuracy: 0.736445149193862\n"
          ],
          "name": "stdout"
        }
      ]
    },
    {
      "cell_type": "markdown",
      "metadata": {
        "id": "TdOf4hkuZR6d",
        "colab_type": "text"
      },
      "source": [
        "**Using n-grams**"
      ]
    },
    {
      "cell_type": "code",
      "metadata": {
        "id": "tNEVLHtFZRUL",
        "colab_type": "code",
        "outputId": "289e22f5-a1e5-4561-d672-99572efdb861",
        "colab": {
          "base_uri": "https://localhost:8080/",
          "height": 1000
        }
      },
      "source": [
        "###---------ORIGINAL NGRAMS WITH NAIVE BAYES------------\n",
        "from sklearn.naive_bayes import MultinomialNB\n",
        "from sklearn.metrics import accuracy_score\n",
        "nb_classifier = MultinomialNB()\n",
        "\n",
        "batches = []\n",
        "for i in range(100):\n",
        "  batches.append(i*1000)\n",
        "acc = 0\n",
        "for i in batches:\n",
        "  essays, age, original_data, age_label = prepare_age(i, [], [], [], [])\n",
        "  trainlength = round(0.8*len(essays))\n",
        "  features = original_data\n",
        "\n",
        "  Xtrain = np.asarray(features[0:trainlength])\n",
        "  Ytrain = np.asarray(age_label[0:trainlength])\n",
        "  Xtest = np.asarray(features[trainlength:])\n",
        "  Ytest = np.asarray(age_label[trainlength:])\n",
        "\n",
        "  train_data, model = ngram_train(Xtrain, 1) \n",
        "  test_data = ngram_test(Xtest, model)\n",
        "\n",
        "  nb_classifier.fit(train_data, Ytrain)\n",
        "  pred = nb_classifier.predict(test_data)\n",
        "\n",
        "  acc += accuracy_score(Ytest, pred)\n",
        "  print('Batch',batches.index(i),':',accuracy_score(Ytest, pred))\n",
        "print('Overall accuracy:',acc/len(batches))"
      ],
      "execution_count": 0,
      "outputs": [
        {
          "output_type": "stream",
          "text": [
            "Batch 0 : 0.7578599007170436\n",
            "Batch 1 : 0.7575757575757576\n",
            "Batch 2 : 0.7588300220750552\n",
            "Batch 3 : 0.7527593818984547\n",
            "Batch 4 : 0.7615894039735099\n",
            "Batch 5 : 0.7545706371191135\n",
            "Batch 6 : 0.7512520868113522\n",
            "Batch 7 : 0.7426183844011142\n",
            "Batch 8 : 0.7399777282850779\n",
            "Batch 9 : 0.7324805339265851\n",
            "Batch 10 : 0.7259052924791086\n",
            "Batch 11 : 0.7324022346368715\n",
            "Batch 12 : 0.7292015633724176\n",
            "Batch 13 : 0.7329988851727982\n",
            "Batch 14 : 0.7384529771841959\n",
            "Batch 15 : 0.7433333333333333\n",
            "Batch 16 : 0.7357340720221607\n",
            "Batch 17 : 0.745141588006663\n",
            "Batch 18 : 0.7386237513873474\n",
            "Batch 19 : 0.7465258476931629\n",
            "Batch 20 : 0.7401443642420877\n",
            "Batch 21 : 0.733222407099279\n",
            "Batch 22 : 0.7258601553829079\n",
            "Batch 23 : 0.7288888888888889\n",
            "Batch 24 : 0.7332962138084632\n",
            "Batch 25 : 0.7316258351893096\n",
            "Batch 26 : 0.7423312883435583\n",
            "Batch 27 : 0.7434613244296049\n",
            "Batch 28 : 0.7484696716750139\n",
            "Batch 29 : 0.7427616926503341\n",
            "Batch 30 : 0.7497206703910615\n",
            "Batch 31 : 0.7388392857142857\n",
            "Batch 32 : 0.7371651785714286\n",
            "Batch 33 : 0.7371364653243848\n",
            "Batch 34 : 0.738521836506159\n",
            "Batch 35 : 0.7315848214285714\n",
            "Batch 36 : 0.7288515406162465\n",
            "Batch 37 : 0.7377877596855699\n",
            "Batch 38 : 0.7466216216216216\n",
            "Batch 39 : 0.7456387169386607\n",
            "Batch 40 : 0.7539325842696629\n",
            "Batch 41 : 0.7455056179775281\n",
            "Batch 42 : 0.7369014084507042\n",
            "Batch 43 : 0.7425183512140033\n",
            "Batch 44 : 0.7468996617812852\n",
            "Batch 45 : 0.7389830508474576\n",
            "Batch 46 : 0.732545045045045\n",
            "Batch 47 : 0.7418447694038245\n",
            "Batch 48 : 0.7383230163196398\n",
            "Batch 49 : 0.7459154929577465\n",
            "Batch 50 : 0.7431295569265284\n",
            "Batch 51 : 0.7488814317673378\n",
            "Batch 52 : 0.7452407614781635\n",
            "Batch 53 : 0.7539149888143176\n",
            "Batch 54 : 0.7477628635346756\n",
            "Batch 55 : 0.7396416573348265\n",
            "Batch 56 : 0.7487352445193929\n",
            "Batch 57 : 0.7476217123670957\n",
            "Batch 58 : 0.7566964285714286\n",
            "Batch 59 : 0.75\n",
            "Batch 60 : 0.7474804031354984\n",
            "Batch 61 : 0.7488789237668162\n",
            "Batch 62 : 0.7544742729306487\n",
            "Batch 63 : 0.7519553072625699\n",
            "Batch 64 : 0.7416481069042317\n",
            "Batch 65 : 0.7462353597322923\n",
            "Batch 66 : 0.7377232142857143\n",
            "Batch 67 : 0.7367244270542203\n",
            "Batch 68 : 0.735870173475098\n",
            "Batch 69 : 0.7366647950589557\n",
            "Batch 70 : 0.7386172006745363\n",
            "Batch 71 : 0.7395950506186727\n",
            "Batch 72 : 0.7505630630630631\n",
            "Batch 73 : 0.7473269555430501\n",
            "Batch 74 : 0.7450648618161309\n",
            "Batch 75 : 0.7422272470322216\n",
            "Batch 76 : 0.7405313736574336\n",
            "Batch 77 : 0.7402597402597403\n",
            "Batch 78 : 0.7432279909706546\n",
            "Batch 79 : 0.7361268403171007\n",
            "Batch 80 : 0.7410562180579217\n",
            "Batch 81 : 0.7362137578169414\n",
            "Batch 82 : 0.7301136363636364\n",
            "Batch 83 : 0.7306168647425014\n",
            "Batch 84 : 0.7219705549263873\n",
            "Batch 85 : 0.7288613303269448\n",
            "Batch 86 : 0.7246621621621622\n",
            "Batch 87 : 0.7251693002257337\n",
            "Batch 88 : 0.7252124645892352\n",
            "Batch 89 : 0.730221969265794\n",
            "Batch 90 : 0.7302857142857143\n",
            "Batch 91 : 0.7351258581235698\n",
            "Batch 92 : 0.7355796687607081\n",
            "Batch 93 : 0.7375643224699828\n",
            "Batch 94 : 0.7372638809387522\n",
            "Batch 95 : 0.7397025171624714\n",
            "Batch 96 : 0.7347055460263008\n",
            "Batch 97 : 0.7339816933638444\n",
            "Batch 98 : 0.7351258581235698\n",
            "Batch 99 : 0.7449856733524355\n",
            "Overall accuracy: 0.7406437106280248\n"
          ],
          "name": "stdout"
        }
      ]
    },
    {
      "cell_type": "code",
      "metadata": {
        "id": "fDdanUsfQPRR",
        "colab_type": "code",
        "outputId": "616ca926-6601-4bd9-ba2a-6f0cd32a1d43",
        "colab": {
          "base_uri": "https://localhost:8080/",
          "height": 1000
        }
      },
      "source": [
        "###---------ORIGINAL NGRAMS (char) WITH NAIVE BAYES------------\n",
        "from sklearn.naive_bayes import MultinomialNB\n",
        "from sklearn.metrics import accuracy_score\n",
        "nb_classifier = MultinomialNB()\n",
        "\n",
        "batches = []\n",
        "for i in range(100):\n",
        "  batches.append(i*1000)\n",
        "acc = 0\n",
        "for i in batches:\n",
        "  essays, age, original_data, age_label = prepare_age(i, [], [], [], [])\n",
        "  trainlength = round(0.8*len(essays))\n",
        "  features = original_data\n",
        "\n",
        "  Xtrain = np.asarray(features[0:trainlength])\n",
        "  Ytrain = np.asarray(age_label[0:trainlength])\n",
        "  Xtest = np.asarray(features[trainlength:])\n",
        "  Ytest = np.asarray(age_label[trainlength:])\n",
        "\n",
        "  if i ==  0:\n",
        "    train_data, model = ngram_train_char(Xtrain, 1, []) \n",
        "  else:\n",
        "    train_data, model = ngram_train_char(Xtrain, 1, model) \n",
        "\n",
        "  test_data = ngram_test_char(Xtest, model)\n",
        "\n",
        "  nb_classifier.fit(train_data, Ytrain)\n",
        "  pred = nb_classifier.predict(test_data)\n",
        "\n",
        "  acc += accuracy_score(Ytest, pred)\n",
        "  print('Batch',batches.index(i),':',accuracy_score(Ytest, pred))\n",
        "print('Overall accuracy:',acc/len(batches))"
      ],
      "execution_count": 0,
      "outputs": [
        {
          "output_type": "stream",
          "text": [
            "Batch 0 : 0.6249310535024821\n",
            "Batch 1 : 0.6198347107438017\n",
            "Batch 2 : 0.6214128035320088\n",
            "Batch 3 : 0.6225165562913907\n",
            "Batch 4 : 0.6280353200883002\n",
            "Batch 5 : 0.628808864265928\n",
            "Batch 6 : 0.6349471341124096\n",
            "Batch 7 : 0.6417827298050139\n",
            "Batch 8 : 0.6603563474387528\n",
            "Batch 9 : 0.6579532814238043\n",
            "Batch 10 : 0.6540389972144847\n",
            "Batch 11 : 0.6558659217877095\n",
            "Batch 12 : 0.6543830262423227\n",
            "Batch 13 : 0.6739130434782609\n",
            "Batch 14 : 0.6649972175848636\n",
            "Batch 15 : 0.6616666666666666\n",
            "Batch 16 : 0.6559556786703601\n",
            "Batch 17 : 0.6546363131593559\n",
            "Batch 18 : 0.6642619311875694\n",
            "Batch 19 : 0.6659255141745414\n",
            "Batch 20 : 0.6524153248195447\n",
            "Batch 21 : 0.6444814198557959\n",
            "Batch 22 : 0.6437291897891232\n",
            "Batch 23 : 0.6416666666666667\n",
            "Batch 24 : 0.6542316258351893\n",
            "Batch 25 : 0.6531180400890868\n",
            "Batch 26 : 0.6553262688232013\n",
            "Batch 27 : 0.657762938230384\n",
            "Batch 28 : 0.6583194212576516\n",
            "Batch 29 : 0.6642538975501113\n",
            "Batch 30 : 0.6581005586592179\n",
            "Batch 31 : 0.6668526785714286\n",
            "Batch 32 : 0.6635044642857143\n",
            "Batch 33 : 0.6649888143176734\n",
            "Batch 34 : 0.6623740201567749\n",
            "Batch 35 : 0.6595982142857143\n",
            "Batch 36 : 0.6627450980392157\n",
            "Batch 37 : 0.6743402582818642\n",
            "Batch 38 : 0.6711711711711712\n",
            "Batch 39 : 0.6561620709060214\n",
            "Batch 40 : 0.6460674157303371\n",
            "Batch 41 : 0.6376404494382022\n",
            "Batch 42 : 0.6304225352112676\n",
            "Batch 43 : 0.6329757199322417\n",
            "Batch 44 : 0.6358511837655016\n",
            "Batch 45 : 0.632768361581921\n",
            "Batch 46 : 0.6356981981981982\n",
            "Batch 47 : 0.6479190101237345\n",
            "Batch 48 : 0.6460326392796849\n",
            "Batch 49 : 0.652394366197183\n",
            "Batch 50 : 0.6461020751542345\n",
            "Batch 51 : 0.6431767337807607\n",
            "Batch 52 : 0.6444568868980963\n",
            "Batch 53 : 0.6487695749440716\n",
            "Batch 54 : 0.6487695749440716\n",
            "Batch 55 : 0.635498320268757\n",
            "Batch 56 : 0.6644182124789207\n",
            "Batch 57 : 0.6541689983212088\n",
            "Batch 58 : 0.6685267857142857\n",
            "Batch 59 : 0.6612723214285714\n",
            "Batch 60 : 0.6657334826427772\n",
            "Batch 61 : 0.6614349775784754\n",
            "Batch 62 : 0.6683445190156599\n",
            "Batch 63 : 0.664804469273743\n",
            "Batch 64 : 0.6597995545657016\n",
            "Batch 65 : 0.6553262688232013\n",
            "Batch 66 : 0.6584821428571429\n",
            "Batch 67 : 0.6512017887087759\n",
            "Batch 68 : 0.6474538332400671\n",
            "Batch 69 : 0.652442448062886\n",
            "Batch 70 : 0.657672849915683\n",
            "Batch 71 : 0.6642294713160855\n",
            "Batch 72 : 0.6649774774774775\n",
            "Batch 73 : 0.6634777715250422\n",
            "Batch 74 : 0.6604624929498026\n",
            "Batch 75 : 0.6636517806670436\n",
            "Batch 76 : 0.6619559072922555\n",
            "Batch 77 : 0.655561829474873\n",
            "Batch 78 : 0.6472911963882618\n",
            "Batch 79 : 0.6540203850509626\n",
            "Batch 80 : 0.6598523566155593\n",
            "Batch 81 : 0.6634451392836839\n",
            "Batch 82 : 0.6619318181818182\n",
            "Batch 83 : 0.6610073571024335\n",
            "Batch 84 : 0.6602491506228766\n",
            "Batch 85 : 0.6465614430665163\n",
            "Batch 86 : 0.6475225225225225\n",
            "Batch 87 : 0.6512415349887133\n",
            "Batch 88 : 0.6464589235127479\n",
            "Batch 89 : 0.6476949345475241\n",
            "Batch 90 : 0.6542857142857142\n",
            "Batch 91 : 0.6418764302059496\n",
            "Batch 92 : 0.6459166190748143\n",
            "Batch 93 : 0.642652944539737\n",
            "Batch 94 : 0.6502575844304522\n",
            "Batch 95 : 0.6533180778032036\n",
            "Batch 96 : 0.6592338479130933\n",
            "Batch 97 : 0.6498855835240275\n",
            "Batch 98 : 0.6510297482837528\n",
            "Batch 99 : 0.6521489971346704\n",
            "Overall accuracy: 0.6524918999081853\n"
          ],
          "name": "stdout"
        }
      ]
    },
    {
      "cell_type": "markdown",
      "metadata": {
        "id": "wiEJrfXjdSPy",
        "colab_type": "text"
      },
      "source": [
        "**Using methods defined in: http://ceur-ws.org/Vol-1446/smlir_submission2.pdf**"
      ]
    },
    {
      "cell_type": "code",
      "metadata": {
        "id": "JWNFR8IWdZ2u",
        "colab_type": "code",
        "outputId": "4ea6916f-bf8a-42e5-c7e2-624d6f7a41f3",
        "colab": {
          "base_uri": "https://localhost:8080/",
          "height": 34
        }
      },
      "source": [
        "!pip install pyphen\n",
        "import pyphen\n",
        "dic = pyphen.Pyphen(lang='en')\n",
        "\n",
        "def extract_features(essays, age):\n",
        "  features = []\n",
        "  age_label = []\n",
        "  for e in essays:\n",
        "    n_words = len(e)\n",
        "\n",
        "    if e == []:\n",
        "      continue\n",
        "    complex_words = 0\n",
        "    syllables = 0\n",
        "    n_chars = 0\n",
        "    n1 = 0\n",
        "    n2 = 0\n",
        "    n3 = 0\n",
        "    n4 = 0\n",
        "    n5 = 0\n",
        "    n6 = 0\n",
        "    n7 = 0\n",
        "    n8 = 0\n",
        "\n",
        "    for word in e:\n",
        "      syl = dic.inserted(word)\n",
        "      syllables += syl.count('-') \n",
        "      sc = syl.count('-')\n",
        "      if sc > 2:\n",
        "        complex_words += 1\n",
        "      if sc == 1:\n",
        "        n1 += 1\n",
        "      if sc == 2:\n",
        "        n2 += 1\n",
        "      if sc == 3:\n",
        "        n3 += 1\n",
        "      if sc == 4:\n",
        "        n4 += 1\n",
        "      if sc == 5:\n",
        "        n5 += 1\n",
        "      if sc == 6:\n",
        "        n6 += 1\n",
        "      if sc == 7:\n",
        "        n7 += 1\n",
        "      if sc == 8:\n",
        "        n8 += 1\n",
        "      n_chars += len(word)\n",
        "    f = [n_chars/n_words, n_words, complex_words/n_words, syllables/n_words, n1/n_words, n2/n_words, n3/n_words, n4/n_words, n5/n_words, n6/n_words, n7/n_words, n8/n_words]\n",
        "    features.append(f)\n",
        "    age_label.append(age[essays.index(e)])\n",
        "  return features, age_label\n",
        "\n",
        "def pentel_features(essays):\n",
        "  features = []\n",
        "  age_label = []\n",
        "  for e in essays:\n",
        "    n_words = len(e)\n",
        "\n",
        "    if e == []:\n",
        "      continue\n",
        "    complex_words = 0\n",
        "    syllables = 0\n",
        "    n_chars = 0\n",
        "    n1 = 0\n",
        "    n2 = 0\n",
        "    n3 = 0\n",
        "    n4 = 0\n",
        "    n5 = 0\n",
        "    n6 = 0\n",
        "    n7 = 0\n",
        "    n8 = 0\n",
        "\n",
        "    for word in e:\n",
        "      syl = dic.inserted(word)\n",
        "      syllables += syl.count('-') \n",
        "      sc = syl.count('-')\n",
        "      if sc > 2:\n",
        "        complex_words += 1\n",
        "      if sc == 1:\n",
        "        n1 += 1\n",
        "      if sc == 2:\n",
        "        n2 += 1\n",
        "      if sc == 3:\n",
        "        n3 += 1\n",
        "      if sc == 4:\n",
        "        n4 += 1\n",
        "      if sc == 5:\n",
        "        n5 += 1\n",
        "      if sc == 6:\n",
        "        n6 += 1\n",
        "      if sc == 7:\n",
        "        n7 += 1\n",
        "      if sc == 8:\n",
        "        n8 += 1\n",
        "      n_chars += len(word)\n",
        "    f = [n_chars/n_words, n_words, complex_words/n_words, syllables/n_words, n1/n_words, n2/n_words, n3/n_words, n4/n_words, n5/n_words, n6/n_words, n7/n_words, n8/n_words]\n",
        "    features.append(f)\n",
        "  return features"
      ],
      "execution_count": 0,
      "outputs": [
        {
          "output_type": "stream",
          "text": [
            "Requirement already satisfied: pyphen in /usr/local/lib/python3.6/dist-packages (0.9.5)\n"
          ],
          "name": "stdout"
        }
      ]
    },
    {
      "cell_type": "code",
      "metadata": {
        "id": "Av2zitpHgUby",
        "colab_type": "code",
        "outputId": "5137efe4-9803-4882-cda4-c05e5c4a3142",
        "colab": {
          "base_uri": "https://localhost:8080/",
          "height": 713
        }
      },
      "source": [
        "###------SVM WITH PENTEL FEATURES-------\n",
        "from sklearn.multiclass import OneVsRestClassifier\n",
        "import sklearn\n",
        "from sklearn.svm import SVC\n",
        "from sklearn.metrics import accuracy_score\n",
        "\n",
        "classifier = OneVsRestClassifier(SVC())\n",
        "batches = []\n",
        "i = 0\n",
        "while i < 320000:\n",
        "  batches.append(i)\n",
        "  i += 40000\n",
        "acc = 0\n",
        "\n",
        "for i in batches:\n",
        "  essays, age, original_data, age_label = prepare_age(i, [], [], [], [])\n",
        "\n",
        "  features, age_label = extract_features(essays, age_label)\n",
        "  length = len(features)\n",
        "  trainlength = round(0.8*length)\n",
        "  Xtrain = np.asarray(features[:trainlength])\n",
        "  Ytrain = np.asarray(age_label[:trainlength])\n",
        "\n",
        "  classifier.fit(Xtrain, Ytrain)\n",
        "#Xtrain = Xtrain.reshape(-1, 1)\n",
        "\n",
        "  Xtest = np.asarray(features[trainlength:])\n",
        "  Ytest = np.asarray(age_label[trainlength:])\n",
        "\n",
        "#Xtest = Xtest.reshape(-1, 1)\n",
        "\n",
        "  pred = classifier.predict(Xtest)\n",
        "\n",
        "  acc += accuracy_score(Ytest, pred)\n",
        "  print('Batch', batches.index(i), ':',accuracy_score(Ytest, pred))\n",
        "print('Overall accuracy:', acc/len(batches))"
      ],
      "execution_count": 0,
      "outputs": [
        {
          "output_type": "error",
          "ename": "KeyError",
          "evalue": "ignored",
          "traceback": [
            "\u001b[0;31m---------------------------------------------------------------------------\u001b[0m",
            "\u001b[0;31mKeyError\u001b[0m                                  Traceback (most recent call last)",
            "\u001b[0;32m/usr/local/lib/python3.6/dist-packages/pandas/core/indexes/base.py\u001b[0m in \u001b[0;36mget_loc\u001b[0;34m(self, key, method, tolerance)\u001b[0m\n\u001b[1;32m   2645\u001b[0m             \u001b[0;32mtry\u001b[0m\u001b[0;34m:\u001b[0m\u001b[0;34m\u001b[0m\u001b[0;34m\u001b[0m\u001b[0m\n\u001b[0;32m-> 2646\u001b[0;31m                 \u001b[0;32mreturn\u001b[0m \u001b[0mself\u001b[0m\u001b[0;34m.\u001b[0m\u001b[0m_engine\u001b[0m\u001b[0;34m.\u001b[0m\u001b[0mget_loc\u001b[0m\u001b[0;34m(\u001b[0m\u001b[0mkey\u001b[0m\u001b[0;34m)\u001b[0m\u001b[0;34m\u001b[0m\u001b[0;34m\u001b[0m\u001b[0m\n\u001b[0m\u001b[1;32m   2647\u001b[0m             \u001b[0;32mexcept\u001b[0m \u001b[0mKeyError\u001b[0m\u001b[0;34m:\u001b[0m\u001b[0;34m\u001b[0m\u001b[0;34m\u001b[0m\u001b[0m\n",
            "\u001b[0;32mpandas/_libs/index.pyx\u001b[0m in \u001b[0;36mpandas._libs.index.IndexEngine.get_loc\u001b[0;34m()\u001b[0m\n",
            "\u001b[0;32mpandas/_libs/index.pyx\u001b[0m in \u001b[0;36mpandas._libs.index.IndexEngine.get_loc\u001b[0;34m()\u001b[0m\n",
            "\u001b[0;32mpandas/_libs/hashtable_class_helper.pxi\u001b[0m in \u001b[0;36mpandas._libs.hashtable.PyObjectHashTable.get_item\u001b[0;34m()\u001b[0m\n",
            "\u001b[0;32mpandas/_libs/hashtable_class_helper.pxi\u001b[0m in \u001b[0;36mpandas._libs.hashtable.PyObjectHashTable.get_item\u001b[0;34m()\u001b[0m\n",
            "\u001b[0;31mKeyError\u001b[0m: 0",
            "\nDuring handling of the above exception, another exception occurred:\n",
            "\u001b[0;31mKeyError\u001b[0m                                  Traceback (most recent call last)",
            "\u001b[0;32m<ipython-input-76-a9363f3e3aa1>\u001b[0m in \u001b[0;36m<module>\u001b[0;34m()\u001b[0m\n\u001b[1;32m     13\u001b[0m \u001b[0;34m\u001b[0m\u001b[0m\n\u001b[1;32m     14\u001b[0m \u001b[0;32mfor\u001b[0m \u001b[0mi\u001b[0m \u001b[0;32min\u001b[0m \u001b[0mbatches\u001b[0m\u001b[0;34m:\u001b[0m\u001b[0;34m\u001b[0m\u001b[0;34m\u001b[0m\u001b[0m\n\u001b[0;32m---> 15\u001b[0;31m   \u001b[0messays\u001b[0m\u001b[0;34m,\u001b[0m \u001b[0mage\u001b[0m\u001b[0;34m,\u001b[0m \u001b[0moriginal_data\u001b[0m\u001b[0;34m,\u001b[0m \u001b[0mage_label\u001b[0m \u001b[0;34m=\u001b[0m \u001b[0mprepare_age\u001b[0m\u001b[0;34m(\u001b[0m\u001b[0mi\u001b[0m\u001b[0;34m,\u001b[0m \u001b[0;34m[\u001b[0m\u001b[0;34m]\u001b[0m\u001b[0;34m,\u001b[0m \u001b[0;34m[\u001b[0m\u001b[0;34m]\u001b[0m\u001b[0;34m,\u001b[0m \u001b[0;34m[\u001b[0m\u001b[0;34m]\u001b[0m\u001b[0;34m,\u001b[0m \u001b[0;34m[\u001b[0m\u001b[0;34m]\u001b[0m\u001b[0;34m)\u001b[0m\u001b[0;34m\u001b[0m\u001b[0;34m\u001b[0m\u001b[0m\n\u001b[0m\u001b[1;32m     16\u001b[0m \u001b[0;34m\u001b[0m\u001b[0m\n\u001b[1;32m     17\u001b[0m   \u001b[0mfeatures\u001b[0m\u001b[0;34m,\u001b[0m \u001b[0mage_label\u001b[0m \u001b[0;34m=\u001b[0m \u001b[0mextract_features\u001b[0m\u001b[0;34m(\u001b[0m\u001b[0messays\u001b[0m\u001b[0;34m,\u001b[0m \u001b[0mage_label\u001b[0m\u001b[0;34m)\u001b[0m\u001b[0;34m\u001b[0m\u001b[0;34m\u001b[0m\u001b[0m\n",
            "\u001b[0;32m<ipython-input-3-a9fa3da82b07>\u001b[0m in \u001b[0;36mprepare_age\u001b[0;34m(start, essays, age, original_data, age_label)\u001b[0m\n\u001b[1;32m      3\u001b[0m \u001b[0;34m\u001b[0m\u001b[0m\n\u001b[1;32m      4\u001b[0m   \u001b[0;32mfor\u001b[0m \u001b[0mi\u001b[0m \u001b[0;32min\u001b[0m \u001b[0mrange\u001b[0m\u001b[0;34m(\u001b[0m\u001b[0mstart\u001b[0m\u001b[0;34m,\u001b[0m \u001b[0mstart\u001b[0m\u001b[0;34m+\u001b[0m\u001b[0mdata_length\u001b[0m\u001b[0;34m)\u001b[0m\u001b[0;34m:\u001b[0m\u001b[0;34m\u001b[0m\u001b[0;34m\u001b[0m\u001b[0m\n\u001b[0;32m----> 5\u001b[0;31m     \u001b[0mposter_age\u001b[0m \u001b[0;34m=\u001b[0m \u001b[0mint\u001b[0m\u001b[0;34m(\u001b[0m\u001b[0mdata\u001b[0m\u001b[0;34m[\u001b[0m\u001b[0mi\u001b[0m\u001b[0;34m]\u001b[0m\u001b[0;34m[\u001b[0m\u001b[0;34m'age'\u001b[0m\u001b[0;34m]\u001b[0m\u001b[0;34m)\u001b[0m\u001b[0;34m\u001b[0m\u001b[0;34m\u001b[0m\u001b[0m\n\u001b[0m\u001b[1;32m      6\u001b[0m     \u001b[0mpost\u001b[0m \u001b[0;34m=\u001b[0m \u001b[0mdata\u001b[0m\u001b[0;34m[\u001b[0m\u001b[0mi\u001b[0m\u001b[0;34m]\u001b[0m\u001b[0;34m[\u001b[0m\u001b[0;34m'post'\u001b[0m\u001b[0;34m]\u001b[0m\u001b[0;34m\u001b[0m\u001b[0;34m\u001b[0m\u001b[0m\n\u001b[1;32m      7\u001b[0m     \u001b[0mtokens\u001b[0m \u001b[0;34m=\u001b[0m \u001b[0mregexp_tokenize\u001b[0m\u001b[0;34m(\u001b[0m\u001b[0mpost\u001b[0m\u001b[0;34m,\u001b[0m \u001b[0mdefault_pattern\u001b[0m\u001b[0;34m)\u001b[0m\u001b[0;34m\u001b[0m\u001b[0;34m\u001b[0m\u001b[0m\n",
            "\u001b[0;32m/usr/local/lib/python3.6/dist-packages/pandas/core/frame.py\u001b[0m in \u001b[0;36m__getitem__\u001b[0;34m(self, key)\u001b[0m\n\u001b[1;32m   2798\u001b[0m             \u001b[0;32mif\u001b[0m \u001b[0mself\u001b[0m\u001b[0;34m.\u001b[0m\u001b[0mcolumns\u001b[0m\u001b[0;34m.\u001b[0m\u001b[0mnlevels\u001b[0m \u001b[0;34m>\u001b[0m \u001b[0;36m1\u001b[0m\u001b[0;34m:\u001b[0m\u001b[0;34m\u001b[0m\u001b[0;34m\u001b[0m\u001b[0m\n\u001b[1;32m   2799\u001b[0m                 \u001b[0;32mreturn\u001b[0m \u001b[0mself\u001b[0m\u001b[0;34m.\u001b[0m\u001b[0m_getitem_multilevel\u001b[0m\u001b[0;34m(\u001b[0m\u001b[0mkey\u001b[0m\u001b[0;34m)\u001b[0m\u001b[0;34m\u001b[0m\u001b[0;34m\u001b[0m\u001b[0m\n\u001b[0;32m-> 2800\u001b[0;31m             \u001b[0mindexer\u001b[0m \u001b[0;34m=\u001b[0m \u001b[0mself\u001b[0m\u001b[0;34m.\u001b[0m\u001b[0mcolumns\u001b[0m\u001b[0;34m.\u001b[0m\u001b[0mget_loc\u001b[0m\u001b[0;34m(\u001b[0m\u001b[0mkey\u001b[0m\u001b[0;34m)\u001b[0m\u001b[0;34m\u001b[0m\u001b[0;34m\u001b[0m\u001b[0m\n\u001b[0m\u001b[1;32m   2801\u001b[0m             \u001b[0;32mif\u001b[0m \u001b[0mis_integer\u001b[0m\u001b[0;34m(\u001b[0m\u001b[0mindexer\u001b[0m\u001b[0;34m)\u001b[0m\u001b[0;34m:\u001b[0m\u001b[0;34m\u001b[0m\u001b[0;34m\u001b[0m\u001b[0m\n\u001b[1;32m   2802\u001b[0m                 \u001b[0mindexer\u001b[0m \u001b[0;34m=\u001b[0m \u001b[0;34m[\u001b[0m\u001b[0mindexer\u001b[0m\u001b[0;34m]\u001b[0m\u001b[0;34m\u001b[0m\u001b[0;34m\u001b[0m\u001b[0m\n",
            "\u001b[0;32m/usr/local/lib/python3.6/dist-packages/pandas/core/indexes/base.py\u001b[0m in \u001b[0;36mget_loc\u001b[0;34m(self, key, method, tolerance)\u001b[0m\n\u001b[1;32m   2646\u001b[0m                 \u001b[0;32mreturn\u001b[0m \u001b[0mself\u001b[0m\u001b[0;34m.\u001b[0m\u001b[0m_engine\u001b[0m\u001b[0;34m.\u001b[0m\u001b[0mget_loc\u001b[0m\u001b[0;34m(\u001b[0m\u001b[0mkey\u001b[0m\u001b[0;34m)\u001b[0m\u001b[0;34m\u001b[0m\u001b[0;34m\u001b[0m\u001b[0m\n\u001b[1;32m   2647\u001b[0m             \u001b[0;32mexcept\u001b[0m \u001b[0mKeyError\u001b[0m\u001b[0;34m:\u001b[0m\u001b[0;34m\u001b[0m\u001b[0;34m\u001b[0m\u001b[0m\n\u001b[0;32m-> 2648\u001b[0;31m                 \u001b[0;32mreturn\u001b[0m \u001b[0mself\u001b[0m\u001b[0;34m.\u001b[0m\u001b[0m_engine\u001b[0m\u001b[0;34m.\u001b[0m\u001b[0mget_loc\u001b[0m\u001b[0;34m(\u001b[0m\u001b[0mself\u001b[0m\u001b[0;34m.\u001b[0m\u001b[0m_maybe_cast_indexer\u001b[0m\u001b[0;34m(\u001b[0m\u001b[0mkey\u001b[0m\u001b[0;34m)\u001b[0m\u001b[0;34m)\u001b[0m\u001b[0;34m\u001b[0m\u001b[0;34m\u001b[0m\u001b[0m\n\u001b[0m\u001b[1;32m   2649\u001b[0m         \u001b[0mindexer\u001b[0m \u001b[0;34m=\u001b[0m \u001b[0mself\u001b[0m\u001b[0;34m.\u001b[0m\u001b[0mget_indexer\u001b[0m\u001b[0;34m(\u001b[0m\u001b[0;34m[\u001b[0m\u001b[0mkey\u001b[0m\u001b[0;34m]\u001b[0m\u001b[0;34m,\u001b[0m \u001b[0mmethod\u001b[0m\u001b[0;34m=\u001b[0m\u001b[0mmethod\u001b[0m\u001b[0;34m,\u001b[0m \u001b[0mtolerance\u001b[0m\u001b[0;34m=\u001b[0m\u001b[0mtolerance\u001b[0m\u001b[0;34m)\u001b[0m\u001b[0;34m\u001b[0m\u001b[0;34m\u001b[0m\u001b[0m\n\u001b[1;32m   2650\u001b[0m         \u001b[0;32mif\u001b[0m \u001b[0mindexer\u001b[0m\u001b[0;34m.\u001b[0m\u001b[0mndim\u001b[0m \u001b[0;34m>\u001b[0m \u001b[0;36m1\u001b[0m \u001b[0;32mor\u001b[0m \u001b[0mindexer\u001b[0m\u001b[0;34m.\u001b[0m\u001b[0msize\u001b[0m \u001b[0;34m>\u001b[0m \u001b[0;36m1\u001b[0m\u001b[0;34m:\u001b[0m\u001b[0;34m\u001b[0m\u001b[0;34m\u001b[0m\u001b[0m\n",
            "\u001b[0;32mpandas/_libs/index.pyx\u001b[0m in \u001b[0;36mpandas._libs.index.IndexEngine.get_loc\u001b[0;34m()\u001b[0m\n",
            "\u001b[0;32mpandas/_libs/index.pyx\u001b[0m in \u001b[0;36mpandas._libs.index.IndexEngine.get_loc\u001b[0;34m()\u001b[0m\n",
            "\u001b[0;32mpandas/_libs/hashtable_class_helper.pxi\u001b[0m in \u001b[0;36mpandas._libs.hashtable.PyObjectHashTable.get_item\u001b[0;34m()\u001b[0m\n",
            "\u001b[0;32mpandas/_libs/hashtable_class_helper.pxi\u001b[0m in \u001b[0;36mpandas._libs.hashtable.PyObjectHashTable.get_item\u001b[0;34m()\u001b[0m\n",
            "\u001b[0;31mKeyError\u001b[0m: 0"
          ]
        }
      ]
    },
    {
      "cell_type": "code",
      "metadata": {
        "id": "g6ITZ4vlzIJX",
        "colab_type": "code",
        "colab": {}
      },
      "source": [
        "filename = 'age_pentel_model.sav'\n",
        "pickle.dump(classifier, open(filename, 'wb'))"
      ],
      "execution_count": 0,
      "outputs": []
    },
    {
      "cell_type": "markdown",
      "metadata": {
        "id": "e-9lOnavXHGX",
        "colab_type": "text"
      },
      "source": [
        "**Using f-features:**"
      ]
    },
    {
      "cell_type": "code",
      "metadata": {
        "id": "tab2B_imW0oA",
        "colab_type": "code",
        "outputId": "15683496-288e-4bd6-8b23-f108134b8569",
        "colab": {
          "base_uri": "https://localhost:8080/",
          "height": 237
        }
      },
      "source": [
        "###------SVM WITH F FEATURES-------\n",
        "import sklearn\n",
        "from sklearn.svm import SVC\n",
        "from sklearn.metrics import accuracy_score\n",
        "classifier = OneVsRestClassifier(SVC())\n",
        "\n",
        "batches = []\n",
        "acc = 0\n",
        "for i in batches:\n",
        "  essays, age, original_data = prepare_age(i, [], [], [])\n",
        "  pos_features = POS(essays)\n",
        "  f_feature = f(pos_features, tagdict)\n",
        "  length = len(essays)\n",
        "  trainlength = round(0.8*length)\n",
        "  features = f_feature\n",
        "  Xtrain = np.asarray(features[:trainlength])\n",
        "  Ytrain = np.asarray(age[:trainlength])\n",
        "\n",
        "  Xtrain = Xtrain.reshape(-1, 1)\n",
        "  classifier.fit(Xtrain, Ytrain)\n",
        "\n",
        "  Xtest = np.asarray(features[trainlength:])\n",
        "  Ytest = np.asarray(age[trainlength:])\n",
        "\n",
        "  Xtest = Xtest.reshape(-1, 1)\n",
        "\n",
        "  pred = classifier.predict(Xtest)\n",
        "  acc += accuracy_score(Ytest, pred)\n",
        "  print('Batch', batches.index(i), ':', accuracy_score(Ytest, pred))\n",
        "print('Overall accuracy:', acc/len(batches))"
      ],
      "execution_count": 0,
      "outputs": [
        {
          "output_type": "error",
          "ename": "NameError",
          "evalue": "ignored",
          "traceback": [
            "\u001b[0;31m---------------------------------------------------------------------------\u001b[0m",
            "\u001b[0;31mNameError\u001b[0m                                 Traceback (most recent call last)",
            "\u001b[0;32m<ipython-input-26-813af514a892>\u001b[0m in \u001b[0;36m<module>\u001b[0;34m()\u001b[0m\n\u001b[1;32m      8\u001b[0m   \u001b[0messays\u001b[0m\u001b[0;34m,\u001b[0m \u001b[0mage\u001b[0m\u001b[0;34m,\u001b[0m \u001b[0moriginal_data\u001b[0m \u001b[0;34m=\u001b[0m \u001b[0mprepare_age\u001b[0m\u001b[0;34m(\u001b[0m\u001b[0mi\u001b[0m\u001b[0;34m,\u001b[0m \u001b[0;34m[\u001b[0m\u001b[0;34m]\u001b[0m\u001b[0;34m,\u001b[0m \u001b[0;34m[\u001b[0m\u001b[0;34m]\u001b[0m\u001b[0;34m,\u001b[0m \u001b[0;34m[\u001b[0m\u001b[0;34m]\u001b[0m\u001b[0;34m)\u001b[0m\u001b[0;34m\u001b[0m\u001b[0;34m\u001b[0m\u001b[0m\n\u001b[1;32m      9\u001b[0m   \u001b[0mpos_features\u001b[0m \u001b[0;34m=\u001b[0m \u001b[0mPOS\u001b[0m\u001b[0;34m(\u001b[0m\u001b[0messays\u001b[0m\u001b[0;34m)\u001b[0m\u001b[0;34m\u001b[0m\u001b[0;34m\u001b[0m\u001b[0m\n\u001b[0;32m---> 10\u001b[0;31m   \u001b[0mf_feature\u001b[0m \u001b[0;34m=\u001b[0m \u001b[0mf\u001b[0m\u001b[0;34m(\u001b[0m\u001b[0mpos_features\u001b[0m\u001b[0;34m,\u001b[0m \u001b[0mtagdict\u001b[0m\u001b[0;34m)\u001b[0m\u001b[0;34m\u001b[0m\u001b[0;34m\u001b[0m\u001b[0m\n\u001b[0m\u001b[1;32m     11\u001b[0m   \u001b[0mlength\u001b[0m \u001b[0;34m=\u001b[0m \u001b[0mlen\u001b[0m\u001b[0;34m(\u001b[0m\u001b[0messays\u001b[0m\u001b[0;34m)\u001b[0m\u001b[0;34m\u001b[0m\u001b[0;34m\u001b[0m\u001b[0m\n\u001b[1;32m     12\u001b[0m   \u001b[0mtrainlength\u001b[0m \u001b[0;34m=\u001b[0m \u001b[0mround\u001b[0m\u001b[0;34m(\u001b[0m\u001b[0;36m0.8\u001b[0m\u001b[0;34m*\u001b[0m\u001b[0mlength\u001b[0m\u001b[0;34m)\u001b[0m\u001b[0;34m\u001b[0m\u001b[0;34m\u001b[0m\u001b[0m\n",
            "\u001b[0;31mNameError\u001b[0m: name 'f' is not defined"
          ]
        }
      ]
    },
    {
      "cell_type": "markdown",
      "metadata": {
        "id": "iAmTguimgbSL",
        "colab_type": "text"
      },
      "source": [
        "**Using possessives:**"
      ]
    },
    {
      "cell_type": "code",
      "metadata": {
        "id": "5BnbIBsjcwJ6",
        "colab_type": "code",
        "outputId": "b0d8df8f-8f5e-4539-e790-18a7eac18ad3",
        "colab": {
          "base_uri": "https://localhost:8080/",
          "height": 69
        }
      },
      "source": [
        "###-----KNN WITH POSSESSIVES FEATURES---------\n",
        "from sklearn.neighbors import NearestNeighbors\n",
        "from sklearn import neighbors\n",
        "from sklearn.metrics import accuracy_score\n",
        "\n",
        "#6000:51, 10000:52.45\n",
        "num = 10000\n",
        "labels = age_label[:num]\n",
        "data = essays[:num]\n",
        "\n",
        "my_feature, other_feature, total_dict = possessives_features(data)\n",
        "\n",
        "length = len(my_feature)\n",
        "print(length)\n",
        "trainlength = round(0.8*length)\n",
        "features = my_feature\n",
        "Xtrain = np.asarray(features[:trainlength])\n",
        "Ytrain = np.asarray(labels[:trainlength])\n",
        "\n",
        "clf = neighbors.KNeighborsClassifier(75)\n",
        "clf.fit(Xtrain, Ytrain)\n",
        "\n",
        "Xtest = np.asarray(features[trainlength:])\n",
        "Ytest = np.asarray(labels[trainlength:])\n",
        "\n",
        "#Xtest = Xtest.reshape(-1, 1)\n",
        "\n",
        "pred = clf.predict(Xtest)\n",
        "print(accuracy_score(Ytest, pred))"
      ],
      "execution_count": 0,
      "outputs": [
        {
          "output_type": "stream",
          "text": [
            "dict len is 5437 index 5437\n",
            "10000\n",
            "0.5405\n"
          ],
          "name": "stdout"
        }
      ]
    },
    {
      "cell_type": "code",
      "metadata": {
        "id": "_ZDjwjm6gZFa",
        "colab_type": "code",
        "outputId": "048e4ed9-cbbe-4c6c-df3a-2974049c3280",
        "colab": {
          "base_uri": "https://localhost:8080/",
          "height": 660
        }
      },
      "source": [
        "import sklearn\n",
        "from sklearn.metrics import accuracy_score\n",
        "\n",
        "all_essays = []\n",
        "all_scores = []\n",
        "norm_score = []\n",
        "y = []\n",
        "\n",
        "classifier = pickle.load(open('age_pentel_model.sav', 'rb'))\n",
        "c1 = 0\n",
        "c2 = 0\n",
        "\n",
        "for idx in range(len(data)):\n",
        "  all_essays.append(data.iloc[idx][essay_key])\n",
        "  all_scores.append(data.iloc[idx][domain1_score_key])\n",
        "  set_id = data.iloc[idx][essay_set_key]\n",
        "  if set_id == 7 or set_id == 1 or set_id == 5: #grades 7-8\n",
        "    y.append(1)\n",
        "    c1 += 1\n",
        "  elif set_id == 2 or set_id == 3 or set_id == 4 or set_id == 6 or set_id == 8:\n",
        "    y.append(2)\n",
        "    c2 += 1\n",
        "  sc = data.iloc[idx][domain1_score_key]\n",
        "  if set_id == 1:\n",
        "    norm_score.append(sc/12)\n",
        "  elif set_id == 2:\n",
        "    norm_score.append(sc/6)\n",
        "  elif set_id == 3 or set_id == 4:\n",
        "    norm_score.append(sc/3)\n",
        "  elif set_id == 5 or set_id == 6:\n",
        "    norm_score.append(sc/4)\n",
        "  elif set_id == 7:\n",
        "    norm_score.append(sc/30)\n",
        "  else:\n",
        "    norm_score.append(sc/60)\n",
        "\n",
        "\n",
        "\n",
        "\n",
        "\n",
        "print('Grade 7-8:', c1)\n",
        "print('Grade 9-10:', c2)\n",
        "\n",
        "e = prepare_test(all_essays)\n",
        "e = np.asarray(e)\n",
        "\n",
        "#e_feats = POS(e)\n",
        "e_feats = pentel_features(e)\n",
        "y = np.asarray(y)\n",
        "\n",
        "pred = classifier.predict(e_feats)\n",
        "y_pred = np.round(pred)\n",
        "print('Accuracy score on HP dataset:',accuracy_score(y, y_pred))\n",
        "\n",
        "score1 = 0\n",
        "score2 = 0\n",
        "count1 = 0\n",
        "count2 = 0\n",
        "count3 = 0\n",
        "score3 = 0\n",
        "\n",
        "f1 = np.zeros(len(e_feats[0]))\n",
        "f2 = np.zeros(len(e_feats[0]))\n",
        "f3 = np.copy(f2)\n",
        "\n",
        "for i in range(len(e_feats)):\n",
        "  if y[i] == 1: \n",
        "    score1 += norm_score[i]\n",
        "    count1 += 1\n",
        "    f1 += e_feats[i]\n",
        "  else:\n",
        "    score2 += norm_score[i]\n",
        "    count2 += 1\n",
        "    f2 += e_feats[i]\n",
        "  if norm_score[i] > 0.8:\n",
        "    f3 += e_feats[i]\n",
        "    score3 += norm_score[i]\n",
        "    count3 += 1\n",
        "\n",
        "print('Observing bias:\\n')\n",
        "print('7-8 graders average score:', score1/count1)\n",
        "print('9-10 graders average score:', score2/count2)\n",
        "\n",
        "f1 = f1/count1\n",
        "f2 = f2/count2\n",
        "\n",
        ",\n",
        "print('\\n')\n",
        "print('Feature:                                     ', 'Avg value for 7-8 graders    ', 'Avg value for 9-10 graders')\n",
        "print('Avg no of characters in a word               ', f1[0],'                       ', f2[0])\n",
        "print('Avg no of words in an entry                  ', f1[1],'                       ', f2[1])\n",
        "print('Avg ratio of complex words to all words      ', f1[2],'                       ', f2[2])\n",
        "print('Avg number of syllables per word             ', f1[3],'                       ', f2[3])\n",
        "print('Avg ratio of 1-syllable words to all words   ', f1[4],'                       ', f2[4])\n",
        "print('Avg ratio of 2-syllable words to all words   ', f1[5],'                       ', f2[5])\n",
        "print('Avg ratio of 3-syllable words to all words   ', f1[6],'                       ', f2[6])\n",
        "print('Avg ratio of 4-syllable words to all words   ', f1[7],'                       ', f2[7])\n",
        "print('Avg ratio of 5-syllable words to all words   ', f1[8],'                       ', f2[8])\n",
        "print('Avg ratio of 6-syllable words to all words   ', f1[9],'                       ', f2[9])\n",
        "print('Avg ratio of 7-syllable words to all words   ', f1[10],'                      ', f2[10])\n",
        "print('Avg ratio of 8-syllable words to all words   ', f1[11],'                                        ', f2[11])\n",
        "\n",
        "print('\\n Average feature for a score higher than 0.8:\\n')\n",
        "f3 = f3/count3\n",
        "print('Avg no of characters in a word             ', f3[0])\n",
        "print('Avg no of words in an entry                ', f3[1])\n",
        "print('Avg ratio of complex words to all words     ', f3[2])\n",
        "print('Avg number of syllables per word            ', f3[3])\n",
        "print('Avg ratio of 1-syllable words to all words ', f3[4])\n",
        "print('Avg ratio of 2-syllable words to all words', f3[5])\n",
        "print('Avg ratio of 3-syllable words to all words', f3[6])\n",
        "print('Avg ratio of 4-syllable words to all words', f3[7])\n",
        "print('Avg ratio of 5-syllable words to all words', f3[8])\n",
        "print('Avg ratio of 6-syllable words to all words ', f3[9])\n",
        "print('Avg ratio of 7-syllable words to all words', f3[10])\n",
        "print('Avg ratio of 8-syllable words to all words', f3[11])"
      ],
      "execution_count": 0,
      "outputs": [
        {
          "output_type": "stream",
          "text": [
            "Grade 7-8: 5157\n",
            "Grade 9-10: 7819\n",
            "Accuracy score on HP dataset: 0.6025739827373613\n",
            "Observing bias:\n",
            "\n",
            "7-8 graders average score: 0.6193975825738465\n",
            "9-10 graders average score: 0.5885982862258675\n",
            "\n",
            "\n",
            "Feature:                                      Avg value for 7-8 graders     Avg value for 9-10 graders\n",
            "Avg no of characters in a word                4.213243290946323                         4.346382762791239\n",
            "Avg no of words in an entry                   220.93368237347295                         224.85829389947563\n",
            "Avg ratio of complex words to all words       0.01207175405801296                         0.016911816334866284\n",
            "Avg number of syllables per word              0.3351132753186762                         0.3371852009780049\n",
            "Avg ratio of 1-syllable words to all words    0.1801288431016428                         0.18407552350903708\n",
            "Avg ratio of 2-syllable words to all words    0.057745837386756635                         0.05004014451095775\n",
            "Avg ratio of 3-syllable words to all words    0.00891024079408362                         0.014750883025668862\n",
            "Avg ratio of 4-syllable words to all words    0.003073361525833735                         0.002042275306007292\n",
            "Avg ratio of 5-syllable words to all words    7.53870235103724e-05                         0.00010548446695250919\n",
            "Avg ratio of 6-syllable words to all words    6.0463320887025515e-06                         1.2458991300701012e-05\n",
            "Avg ratio of 7-syllable words to all words    6.07629246782974e-06                        5.611953055720588e-07\n",
            "Avg ratio of 8-syllable words to all words    0.0                                          0.0\n",
            "\n",
            " Average feature for a score higher than 0.8:\n",
            "\n",
            "Avg no of characters in a word              4.508371301935448\n",
            "Avg no of words in an entry                 285.4650293646556\n",
            "Avg ratio of complex words to all words      0.022461642610245105\n",
            "Avg number of syllables per word             0.40204617158268846\n",
            "Avg ratio of 1-syllable words to all words  0.19002592542003335\n",
            "Avg ratio of 2-syllable words to all words 0.07013075493503657\n",
            "Avg ratio of 3-syllable words to all words 0.018311417941750792\n",
            "Avg ratio of 4-syllable words to all words 0.003958983336918563\n",
            "Avg ratio of 5-syllable words to all words 0.0001682490059253526\n",
            "Avg ratio of 6-syllable words to all words  1.556270329999636e-05\n",
            "Avg ratio of 7-syllable words to all words 6.789451091798165e-06\n",
            "Avg ratio of 8-syllable words to all words 0.0\n"
          ],
          "name": "stdout"
        }
      ]
    },
    {
      "cell_type": "code",
      "metadata": {
        "id": "dcvUo5PTq17J",
        "colab_type": "code",
        "colab": {}
      },
      "source": [
        ""
      ],
      "execution_count": 0,
      "outputs": []
    }
  ]
}